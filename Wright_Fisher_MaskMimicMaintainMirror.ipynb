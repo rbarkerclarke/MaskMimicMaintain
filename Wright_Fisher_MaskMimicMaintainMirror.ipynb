{
 "cells": [
  {
   "cell_type": "markdown",
   "id": "a087912f",
   "metadata": {
    "id": "a087912f",
    "tags": []
   },
   "source": [
    "# Wright-Fisher model of mutation and random genetic drift\n",
    "\n",
    "A Wright-Fisher model has a fixed population size N and discrete non-overlapping generations. Each generation, each individual has a random number of offspring whose mean is proportional to the individual's fitness. Each generation, mutation may occur.\n",
    "\n",
    "Setup"
   ]
  },
  {
   "cell_type": "code",
   "execution_count": 8,
   "id": "32e8bf05-fe4e-49f2-9dad-94baa1d163b1",
   "metadata": {
    "tags": []
   },
   "outputs": [
    {
     "name": "stdout",
     "output_type": "stream",
     "text": [
      "\u001b[33mDEPRECATION: Configuring installation scheme with distutils config files is deprecated and will no longer work in the near future. If you are using a Homebrew or Linuxbrew Python, please see discussion at https://github.com/Homebrew/homebrew-core/issues/76621\u001b[0m\u001b[33m\n",
      "\u001b[0mRequirement already satisfied: pip in /usr/local/lib/python3.9/site-packages (24.0)\n",
      "\u001b[33mDEPRECATION: pytorch-lightning 1.5.9 has a non-standard dependency specifier torch>=1.7.*. pip 24.1 will enforce this behaviour change. A possible replacement is to upgrade to a newer version of pytorch-lightning or contact the author to suggest that they release a version with a conforming dependency specifiers. Discussion can be found at https://github.com/pypa/pip/issues/12063\u001b[0m\u001b[33m\n",
      "\u001b[0m\u001b[33mDEPRECATION: Configuring installation scheme with distutils config files is deprecated and will no longer work in the near future. If you are using a Homebrew or Linuxbrew Python, please see discussion at https://github.com/Homebrew/homebrew-core/issues/76621\u001b[0m\u001b[33m\n",
      "\u001b[0m"
     ]
    }
   ],
   "source": [
    "import sys\n",
    "!{sys.executable} -m pip install --upgrade pip"
   ]
  },
  {
   "cell_type": "code",
   "execution_count": 9,
   "id": "43eb7883-76ea-4fd8-b30a-053e99ddd721",
   "metadata": {
    "tags": []
   },
   "outputs": [
    {
     "name": "stdout",
     "output_type": "stream",
     "text": [
      "\u001b[33mDEPRECATION: Configuring installation scheme with distutils config files is deprecated and will no longer work in the near future. If you are using a Homebrew or Linuxbrew Python, please see discussion at https://github.com/Homebrew/homebrew-core/issues/76621\u001b[0m\u001b[33m\n",
      "\u001b[0mRequirement already satisfied: matplotlib in /usr/local/lib/python3.9/site-packages (3.8.4)\n",
      "Collecting matplotlib\n",
      "  Downloading matplotlib-3.9.0-cp39-cp39-macosx_10_12_x86_64.whl.metadata (11 kB)\n",
      "Requirement already satisfied: contourpy>=1.0.1 in /usr/local/lib/python3.9/site-packages (from matplotlib) (1.2.0)\n",
      "Requirement already satisfied: cycler>=0.10 in /usr/local/lib/python3.9/site-packages (from matplotlib) (0.10.0)\n",
      "Requirement already satisfied: fonttools>=4.22.0 in /usr/local/lib/python3.9/site-packages (from matplotlib) (4.49.0)\n",
      "Requirement already satisfied: kiwisolver>=1.3.1 in /usr/local/lib/python3.9/site-packages (from matplotlib) (1.3.1)\n",
      "Requirement already satisfied: numpy>=1.23 in /usr/local/lib/python3.9/site-packages (from matplotlib) (1.26.4)\n",
      "Requirement already satisfied: packaging>=20.0 in /usr/local/lib/python3.9/site-packages (from matplotlib) (21.3)\n",
      "Requirement already satisfied: pillow>=8 in /usr/local/lib/python3.9/site-packages (from matplotlib) (9.0.1)\n",
      "Requirement already satisfied: pyparsing>=2.3.1 in /usr/local/lib/python3.9/site-packages (from matplotlib) (2.4.7)\n",
      "Requirement already satisfied: python-dateutil>=2.7 in /usr/local/lib/python3.9/site-packages (from matplotlib) (2.8.2)\n",
      "Requirement already satisfied: importlib-resources>=3.2.0 in /usr/local/lib/python3.9/site-packages (from matplotlib) (6.1.3)\n",
      "Requirement already satisfied: six in /usr/local/lib/python3.9/site-packages (from cycler>=0.10->matplotlib) (1.16.0)\n",
      "Requirement already satisfied: zipp>=3.1.0 in /usr/local/lib/python3.9/site-packages (from importlib-resources>=3.2.0->matplotlib) (3.7.0)\n",
      "Downloading matplotlib-3.9.0-cp39-cp39-macosx_10_12_x86_64.whl (7.9 MB)\n",
      "\u001b[2K   \u001b[90m━━━━━━━━━━━━━━━━━━━━━━━━━━━━━━━━━━━━━━━━\u001b[0m \u001b[32m7.9/7.9 MB\u001b[0m \u001b[31m21.9 MB/s\u001b[0m eta \u001b[36m0:00:00\u001b[0m00:01\u001b[0m00:01\u001b[0m\n",
      "\u001b[?25h\u001b[33mDEPRECATION: pytorch-lightning 1.5.9 has a non-standard dependency specifier torch>=1.7.*. pip 24.1 will enforce this behaviour change. A possible replacement is to upgrade to a newer version of pytorch-lightning or contact the author to suggest that they release a version with a conforming dependency specifiers. Discussion can be found at https://github.com/pypa/pip/issues/12063\u001b[0m\u001b[33m\n",
      "\u001b[0mInstalling collected packages: matplotlib\n",
      "  Attempting uninstall: matplotlib\n",
      "    Found existing installation: matplotlib 3.8.4\n",
      "    Uninstalling matplotlib-3.8.4:\n",
      "      Successfully uninstalled matplotlib-3.8.4\n",
      "\u001b[33m  DEPRECATION: Configuring installation scheme with distutils config files is deprecated and will no longer work in the near future. If you are using a Homebrew or Linuxbrew Python, please see discussion at https://github.com/Homebrew/homebrew-core/issues/76621\u001b[0m\u001b[33m\n",
      "\u001b[0m\u001b[33mDEPRECATION: Configuring installation scheme with distutils config files is deprecated and will no longer work in the near future. If you are using a Homebrew or Linuxbrew Python, please see discussion at https://github.com/Homebrew/homebrew-core/issues/76621\u001b[0m\u001b[33m\n",
      "\u001b[0mSuccessfully installed matplotlib-3.9.0\n"
     ]
    }
   ],
   "source": [
    "#!{sys.executable} -m pip install seaborn --upgrade\n",
    "!{sys.executable} -m pip install matplotlib --upgrade\n",
    "#!{sys.executable} -m pip install pandas --upgrade\n",
    "#!{sys.executable} -m pip install numpy --upgrade"
   ]
  },
  {
   "cell_type": "code",
   "execution_count": 10,
   "id": "d556a3bb-f3a3-45df-bf4b-fcf96b141a2e",
   "metadata": {
    "tags": []
   },
   "outputs": [
    {
     "name": "stdout",
     "output_type": "stream",
     "text": [
      "\u001b[33mDEPRECATION: Configuring installation scheme with distutils config files is deprecated and will no longer work in the near future. If you are using a Homebrew or Linuxbrew Python, please see discussion at https://github.com/Homebrew/homebrew-core/issues/76621\u001b[0m\u001b[33m\n",
      "\u001b[0mRequirement already satisfied: ipywidgets==7.7.2 in /usr/local/lib/python3.9/site-packages (7.7.2)\n",
      "Requirement already satisfied: jupyterlab in /usr/local/lib/python3.9/site-packages (3.5.0)\n",
      "Requirement already satisfied: ipykernel>=4.5.1 in /usr/local/lib/python3.9/site-packages (from ipywidgets==7.7.2) (6.2.0)\n",
      "Requirement already satisfied: ipython-genutils~=0.2.0 in /usr/local/lib/python3.9/site-packages (from ipywidgets==7.7.2) (0.2.0)\n",
      "Requirement already satisfied: traitlets>=4.3.1 in /usr/local/lib/python3.9/site-packages (from ipywidgets==7.7.2) (5.5.0)\n",
      "Requirement already satisfied: widgetsnbextension~=3.6.0 in /usr/local/lib/python3.9/site-packages (from ipywidgets==7.7.2) (3.6.6)\n",
      "Requirement already satisfied: ipython>=4.0.0 in /usr/local/lib/python3.9/site-packages (from ipywidgets==7.7.2) (7.26.0)\n",
      "Requirement already satisfied: jupyterlab-widgets<3,>=1.0.0 in /usr/local/lib/python3.9/site-packages (from ipywidgets==7.7.2) (1.0.2)\n",
      "Requirement already satisfied: packaging in /usr/local/lib/python3.9/site-packages (from jupyterlab) (21.3)\n",
      "Requirement already satisfied: tornado>=6.1.0 in /usr/local/lib/python3.9/site-packages (from jupyterlab) (6.1)\n",
      "Requirement already satisfied: jupyter-core in /usr/local/lib/python3.9/site-packages (from jupyterlab) (4.7.1)\n",
      "Requirement already satisfied: jupyterlab-server~=2.10 in /usr/local/lib/python3.9/site-packages (from jupyterlab) (2.16.2)\n",
      "Requirement already satisfied: jupyter-server<3,>=1.16.0 in /usr/local/lib/python3.9/site-packages (from jupyterlab) (1.21.0)\n",
      "Requirement already satisfied: nbclassic in /usr/local/lib/python3.9/site-packages (from jupyterlab) (0.4.7)\n",
      "Requirement already satisfied: notebook<7 in /usr/local/lib/python3.9/site-packages (from jupyterlab) (6.4.8)\n",
      "Requirement already satisfied: jinja2>=2.1 in /usr/local/lib/python3.9/site-packages (from jupyterlab) (3.1.2)\n",
      "Requirement already satisfied: tomli in /usr/local/lib/python3.9/site-packages (from jupyterlab) (2.0.1)\n",
      "Requirement already satisfied: debugpy<2.0,>=1.0.0 in /usr/local/lib/python3.9/site-packages (from ipykernel>=4.5.1->ipywidgets==7.7.2) (1.4.1)\n",
      "Requirement already satisfied: jupyter-client<8.0 in /usr/local/lib/python3.9/site-packages (from ipykernel>=4.5.1->ipywidgets==7.7.2) (7.0.1)\n",
      "Requirement already satisfied: matplotlib-inline<0.2.0,>=0.1.0 in /usr/local/lib/python3.9/site-packages (from ipykernel>=4.5.1->ipywidgets==7.7.2) (0.1.2)\n",
      "Requirement already satisfied: appnope in /usr/local/lib/python3.9/site-packages (from ipykernel>=4.5.1->ipywidgets==7.7.2) (0.1.2)\n",
      "Requirement already satisfied: setuptools>=18.5 in /usr/local/lib/python3.9/site-packages (from ipython>=4.0.0->ipywidgets==7.7.2) (68.1.2)\n",
      "Requirement already satisfied: jedi>=0.16 in /usr/local/lib/python3.9/site-packages (from ipython>=4.0.0->ipywidgets==7.7.2) (0.18.0)\n",
      "Requirement already satisfied: decorator in /usr/local/lib/python3.9/site-packages (from ipython>=4.0.0->ipywidgets==7.7.2) (5.0.9)\n",
      "Requirement already satisfied: pickleshare in /usr/local/lib/python3.9/site-packages (from ipython>=4.0.0->ipywidgets==7.7.2) (0.7.5)\n",
      "Requirement already satisfied: prompt-toolkit!=3.0.0,!=3.0.1,<3.1.0,>=2.0.0 in /usr/local/lib/python3.9/site-packages (from ipython>=4.0.0->ipywidgets==7.7.2) (3.0.20)\n",
      "Requirement already satisfied: pygments in /usr/local/lib/python3.9/site-packages (from ipython>=4.0.0->ipywidgets==7.7.2) (2.14.0)\n",
      "Requirement already satisfied: backcall in /usr/local/lib/python3.9/site-packages (from ipython>=4.0.0->ipywidgets==7.7.2) (0.2.0)\n",
      "Requirement already satisfied: pexpect>4.3 in /usr/local/lib/python3.9/site-packages (from ipython>=4.0.0->ipywidgets==7.7.2) (4.8.0)\n",
      "Requirement already satisfied: MarkupSafe>=2.0 in /usr/local/lib/python3.9/site-packages (from jinja2>=2.1->jupyterlab) (2.1.2)\n",
      "Requirement already satisfied: anyio<4,>=3.1.0 in /usr/local/lib/python3.9/site-packages (from jupyter-server<3,>=1.16.0->jupyterlab) (3.6.2)\n",
      "Requirement already satisfied: argon2-cffi in /usr/local/lib/python3.9/site-packages (from jupyter-server<3,>=1.16.0->jupyterlab) (21.3.0)\n",
      "Requirement already satisfied: nbconvert>=6.4.4 in /usr/local/lib/python3.9/site-packages (from jupyter-server<3,>=1.16.0->jupyterlab) (7.2.3)\n",
      "Requirement already satisfied: nbformat>=5.2.0 in /usr/local/lib/python3.9/site-packages (from jupyter-server<3,>=1.16.0->jupyterlab) (5.2.0)\n",
      "Requirement already satisfied: prometheus-client in /usr/local/lib/python3.9/site-packages (from jupyter-server<3,>=1.16.0->jupyterlab) (0.13.0)\n",
      "Requirement already satisfied: pyzmq>=17 in /usr/local/lib/python3.9/site-packages (from jupyter-server<3,>=1.16.0->jupyterlab) (22.2.1)\n",
      "Requirement already satisfied: Send2Trash in /usr/local/lib/python3.9/site-packages (from jupyter-server<3,>=1.16.0->jupyterlab) (1.8.0)\n",
      "Requirement already satisfied: terminado>=0.8.3 in /usr/local/lib/python3.9/site-packages (from jupyter-server<3,>=1.16.0->jupyterlab) (0.12.1)\n",
      "Requirement already satisfied: websocket-client in /usr/local/lib/python3.9/site-packages (from jupyter-server<3,>=1.16.0->jupyterlab) (1.4.1)\n",
      "Requirement already satisfied: babel in /usr/local/lib/python3.9/site-packages (from jupyterlab-server~=2.10->jupyterlab) (2.11.0)\n",
      "Requirement already satisfied: importlib-metadata>=4.8.3 in /usr/local/lib/python3.9/site-packages (from jupyterlab-server~=2.10->jupyterlab) (6.8.0)\n",
      "Requirement already satisfied: json5 in /usr/local/lib/python3.9/site-packages (from jupyterlab-server~=2.10->jupyterlab) (0.9.10)\n",
      "Requirement already satisfied: jsonschema>=3.0.1 in /usr/local/lib/python3.9/site-packages (from jupyterlab-server~=2.10->jupyterlab) (4.4.0)\n",
      "Requirement already satisfied: requests in /usr/local/lib/python3.9/site-packages (from jupyterlab-server~=2.10->jupyterlab) (2.31.0)\n",
      "Requirement already satisfied: nest-asyncio>=1.5 in /usr/local/lib/python3.9/site-packages (from notebook<7->jupyterlab) (1.5.1)\n",
      "Requirement already satisfied: notebook-shim>=0.1.0 in /usr/local/lib/python3.9/site-packages (from nbclassic->jupyterlab) (0.2.0)\n",
      "Requirement already satisfied: pyparsing!=3.0.5,>=2.0.2 in /usr/local/lib/python3.9/site-packages (from packaging->jupyterlab) (2.4.7)\n",
      "Requirement already satisfied: idna>=2.8 in /usr/local/lib/python3.9/site-packages (from anyio<4,>=3.1.0->jupyter-server<3,>=1.16.0->jupyterlab) (3.3)\n",
      "Requirement already satisfied: sniffio>=1.1 in /usr/local/lib/python3.9/site-packages (from anyio<4,>=3.1.0->jupyter-server<3,>=1.16.0->jupyterlab) (1.3.0)\n",
      "Requirement already satisfied: zipp>=0.5 in /usr/local/lib/python3.9/site-packages (from importlib-metadata>=4.8.3->jupyterlab-server~=2.10->jupyterlab) (3.7.0)\n",
      "Requirement already satisfied: parso<0.9.0,>=0.8.0 in /usr/local/lib/python3.9/site-packages (from jedi>=0.16->ipython>=4.0.0->ipywidgets==7.7.2) (0.8.2)\n",
      "Requirement already satisfied: attrs>=17.4.0 in /usr/local/lib/python3.9/site-packages (from jsonschema>=3.0.1->jupyterlab-server~=2.10->jupyterlab) (21.4.0)\n",
      "Requirement already satisfied: pyrsistent!=0.17.0,!=0.17.1,!=0.17.2,>=0.14.0 in /usr/local/lib/python3.9/site-packages (from jsonschema>=3.0.1->jupyterlab-server~=2.10->jupyterlab) (0.18.1)\n",
      "Requirement already satisfied: entrypoints in /usr/local/lib/python3.9/site-packages (from jupyter-client<8.0->ipykernel>=4.5.1->ipywidgets==7.7.2) (0.3)\n",
      "Requirement already satisfied: python-dateutil>=2.1 in /usr/local/lib/python3.9/site-packages (from jupyter-client<8.0->ipykernel>=4.5.1->ipywidgets==7.7.2) (2.8.2)\n",
      "Requirement already satisfied: beautifulsoup4 in /usr/local/lib/python3.9/site-packages (from nbconvert>=6.4.4->jupyter-server<3,>=1.16.0->jupyterlab) (4.12.2)\n",
      "Requirement already satisfied: bleach in /usr/local/lib/python3.9/site-packages (from nbconvert>=6.4.4->jupyter-server<3,>=1.16.0->jupyterlab) (4.1.0)\n",
      "Requirement already satisfied: defusedxml in /usr/local/lib/python3.9/site-packages (from nbconvert>=6.4.4->jupyter-server<3,>=1.16.0->jupyterlab) (0.7.1)\n",
      "Requirement already satisfied: jupyterlab-pygments in /usr/local/lib/python3.9/site-packages (from nbconvert>=6.4.4->jupyter-server<3,>=1.16.0->jupyterlab) (0.1.2)\n",
      "Requirement already satisfied: mistune<3,>=2.0.3 in /usr/local/lib/python3.9/site-packages (from nbconvert>=6.4.4->jupyter-server<3,>=1.16.0->jupyterlab) (2.0.4)\n",
      "Requirement already satisfied: nbclient>=0.5.0 in /usr/local/lib/python3.9/site-packages (from nbconvert>=6.4.4->jupyter-server<3,>=1.16.0->jupyterlab) (0.5.10)\n",
      "Requirement already satisfied: pandocfilters>=1.4.1 in /usr/local/lib/python3.9/site-packages (from nbconvert>=6.4.4->jupyter-server<3,>=1.16.0->jupyterlab) (1.5.0)\n",
      "Requirement already satisfied: tinycss2 in /usr/local/lib/python3.9/site-packages (from nbconvert>=6.4.4->jupyter-server<3,>=1.16.0->jupyterlab) (1.2.1)\n",
      "Requirement already satisfied: ptyprocess>=0.5 in /usr/local/lib/python3.9/site-packages (from pexpect>4.3->ipython>=4.0.0->ipywidgets==7.7.2) (0.7.0)\n",
      "Requirement already satisfied: wcwidth in /usr/local/lib/python3.9/site-packages (from prompt-toolkit!=3.0.0,!=3.0.1,<3.1.0,>=2.0.0->ipython>=4.0.0->ipywidgets==7.7.2) (0.2.5)\n"
     ]
    },
    {
     "name": "stdout",
     "output_type": "stream",
     "text": [
      "Requirement already satisfied: argon2-cffi-bindings in /usr/local/lib/python3.9/site-packages (from argon2-cffi->jupyter-server<3,>=1.16.0->jupyterlab) (21.2.0)\n",
      "Requirement already satisfied: pytz>=2015.7 in /usr/local/lib/python3.9/site-packages (from babel->jupyterlab-server~=2.10->jupyterlab) (2023.3.post1)\n",
      "Requirement already satisfied: charset-normalizer<4,>=2 in /usr/local/lib/python3.9/site-packages (from requests->jupyterlab-server~=2.10->jupyterlab) (2.0.10)\n",
      "Requirement already satisfied: urllib3<3,>=1.21.1 in /usr/local/lib/python3.9/site-packages (from requests->jupyterlab-server~=2.10->jupyterlab) (1.26.8)\n",
      "Requirement already satisfied: certifi>=2017.4.17 in /usr/local/lib/python3.9/site-packages (from requests->jupyterlab-server~=2.10->jupyterlab) (2021.10.8)\n",
      "Requirement already satisfied: six>=1.5 in /usr/local/lib/python3.9/site-packages (from python-dateutil>=2.1->jupyter-client<8.0->ipykernel>=4.5.1->ipywidgets==7.7.2) (1.16.0)\n",
      "Requirement already satisfied: cffi>=1.0.1 in /usr/local/lib/python3.9/site-packages (from argon2-cffi-bindings->argon2-cffi->jupyter-server<3,>=1.16.0->jupyterlab) (1.15.0)\n",
      "Requirement already satisfied: soupsieve>1.2 in /usr/local/lib/python3.9/site-packages (from beautifulsoup4->nbconvert>=6.4.4->jupyter-server<3,>=1.16.0->jupyterlab) (2.3.1)\n",
      "Requirement already satisfied: webencodings in /usr/local/lib/python3.9/site-packages (from bleach->nbconvert>=6.4.4->jupyter-server<3,>=1.16.0->jupyterlab) (0.5.1)\n",
      "Requirement already satisfied: pycparser in /usr/local/lib/python3.9/site-packages (from cffi>=1.0.1->argon2-cffi-bindings->argon2-cffi->jupyter-server<3,>=1.16.0->jupyterlab) (2.21)\n",
      "\u001b[33mDEPRECATION: pytorch-lightning 1.5.9 has a non-standard dependency specifier torch>=1.7.*. pip 24.1 will enforce this behaviour change. A possible replacement is to upgrade to a newer version of pytorch-lightning or contact the author to suggest that they release a version with a conforming dependency specifiers. Discussion can be found at https://github.com/pypa/pip/issues/12063\u001b[0m\u001b[33m\n",
      "\u001b[0m\u001b[33mDEPRECATION: Configuring installation scheme with distutils config files is deprecated and will no longer work in the near future. If you are using a Homebrew or Linuxbrew Python, please see discussion at https://github.com/Homebrew/homebrew-core/issues/76621\u001b[0m\u001b[33m\n",
      "\u001b[0m"
     ]
    }
   ],
   "source": [
    "!{sys.executable} -m pip install ipywidgets==7.7.2 jupyterlab"
   ]
  },
  {
   "cell_type": "code",
   "execution_count": 11,
   "id": "7b53bf88",
   "metadata": {
    "id": "7b53bf88",
    "tags": []
   },
   "outputs": [
    {
     "name": "stderr",
     "output_type": "stream",
     "text": [
      "/usr/local/lib/python3.9/site-packages/pandas/core/computation/expressions.py:21: UserWarning: Pandas requires version '2.8.4' or newer of 'numexpr' (version '2.7.3' currently installed).\n",
      "  from pandas.core.computation.check import NUMEXPR_INSTALLED\n",
      "Matplotlib is building the font cache; this may take a moment.\n"
     ]
    }
   ],
   "source": [
    "import numpy as np\n",
    "import statistics as stat\n",
    "import pandas as pd\n",
    "import seaborn as sns\n",
    "sns.set()\n",
    "import matplotlib.pyplot as plt\n",
    "import random\n",
    "from itertools import *\n",
    "try:\n",
    "    import itertools.izip as zip\n",
    "except ImportError:\n",
    "    import itertools"
   ]
  },
  {
   "cell_type": "code",
   "execution_count": 12,
   "id": "dbcf1876",
   "metadata": {
    "tags": []
   },
   "outputs": [],
   "source": [
    "def flatten(listOfLists):\n",
    "    \"Flatten one level of nesting\"\n",
    "    return chain.from_iterable(listOfLists)"
   ]
  },
  {
   "cell_type": "markdown",
   "id": "b950ec00",
   "metadata": {
    "id": "b950ec00"
   },
   "source": [
    "\n",
    "Make population dynamic model\n",
    "\n",
    "Basic parameters"
   ]
  },
  {
   "cell_type": "code",
   "execution_count": 13,
   "id": "572ef7c2",
   "metadata": {
    "id": "572ef7c2",
    "tags": []
   },
   "outputs": [],
   "source": [
    "pop_size = 1000\n",
    "seq_length = 1\n",
    "alphabet = ['0','1']\n",
    "base_haplotype = \"0\""
   ]
  },
  {
   "cell_type": "markdown",
   "id": "aee3712f",
   "metadata": {
    "id": "aee3712f"
   },
   "source": [
    "\n",
    "Setup a population of sequences\n",
    "\n",
    "Store this as a lightweight Dictionary that maps a string to a count. All the sequences together will have count N.\n"
   ]
  },
  {
   "cell_type": "code",
   "execution_count": 14,
   "id": "162b3c0d",
   "metadata": {
    "id": "162b3c0d",
    "tags": []
   },
   "outputs": [],
   "source": [
    "pop = {}\n",
    "pop[\"0\"] = 100\n",
    "pop[\"1\"] = 900"
   ]
  },
  {
   "cell_type": "markdown",
   "id": "47226f5f",
   "metadata": {
    "id": "47226f5f"
   },
   "source": [
    "Add mutation\n",
    "\n",
    "Mutations occur each generation in each individual in every basepair.\n",
    "\n"
   ]
  },
  {
   "cell_type": "code",
   "execution_count": 15,
   "id": "851a1565",
   "metadata": {
    "id": "851a1565"
   },
   "outputs": [],
   "source": [
    "mutation_rate = 0.0005 # per gen per individual per site"
   ]
  },
  {
   "cell_type": "markdown",
   "id": "b803b529",
   "metadata": {
    "id": "b803b529"
   },
   "source": [
    "Walk through population and mutate basepairs.\n",
    "Use Poisson splitting to speed this up (you may be familiar with Poisson splitting from its use in the Gillespie algorithm).\n",
    "\n",
    "In naive scenario A: take each element and check for each if event occurs. For example, 100 elements, each with 1% chance. This requires 100 random numbers.\n",
    "In Poisson splitting scenario B: Draw a Poisson random number for the number of events that occur and distribute them randomly. In the above example, this will most likely involve 1 random number draw to see how many events and then a few more draws to see which elements are hit.\n",
    "First off, we need to get random number of total mutations\n"
   ]
  },
  {
   "cell_type": "code",
   "execution_count": 16,
   "id": "e425a7b5",
   "metadata": {
    "colab": {
     "base_uri": "https://localhost:8080/"
    },
    "id": "e425a7b5",
    "outputId": "74a406c5-c3c3-455f-d6e9-814c8d19d5b4"
   },
   "outputs": [
    {
     "data": {
      "text/plain": [
       "1"
      ]
     },
     "execution_count": 16,
     "metadata": {},
     "output_type": "execute_result"
    }
   ],
   "source": [
    "def get_mutation_count():\n",
    "    mean = mutation_rate * pop_size * seq_length\n",
    "    return np.random.poisson(mean)\n",
    "#Here we use Numpy's Poisson random number.\n",
    "\n",
    "get_mutation_count()"
   ]
  },
  {
   "cell_type": "code",
   "execution_count": 17,
   "id": "75dd9366",
   "metadata": {
    "colab": {
     "base_uri": "https://localhost:8080/"
    },
    "id": "75dd9366",
    "outputId": "0cd9f936-f740-45c4-e2c2-dfee407eb5d5"
   },
   "outputs": [
    {
     "data": {
      "text/plain": [
       "dict_keys(['0', '1'])"
      ]
     },
     "execution_count": 17,
     "metadata": {},
     "output_type": "execute_result"
    }
   ],
   "source": [
    "pop.keys()"
   ]
  },
  {
   "cell_type": "code",
   "execution_count": 18,
   "id": "cf4f9ce0",
   "metadata": {
    "colab": {
     "base_uri": "https://localhost:8080/"
    },
    "id": "cf4f9ce0",
    "outputId": "553eea0b-e25f-476e-cc82-3e6fa0c9eef4"
   },
   "outputs": [
    {
     "data": {
      "text/plain": [
       "[0.1, 0.9]"
      ]
     },
     "execution_count": 18,
     "metadata": {},
     "output_type": "execute_result"
    }
   ],
   "source": [
    "\n",
    "[x/float(pop_size) for x in pop.values()]\n"
   ]
  },
  {
   "cell_type": "code",
   "execution_count": 19,
   "id": "8cb29cb3",
   "metadata": {
    "colab": {
     "base_uri": "https://localhost:8080/",
     "height": 35
    },
    "id": "8cb29cb3",
    "outputId": "a64ae7df-25e0-4707-be22-a79ba13746ff"
   },
   "outputs": [
    {
     "data": {
      "text/plain": [
       "'0'"
      ]
     },
     "execution_count": 19,
     "metadata": {},
     "output_type": "execute_result"
    }
   ],
   "source": [
    "def get_random_haplotype():\n",
    "    haplotypes = list(pop.keys())\n",
    "    frequencies = [x/float(pop_size) for x in pop.values()]\n",
    "    total = sum(frequencies)\n",
    "    frequencies = [x / total for x in frequencies]\n",
    "    return np.random.choice(haplotypes, p=frequencies)\n",
    "\n",
    "get_random_haplotype()"
   ]
  },
  {
   "cell_type": "markdown",
   "id": "35dac436",
   "metadata": {
    "id": "35dac436"
   },
   "source": [
    "Here, we take a supplied haplotype and mutate a site at random.\n"
   ]
  },
  {
   "cell_type": "code",
   "execution_count": 20,
   "id": "1f999185",
   "metadata": {
    "colab": {
     "base_uri": "https://localhost:8080/",
     "height": 35
    },
    "id": "1f999185",
    "outputId": "b9573c0f-653b-430f-8c2c-6fafe82f3716"
   },
   "outputs": [
    {
     "data": {
      "text/plain": [
       "'1'"
      ]
     },
     "execution_count": 20,
     "metadata": {},
     "output_type": "execute_result"
    }
   ],
   "source": [
    "def get_mutant(haplotype):\n",
    "    site = np.random.randint(seq_length)\n",
    "    possible_mutations = list(alphabet)\n",
    "    possible_mutations.remove(haplotype[site])\n",
    "    mutation = np.random.choice(possible_mutations)\n",
    "    new_haplotype = haplotype[:site] + mutation + haplotype[site+1:]\n",
    "    return new_haplotype\n",
    "\n",
    "get_mutant(\"0\")\n"
   ]
  },
  {
   "cell_type": "markdown",
   "id": "2a179f8c",
   "metadata": {
    "id": "2a179f8c"
   },
   "source": [
    "Putting things together, in a single mutation event, we grab a random haplotype from the population, mutate it, decrement its count, and then check if the mutant already exists in the population. If it does, increment this mutant haplotype; if it doesn't create a new haplotype of count 1.\n"
   ]
  },
  {
   "cell_type": "code",
   "execution_count": 21,
   "id": "40675896",
   "metadata": {
    "colab": {
     "base_uri": "https://localhost:8080/"
    },
    "id": "40675896",
    "outputId": "c2ff2ec9-24dc-4df2-c847-7088defa7c2e"
   },
   "outputs": [
    {
     "data": {
      "text/plain": [
       "{'0': 101, '1': 899}"
      ]
     },
     "execution_count": 21,
     "metadata": {},
     "output_type": "execute_result"
    }
   ],
   "source": [
    "def mutation_event():\n",
    "    haplotype = get_random_haplotype()\n",
    "    if pop[haplotype] > 1:\n",
    "        pop[haplotype] -= 1\n",
    "        new_haplotype = get_mutant(haplotype)\n",
    "        if new_haplotype in pop:\n",
    "            pop[new_haplotype] += 1\n",
    "        else:\n",
    "            pop[new_haplotype] = 1\n",
    "mutation_event()\n",
    "pop"
   ]
  },
  {
   "cell_type": "markdown",
   "id": "cee8733e",
   "metadata": {
    "id": "cee8733e"
   },
   "source": [
    "To create all the mutations that occur in a single generation, we draw the total count of mutations and then iteratively add mutation events.\n"
   ]
  },
  {
   "cell_type": "code",
   "execution_count": 22,
   "id": "6076de5a",
   "metadata": {
    "colab": {
     "base_uri": "https://localhost:8080/"
    },
    "id": "6076de5a",
    "outputId": "2be8d07e-ecfd-4209-c4e0-5df76787011e"
   },
   "outputs": [
    {
     "data": {
      "text/plain": [
       "{'0': 101, '1': 899}"
      ]
     },
     "execution_count": 22,
     "metadata": {},
     "output_type": "execute_result"
    }
   ],
   "source": [
    "def mutation_step():\n",
    "    mutation_count = get_mutation_count()\n",
    "    for i in range(mutation_count):\n",
    "        mutation_event()\n",
    "mutation_step()\n",
    "pop"
   ]
  },
  {
   "cell_type": "markdown",
   "id": "64c61654",
   "metadata": {
    "id": "64c61654"
   },
   "source": [
    "## Genetic drift and selection\n",
    "\n",
    "Selection and fitness are influenced by the game and payoff matrix"
   ]
  },
  {
   "cell_type": "code",
   "execution_count": 23,
   "id": "9c72f4b8",
   "metadata": {
    "colab": {
     "base_uri": "https://localhost:8080/"
    },
    "id": "9c72f4b8",
    "outputId": "9aa5a70b-3542-4dc8-dbd8-5d7095367ec8"
   },
   "outputs": [
    {
     "data": {
      "text/plain": [
       "[497, 503]"
      ]
     },
     "execution_count": 23,
     "metadata": {},
     "output_type": "execute_result"
    }
   ],
   "source": [
    "awm = x = 0.1\n",
    "amw = y =  0.1\n",
    "s=0\n",
    "\n",
    "def get_fitness(awm, amw, s, frequencies):\n",
    "    payoff=[[1, 1+awm], [1+s+amw, 1+s]]\n",
    "    x = frequencies\n",
    "    f = np.dot(payoff,x)\n",
    "    fitness = {'0':f[0], '1':f[1]}\n",
    "    return fitness\n",
    "\n",
    "def get_offspring_counts(s,x,y):\n",
    "    haplotypes = list(pop.keys())\n",
    "    frequencies = [pop[haplotype]/float(pop_size) for haplotype in haplotypes]\n",
    "    fitness = get_fitness(x,y,s,frequencies)\n",
    "    fitnesses = [fitness[haplotype] for haplotype in haplotypes]\n",
    "    weights = [x * y for x,y in zip(frequencies, fitnesses)]\n",
    "    total = sum(weights)\n",
    "    #print(fitness, weights, total)\n",
    "    weights = [x / total for x in weights]\n",
    "    if any(x<0 for x in weights):\n",
    "        weights = [round(x) for x in weights]\n",
    "    #print(weights)\n",
    "    return list(np.random.multinomial(pop_size, weights))\n",
    "#Here we use Numpy's multinomial random sample.\n",
    "\n",
    "pop = {'0':500, '1':500}\n",
    "haplotypes = list(pop.keys())\n",
    "frequencies = [pop[haplotype]/float(pop_size) for haplotype in haplotypes]\n",
    "\n",
    "\n",
    "get_offspring_counts(s,x,y)\n"
   ]
  },
  {
   "cell_type": "markdown",
   "id": "343405eb",
   "metadata": {
    "id": "343405eb"
   },
   "source": [
    "\n",
    "We then need to assign this new list of haplotype counts to the pop dictionary. To save memory and computation, if a haplotype goes to 0, we remove it entirely from the pop dictionary.\n"
   ]
  },
  {
   "cell_type": "code",
   "execution_count": 24,
   "id": "f70de30c",
   "metadata": {
    "colab": {
     "base_uri": "https://localhost:8080/"
    },
    "id": "f70de30c",
    "outputId": "d102a2b5-2879-4a5a-89df-86c8a794ff6a"
   },
   "outputs": [
    {
     "data": {
      "text/plain": [
       "{'0': 505, '1': 495}"
      ]
     },
     "execution_count": 24,
     "metadata": {},
     "output_type": "execute_result"
    }
   ],
   "source": [
    "def offspring_step(s,x,y):\n",
    "    haplotypes = list(pop.keys())\n",
    "    counts = get_offspring_counts(s,x,y)\n",
    "    for (haplotype, count) in zip(haplotypes, counts):\n",
    "        if (count > 0):\n",
    "            pop[haplotype] = count\n",
    "        else:\n",
    "            pop[haplotype] = 0\n",
    "offspring_step(s,x,y)\n",
    "pop"
   ]
  },
  {
   "cell_type": "markdown",
   "id": "318a3734",
   "metadata": {
    "id": "318a3734"
   },
   "source": [
    "Combine and iterate\n",
    "\n",
    "Each generation is simply a mutation step where a random number of mutations are thrown down, and an offspring step where haplotype counts are updated.\n"
   ]
  },
  {
   "cell_type": "code",
   "execution_count": 25,
   "id": "b62e2698",
   "metadata": {
    "id": "b62e2698"
   },
   "outputs": [],
   "source": [
    "def time_step(s,x,y):\n",
    "    mutation_step()\n",
    "    offspring_step(s,x,y)"
   ]
  },
  {
   "cell_type": "markdown",
   "id": "0b5a4717",
   "metadata": {
    "id": "0b5a4717"
   },
   "source": [
    "Can iterate this over a number of generations.\n"
   ]
  },
  {
   "cell_type": "markdown",
   "id": "28e639dc",
   "metadata": {
    "id": "28e639dc"
   },
   "source": [
    "Record\n",
    "\n",
    "We want to keep a record of past population frequencies to understand dynamics through time. At each step in the simulation, we append to a history object.\n"
   ]
  },
  {
   "cell_type": "code",
   "execution_count": 26,
   "id": "3b4f636f",
   "metadata": {
    "id": "3b4f636f",
    "scrolled": true,
    "tags": []
   },
   "outputs": [],
   "source": [
    "pop0 = {'0':500,'1':500}\n",
    "history = []\n",
    "generations = 1000\n",
    "\n",
    "\n",
    "def simulate(s,x,y):\n",
    "    history = []\n",
    "    clone_pop = dict(pop)\n",
    "    history.append(clone_pop)\n",
    "    for i in range(generations):\n",
    "        time_step(s,x,y)\n",
    "        clone_pop = dict(pop)\n",
    "        history.append(clone_pop)\n",
    "    return(history)\n",
    "\n"
   ]
  },
  {
   "cell_type": "markdown",
   "id": "b1934692",
   "metadata": {
    "id": "b1934692"
   },
   "source": [
    "List of game options"
   ]
  },
  {
   "cell_type": "code",
   "execution_count": 27,
   "id": "782bc00b",
   "metadata": {
    "id": "782bc00b"
   },
   "outputs": [],
   "source": [
    "amw_list = [random.uniform(-0.3, 0.3) for i in range(100)]\n",
    "awm_list = [random.uniform(-0.3, 0.3) for i in range(100)]\n",
    "\n",
    "merged_list = [(amw_list[i], awm_list[i]) for i in range(0, len(amw_list))]\n",
    "fixed_list = [(0.2, 0.2) for i in range(0,len(amw_list))]\n",
    "coords = merged_list\n",
    "x = [i[0] for i in coords]\n",
    "y = [i[1] for i in coords]\n"
   ]
  },
  {
   "cell_type": "markdown",
   "id": "cd6865af",
   "metadata": {
    "id": "cd6865af"
   },
   "source": [
    "# Masking, maintenance and mimicry\n",
    "\n"
   ]
  },
  {
   "cell_type": "markdown",
   "id": "9d001909",
   "metadata": {
    "id": "9d001909"
   },
   "source": [
    "The following expressions are for non-zero μ"
   ]
  },
  {
   "cell_type": "markdown",
   "id": "KJD_BPXWltFg",
   "metadata": {
    "id": "KJD_BPXWltFg"
   },
   "source": [
    "![Screen Shot 2023-06-15 at 3.46.47 PM.png](data:image/png;base64,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)"
   ]
  },
  {
   "cell_type": "markdown",
   "id": "THOYxWYzkNtt",
   "metadata": {
    "id": "THOYxWYzkNtt"
   },
   "source": [
    "### Functions for maintenance, masking and mimicry\n",
    "\n",
    "Small μ → 0"
   ]
  },
  {
   "cell_type": "code",
   "execution_count": 28,
   "id": "c802d2af",
   "metadata": {
    "id": "c802d2af",
    "tags": []
   },
   "outputs": [],
   "source": [
    "def maintain_0(awm, s):\n",
    "    amw = awm = 0\n",
    "    return(amw)\n",
    "\n",
    "def mask_0(awm, s):\n",
    "    amw = awm -2*s\n",
    "    return(amw)\n",
    "\n",
    "def mimic_0(awm, s):\n",
    "    amw = -s/(1+s)\n",
    "    return(amw)\n",
    "\n"
   ]
  },
  {
   "cell_type": "markdown",
   "id": "5mHLLtKDkibg",
   "metadata": {
    "id": "5mHLLtKDkibg"
   },
   "source": [
    "μ^2 → 0"
   ]
  },
  {
   "cell_type": "code",
   "execution_count": 29,
   "id": "1c8e1335",
   "metadata": {
    "id": "1c8e1335",
    "tags": []
   },
   "outputs": [],
   "source": [
    "def theor_mode(s,mu):\n",
    "    mode = (-2*mu + s + np.sqrt(4*mu**2 + s**2))/(2*s)\n",
    "    return(mode)\n",
    "\n",
    "def maintain_1(amw, s, mu):\n",
    "    \n",
    "    awm = mu*amw/(s*(1+s))\n",
    "    \n",
    "    return(awm)\n",
    "\n",
    "def mask_1(amw, s, mu):\n",
    "    if s>0:\n",
    "        awm = 2*s + amw\n",
    "    else:\n",
    "        awm = -2*s + amw\n",
    "        \n",
    "    return(awm)\n",
    "\n",
    "def mimic_1(amw, s, mu):\n",
    "    awm = -s/(1+s) + (-s + amw)*mu/(s*(1+s))\n",
    "    \n",
    "    return(awm)\n",
    "\n",
    "def mirror(s, mu, awm):\n",
    "    amw = -2*s-(2*s-awm+s*awm)*mu/(s)\n",
    "    #awm = s*(2+s)\n",
    "    return(awm,amw)"
   ]
  },
  {
   "cell_type": "code",
   "execution_count": 30,
   "id": "16547d43-4693-43e9-bcfb-3cf5052732fc",
   "metadata": {},
   "outputs": [],
   "source": [
    "def theor_mode(s,mu):\n",
    "    mode = (-2*mu + s + np.sqrt(4*mu**2 + s**2))/(2*s)\n",
    "    return(mode)"
   ]
  },
  {
   "cell_type": "markdown",
   "id": "a33baa7c",
   "metadata": {
    "id": "a33baa7c"
   },
   "source": [
    "### Maintenance simulations\n",
    "Maintenance is when the outcome (mode) of the simulation is kept the same\n",
    "\n",
    "Original simulation, s=0.05, μ=0.005"
   ]
  },
  {
   "cell_type": "code",
   "execution_count": 31,
   "id": "26c8ba90",
   "metadata": {
    "colab": {
     "base_uri": "https://localhost:8080/"
    },
    "id": "26c8ba90",
    "outputId": "efffdcc4-9b9c-4a22-a364-17c9d7f832a5",
    "tags": []
   },
   "outputs": [
    {
     "name": "stdout",
     "output_type": "stream",
     "text": [
      "-0.15\n",
      "-0.09\n",
      "-0.03\n",
      "0.03\n",
      "0.09\n",
      "0.15\n",
      "-0.15\n",
      "-0.09\n",
      "-0.03\n",
      "0.03\n",
      "0.09\n",
      "0.15\n"
     ]
    }
   ],
   "source": [
    "from numpy.lib.function_base import kaiser\n",
    "pop = {'0':500,'1':500}\n",
    "\n",
    "#outcome = np.array([simulate(s,x,y) for x,y in merged_list ])\n",
    "outcomes = []\n",
    "histories = []\n",
    "histories1 = []\n",
    "s=0.1\n",
    "sm=0\n",
    "mutation_rate = 0.01\n",
    "generations = gens = 1000\n",
    "reps = 5\n",
    "\n",
    "awm_vals = np.linspace(-0.15,0.15,6)\n",
    "for m in [0.002,0.01]:\n",
    "    for jj in awm_vals :\n",
    "        history = []\n",
    "        history1 = []\n",
    "        print(jj)\n",
    "        for i in range(1,reps+1):\n",
    "            pop = {'0':500,'1':500}\n",
    "            k = 0\n",
    "            j = 0\n",
    "            mutation_rate = m\n",
    "            a = simulate(s,j,k)\n",
    "            history1.append(stat.mode([ii['0'] for ii in a[(gens-101):(gens-1)]]))\n",
    "            history.append(a)\n",
    "        #print(s, j ,k )\n",
    "        histories.append(history)\n",
    "        histories1.append({'mu':m, 'a_wm':jj, 'mode':stat.mode(history1)})\n",
    "\n",
    "#modes = bstat.mode(outcomes, axis=0)\n",
    "\n"
   ]
  },
  {
   "cell_type": "code",
   "execution_count": 32,
   "id": "a6b07b23",
   "metadata": {},
   "outputs": [
    {
     "ename": "TypeError",
     "evalue": "Mismatch between array dtype ('object') and format specifier ('%.18e')",
     "output_type": "error",
     "traceback": [
      "\u001b[0;31m---------------------------------------------------------------------------\u001b[0m",
      "\u001b[0;31mTypeError\u001b[0m                                 Traceback (most recent call last)",
      "\u001b[0;32m/usr/local/lib/python3.9/site-packages/numpy/lib/npyio.py\u001b[0m in \u001b[0;36msavetxt\u001b[0;34m(fname, X, fmt, delimiter, newline, header, footer, comments, encoding)\u001b[0m\n\u001b[1;32m   1622\u001b[0m                 \u001b[0;32mtry\u001b[0m\u001b[0;34m:\u001b[0m\u001b[0;34m\u001b[0m\u001b[0;34m\u001b[0m\u001b[0m\n\u001b[0;32m-> 1623\u001b[0;31m                     \u001b[0mv\u001b[0m \u001b[0;34m=\u001b[0m \u001b[0mformat\u001b[0m \u001b[0;34m%\u001b[0m \u001b[0mtuple\u001b[0m\u001b[0;34m(\u001b[0m\u001b[0mrow\u001b[0m\u001b[0;34m)\u001b[0m \u001b[0;34m+\u001b[0m \u001b[0mnewline\u001b[0m\u001b[0;34m\u001b[0m\u001b[0;34m\u001b[0m\u001b[0m\n\u001b[0m\u001b[1;32m   1624\u001b[0m                 \u001b[0;32mexcept\u001b[0m \u001b[0mTypeError\u001b[0m \u001b[0;32mas\u001b[0m \u001b[0me\u001b[0m\u001b[0;34m:\u001b[0m\u001b[0;34m\u001b[0m\u001b[0;34m\u001b[0m\u001b[0m\n",
      "\u001b[0;31mTypeError\u001b[0m: must be real number, not dict",
      "\nThe above exception was the direct cause of the following exception:\n",
      "\u001b[0;31mTypeError\u001b[0m                                 Traceback (most recent call last)",
      "\u001b[0;32m/var/folders/sl/s42h4v1x3lb1wkpyy7b8gsw80000gn/T/ipykernel_48450/267984475.py\u001b[0m in \u001b[0;36m<module>\u001b[0;34m\u001b[0m\n\u001b[0;32m----> 1\u001b[0;31m \u001b[0mnp\u001b[0m\u001b[0;34m.\u001b[0m\u001b[0msavetxt\u001b[0m\u001b[0;34m(\u001b[0m\u001b[0;34m'reps20_gens2000_s0.1_.out'\u001b[0m\u001b[0;34m,\u001b[0m \u001b[0mhistories1\u001b[0m\u001b[0;34m)\u001b[0m\u001b[0;34m\u001b[0m\u001b[0;34m\u001b[0m\u001b[0m\n\u001b[0m",
      "\u001b[0;32m/usr/local/lib/python3.9/site-packages/numpy/lib/npyio.py\u001b[0m in \u001b[0;36msavetxt\u001b[0;34m(fname, X, fmt, delimiter, newline, header, footer, comments, encoding)\u001b[0m\n\u001b[1;32m   1623\u001b[0m                     \u001b[0mv\u001b[0m \u001b[0;34m=\u001b[0m \u001b[0mformat\u001b[0m \u001b[0;34m%\u001b[0m \u001b[0mtuple\u001b[0m\u001b[0;34m(\u001b[0m\u001b[0mrow\u001b[0m\u001b[0;34m)\u001b[0m \u001b[0;34m+\u001b[0m \u001b[0mnewline\u001b[0m\u001b[0;34m\u001b[0m\u001b[0;34m\u001b[0m\u001b[0m\n\u001b[1;32m   1624\u001b[0m                 \u001b[0;32mexcept\u001b[0m \u001b[0mTypeError\u001b[0m \u001b[0;32mas\u001b[0m \u001b[0me\u001b[0m\u001b[0;34m:\u001b[0m\u001b[0;34m\u001b[0m\u001b[0;34m\u001b[0m\u001b[0m\n\u001b[0;32m-> 1625\u001b[0;31m                     raise TypeError(\"Mismatch between array dtype ('%s') and \"\n\u001b[0m\u001b[1;32m   1626\u001b[0m                                     \u001b[0;34m\"format specifier ('%s')\"\u001b[0m\u001b[0;34m\u001b[0m\u001b[0;34m\u001b[0m\u001b[0m\n\u001b[1;32m   1627\u001b[0m                                     % (str(X.dtype), format)) from e\n",
      "\u001b[0;31mTypeError\u001b[0m: Mismatch between array dtype ('object') and format specifier ('%.18e')"
     ]
    }
   ],
   "source": [
    "np.savetxt('reps20_gens2000_s0.1_.out', histories1)"
   ]
  },
  {
   "cell_type": "code",
   "execution_count": null,
   "id": "c8e1a930",
   "metadata": {},
   "outputs": [],
   "source": [
    "histories[2]"
   ]
  },
  {
   "cell_type": "code",
   "execution_count": null,
   "id": "97a049fc",
   "metadata": {
    "colab": {
     "base_uri": "https://localhost:8080/",
     "height": 453
    },
    "id": "97a049fc",
    "outputId": "64405301-8720-4184-c2cd-f9b5883c0b67",
    "scrolled": true
   },
   "outputs": [],
   "source": [
    "mode0, lower0, upper0 = [],[],[]\n",
    "mode1, lower1, upper1 = [],[],[]\n",
    "\n",
    "for t in range(0,gens):\n",
    "    vals0 = []\n",
    "    vals1=[]\n",
    "    for si in range(0,reps):\n",
    "        sli = histories[2][si][t]\n",
    "        vals0.append(sli['0'])\n",
    "        vals1.append(sli['1'])\n",
    "    mode0.append(stat.mode(vals0))\n",
    "    lower0.append(min(vals0))\n",
    "    upper0.append(max(vals0))\n",
    "    mode1.append(stat.mode(vals1))\n",
    "    lower1.append(min(vals1))\n",
    "    upper1.append(max(vals1))\n",
    "\n",
    "custom_params = {\"axes.spines.right\": False, \"axes.spines.top\": False}\n",
    "sns.set_theme(style=\"ticks\", rc=custom_params)\n",
    "\n",
    "len(mode0)\n",
    "ax = sns.lineplot(x=[i for i in range(0,gens)], y=mode0, color='yellow')\n",
    "ax.fill_between(\n",
    "    [i for i in range(0,gens)], lower0, upper0, color='yellow', alpha=.15)\n",
    "ax1 = sns.lineplot(x=[i for i in range(0,gens)], y=mode1, color='r')\n",
    "ax1.fill_between(\n",
    "    [i for i in range(0,gens)], lower1, upper1, color='r', alpha=.15)\n",
    "ax.set_ylim(0,sum(pop.values()))\n"
   ]
  },
  {
   "cell_type": "markdown",
   "id": "tI3jTqBytAdO",
   "metadata": {
    "id": "tI3jTqBytAdO"
   },
   "source": [
    "Maintenance\n",
    "\n",
    "μ^2 →0 , interactions are non-zero"
   ]
  },
  {
   "cell_type": "code",
   "execution_count": null,
   "id": "SuBD2_BgtU5q",
   "metadata": {
    "colab": {
     "base_uri": "https://localhost:8080/"
    },
    "id": "SuBD2_BgtU5q",
    "outputId": "adafcdde-38e2-482d-ae20-20ad2282382e"
   },
   "outputs": [],
   "source": [
    "from numpy.lib.function_base import kaiser\n",
    "pop = {'0':500,'1':500}\n",
    "\n",
    "#outcome = np.array([simulate(s,x,y) for x,y in merged_list ])\n",
    "outcomes = []\n",
    "histories = []\n",
    "histories1 = []\n",
    "s=0.1\n",
    "sm=0\n",
    "mutation_rate = mu = 0.01\n",
    "generations = gens = 500\n",
    "reps = 25\n",
    "\n",
    "for jj in awm_vals :\n",
    "    outcome = []\n",
    "    history = []\n",
    "    history1 = []\n",
    "    print(jj)\n",
    "    for i in range(1,reps+1):\n",
    "        pop = {'0':500,'1':500}\n",
    "        k = awm = jj\n",
    "        j = maintain_1(amw=k, s=s, mu=mu)\n",
    "        a = simulate(s,j,k)\n",
    "        history1.append(stat.mode([ii['0'] for ii in a[(gens-101):(gens-1)]]))\n",
    "        history.append(a)\n",
    "        #print(s, j ,k )\n",
    "    outcomes.append(outcome)\n",
    "    histories.append(history)\n",
    "    histories1.append(history1)\n",
    "\n",
    "#modes = stat.mode(outcomes, axis=0)\n",
    "\n",
    "#np.savetxt('s0.05a120.14_a210.16_games50_.out', (np.array(x), np.array(y), means))"
   ]
  },
  {
   "cell_type": "code",
   "execution_count": null,
   "id": "1kQCg-cEtvZ9",
   "metadata": {
    "colab": {
     "base_uri": "https://localhost:8080/",
     "height": 453
    },
    "id": "1kQCg-cEtvZ9",
    "outputId": "5d3ddd7d-c275-42ba-829e-bfba9d84a650"
   },
   "outputs": [],
   "source": [
    "mode0, lower0, upper0 = [],[],[]\n",
    "mode1, lower1, upper1 = [],[],[]\n",
    "\n",
    "for t in range(0,gens):\n",
    "    vals0 = []\n",
    "    vals1=[]\n",
    "    for si in range(0,reps):\n",
    "        sli = histories[4][si][t]\n",
    "        vals0.append(sli['0'])\n",
    "        vals1.append(sli['1'])\n",
    "    mode0.append(stat.mode(vals0))\n",
    "    lower0.append(min(vals0))\n",
    "    upper0.append(max(vals0))\n",
    "    mode1.append(stat.mode(vals1))\n",
    "    lower1.append(min(vals1))\n",
    "    upper1.append(max(vals1))\n",
    "\n",
    "\n",
    "len(mode0)\n",
    "ax = sns.lineplot(x=[i for i in range(0,gens)], y=mode0, color='yellow')\n",
    "ax.fill_between(\n",
    "    [i for i in range(0,gens)], lower0, upper0, color='yellow', alpha=.15)\n",
    "ax1 = sns.lineplot(x=[i for i in range(0,gens)], y=mode1, color='r')\n",
    "ax1.fill_between(\n",
    "    [i for i in range(0,gens)], lower1, upper1, color='r', alpha=.15)\n",
    "ax.set_ylim(0,sum(pop.values()))"
   ]
  },
  {
   "cell_type": "markdown",
   "id": "1f23f282",
   "metadata": {
    "id": "1f23f282"
   },
   "source": [
    "Masking\n",
    "\n",
    "In masking the presence of interactions removes selective differences"
   ]
  },
  {
   "cell_type": "code",
   "execution_count": null,
   "id": "d28c47b8",
   "metadata": {
    "colab": {
     "base_uri": "https://localhost:8080/"
    },
    "id": "d28c47b8",
    "outputId": "7b6c9644-79ec-46cb-b900-ee9425d91019"
   },
   "outputs": [],
   "source": [
    "pop = {'0':500,'1':500}\n",
    "\n",
    "#outcome = np.array([simulate(s,x,y) for x,y in merged_list ])\n",
    "outcomes = []\n",
    "histories = []\n",
    "histories1 = []\n",
    "s=0.1\n",
    "sm=0\n",
    "mutation_rate = mu = 0.001\n",
    "generations = gens = 1500\n",
    "reps = 50\n",
    "\n",
    "for jj in awm_vals:\n",
    "    outcome = []\n",
    "    history = []\n",
    "    history1=[]\n",
    "    print(jj)\n",
    "    for i in range(1,reps+1):\n",
    "        pop = {'0':500,'1':500}\n",
    "        k = awm = jj\n",
    "        j = mask_0(awm=k, s=s)\n",
    "        a = simulate(s,k,j)\n",
    "        outcome.append(a[gens-1]['0'])\n",
    "        history1.append([ii['0'] for ii in a])\n",
    "        history.append(a)\n",
    "        #print(s, j ,k )\n",
    "    outcomes.append(outcome)\n",
    "    histories1.append(flatten(history1))\n",
    "    histories.append(history)\n",
    "\n",
    "\n",
    "#np.savetxt('s0.05a120.14_a210.16_games50_.out', (np.array(x), np.array(y), means))"
   ]
  },
  {
   "cell_type": "code",
   "execution_count": null,
   "id": "vxcf2lopw5Aa",
   "metadata": {
    "colab": {
     "base_uri": "https://localhost:8080/"
    },
    "id": "vxcf2lopw5Aa",
    "outputId": "db06a574-83eb-4078-a8d9-bb9f4cdd8e5c"
   },
   "outputs": [],
   "source": [
    "mode_hist = [stat.mode(i) for i in histories1]\n",
    "mode_hist"
   ]
  },
  {
   "cell_type": "code",
   "execution_count": null,
   "id": "bec9b527",
   "metadata": {
    "colab": {
     "base_uri": "https://localhost:8080/",
     "height": 453
    },
    "id": "bec9b527",
    "outputId": "5ff867ca-580b-4aca-cf94-5d7a235286d0"
   },
   "outputs": [],
   "source": [
    "mode0, lower0, upper0 = [],[],[]\n",
    "mode1, lower1, upper1 = [],[],[]\n",
    "gens = 900\n",
    "for t in range(0,gens):\n",
    "    vals0 = []\n",
    "    vals1=[]\n",
    "    for si in range(0,reps):\n",
    "        sli = histories[4][si][t]\n",
    "        vals0.append(sli['0'])\n",
    "        vals1.append(sli['1'])\n",
    "    mode0.append(stat.mode(vals0))\n",
    "    lower0.append(min(vals0))\n",
    "    upper0.append(max(vals0))\n",
    "    mode1.append(stat.mode(vals1))\n",
    "    lower1.append(min(vals1))\n",
    "    upper1.append(max(vals1))\n",
    "\n",
    "\n",
    "len(mode0)\n",
    "ax = sns.lineplot(x=np.array([i for i in range(0,gens)]), y=mode0, color='yellow')\n",
    "#ax.fill_between(\n",
    "#    [i for i in range(0,gens)], lower0, upper0, color='yellow', alpha=.15)\n",
    "ax1 = sns.lineplot(x=[i for i in range(0,gens)], y=mode1, color='r')\n",
    "#ax1.fill_between(\n",
    "#    [i for i in range(0,gens)], lower1, upper1, color='r', alpha=.15)\n",
    "ax.set_ylim(0,sum(pop.values()))\n"
   ]
  },
  {
   "cell_type": "markdown",
   "id": "0PQoypXvzf57",
   "metadata": {
    "id": "0PQoypXvzf57"
   },
   "source": [
    "First order μ"
   ]
  },
  {
   "cell_type": "code",
   "execution_count": null,
   "id": "VNtrOK1DyTjr",
   "metadata": {
    "colab": {
     "base_uri": "https://localhost:8080/"
    },
    "id": "VNtrOK1DyTjr",
    "outputId": "96b84cdf-0002-41bb-bea0-a29166c19d72"
   },
   "outputs": [],
   "source": [
    "pop = {'0':500,'1':500}\n",
    "\n",
    "#outcome = np.array([simulate(s,x,y) for x,y in merged_list ])\n",
    "outcomes = []\n",
    "histories = []\n",
    "histories1 = []\n",
    "\n",
    "s=0.1\n",
    "sm=0\n",
    "mutation_rate = mu =0.01\n",
    "generations = gens = 200\n",
    "reps = 25\n",
    "\n",
    "for jj in awm_vals:\n",
    "    outcome = []\n",
    "    history = []\n",
    "    history1 = []\n",
    "    print(jj)\n",
    "    for i in range(1,reps+1):\n",
    "        pop = {'0':500,'1':500}\n",
    "        amw = jj\n",
    "        awm = mask_1(amw=amw, s=s,mu=mu)\n",
    "        a = simulate(s,awm,amw)\n",
    "        history1.append([ii['0'] for ii in a])\n",
    "        history.append(a)\n",
    "        #print(s, j ,k )\n",
    "    outcomes.append(outcome)\n",
    "    histories1.append(flatten(history1))\n",
    "    histories.append(history)\n",
    "\n"
   ]
  },
  {
   "cell_type": "code",
   "execution_count": null,
   "id": "-vLAD1WMzxEu",
   "metadata": {
    "id": "-vLAD1WMzxEu"
   },
   "outputs": [],
   "source": [
    "mode_hist = [stat.mode(i) for i in histories1]\n",
    "mode_hist"
   ]
  },
  {
   "cell_type": "code",
   "execution_count": null,
   "id": "DcpCpll_0aVf",
   "metadata": {
    "colab": {
     "base_uri": "https://localhost:8080/",
     "height": 453
    },
    "id": "DcpCpll_0aVf",
    "outputId": "bfb82b04-022f-4ff6-b31d-f850c09f6cd6"
   },
   "outputs": [],
   "source": [
    "mode0, lower0, upper0 = [],[],[]\n",
    "mode1, lower1, upper1 = [],[],[]\n",
    "#gens = 200\n",
    "for t in range(0,gens):\n",
    "    vals0 = []\n",
    "    vals1=[]\n",
    "    for si in range(0,reps):\n",
    "        sli = histories[2][si][t]\n",
    "        vals0.append(sli['0'])\n",
    "        vals1.append(sli['1'])\n",
    "    mode0.append(stat.mode(vals0))\n",
    "    lower0.append(min(vals0))\n",
    "    upper0.append(max(vals0))\n",
    "    mode1.append(stat.mode(vals1))\n",
    "    lower1.append(min(vals1))\n",
    "    upper1.append(max(vals1))\n",
    "\n",
    "\n",
    "len(mode0)\n",
    "#listp=[i for i in range(0,gens)]\n",
    "#df=pd.DataFrame({'x':listp, 'y':mode0})\n",
    "#plt.plot(df['x'],df['y'])\n",
    "ax = sns.lineplot(x=[i for i in range(0,gens)], y=mode0, color='yellow')\n",
    "ax.fill_between(\n",
    "    [i for i in range(0,gens)], lower0, upper0, color='yellow', alpha=.15)\n",
    "ax1 = sns.lineplot(x=[i for i in range(0,gens)], y=mode1, color='r')\n",
    "ax1.fill_between(\n",
    "    [i for i in range(0,gens)], lower1, upper1, color='r', alpha=.15)\n",
    "ax.set_ylim(0,sum(pop.values()))"
   ]
  },
  {
   "cell_type": "markdown",
   "id": "5tispKtH0th-",
   "metadata": {
    "id": "5tispKtH0th-"
   },
   "source": [
    "Mimicry\n",
    "\n",
    "In the absence of cell-intrinsic selection, interactions alone can cause selective pressures"
   ]
  },
  {
   "cell_type": "code",
   "execution_count": null,
   "id": "dc01ba73",
   "metadata": {
    "colab": {
     "base_uri": "https://localhost:8080/"
    },
    "id": "dc01ba73",
    "outputId": "f999532a-b057-4cad-e795-b12e77b4eaad"
   },
   "outputs": [],
   "source": [
    "pop = {'0':500,'1':500}\n",
    "\n",
    "#outcome = np.array([simulate(s,x,y) for x,y in merged_list ])\n",
    "outcomes = []\n",
    "histories = []\n",
    "histories1 = []\n",
    "s=0       # Intrinsic selection difference\n",
    "sm=0.1    # Selection to mimic\n",
    "mutation_rate = mu = 0.01\n",
    "generations = gens = 900\n",
    "reps = 25\n",
    "\n",
    "for jj in awm_vals:\n",
    "    outcome = []\n",
    "    history = []\n",
    "    history1=[]\n",
    "    print(jj)\n",
    "    for i in range(1,reps+1):\n",
    "        pop = {'0':500,'1':500}\n",
    "        amw = jj\n",
    "        awm = mimic_0(amw, s=sm)\n",
    "        a = simulate(s,awm,amw)\n",
    "        history1.append([ii['0'] for ii in a])\n",
    "        history.append(a)\n",
    "        #print(s, j ,k )\n",
    "    outcomes.append(outcome)\n",
    "    histories1.append(flatten(history1))\n",
    "    histories.append(history)\n"
   ]
  },
  {
   "cell_type": "code",
   "execution_count": null,
   "id": "stZJ--af0Gpg",
   "metadata": {
    "colab": {
     "base_uri": "https://localhost:8080/"
    },
    "id": "stZJ--af0Gpg",
    "outputId": "77fd33ff-4cef-4d2c-e6c2-af9607e82c69"
   },
   "outputs": [],
   "source": [
    "mode_hist = [stat.mode(i) for i in histories1]\n",
    "mode_hist"
   ]
  },
  {
   "cell_type": "code",
   "execution_count": null,
   "id": "dc09bdbe",
   "metadata": {
    "colab": {
     "base_uri": "https://localhost:8080/",
     "height": 453
    },
    "id": "dc09bdbe",
    "outputId": "a86416e9-dd5e-4c28-d061-c13c51d5534d"
   },
   "outputs": [],
   "source": [
    "mode0, lower0, upper0 = [],[],[]\n",
    "mode1, lower1, upper1 = [],[],[]\n",
    "gens = 900\n",
    "for t in range(0,gens):\n",
    "    vals0 = []\n",
    "    vals1=[]\n",
    "    for si in range(0,reps):\n",
    "        sli = histories[4][si][t]\n",
    "        vals0.append(sli['0'])\n",
    "        vals1.append(sli['1'])\n",
    "    mode0.append(stat.mode(vals0))\n",
    "    lower0.append(min(vals0))\n",
    "    upper0.append(max(vals0))\n",
    "    mode1.append(stat.mode(vals1))\n",
    "    lower1.append(min(vals1))\n",
    "    upper1.append(max(vals1))\n",
    "\n",
    "\n",
    "len(mode0)\n",
    "ax = sns.lineplot(x=[i for i in range(0,gens)], y=mode0, color='yellow')\n",
    "ax.fill_between(\n",
    "    [i for i in range(0,gens)], lower0, upper0, color='yellow', alpha=.15)\n",
    "ax1 = sns.lineplot(x=[i for i in range(0,gens)], y=mode1, color='r')\n",
    "ax1.fill_between(\n",
    "    [i for i in range(0,gens)], lower1, upper1, color='r', alpha=.15)\n",
    "ax.set_ylim(0,sum(pop.values()))"
   ]
  },
  {
   "cell_type": "markdown",
   "id": "HrjjO3vzoPp9",
   "metadata": {
    "id": "HrjjO3vzoPp9"
   },
   "source": [
    "Mimicry 1st order"
   ]
  },
  {
   "cell_type": "code",
   "execution_count": null,
   "id": "6bb3cabb-d3f1-444a-a103-b6164d6f545b",
   "metadata": {},
   "outputs": [],
   "source": []
  },
  {
   "cell_type": "code",
   "execution_count": null,
   "id": "EghAMpmGoPaF",
   "metadata": {
    "colab": {
     "base_uri": "https://localhost:8080/",
     "height": 443
    },
    "id": "EghAMpmGoPaF",
    "outputId": "d570adfc-e28d-4dce-dd6e-8fefc914b100"
   },
   "outputs": [],
   "source": [
    "pop = {'0':500,'1':500}\n",
    "\n",
    "#outcome = np.array([simulate(s,x,y) for x,y in merged_list ])\n",
    "outcomes = []\n",
    "histories = []\n",
    "histories1 = []\n",
    "s=0         # Intrinsic selection difference\n",
    "sm=0.1      # Selection to mimic\n",
    "mutation_rate = mu =0.01\n",
    "generations = gens = 900\n",
    "reps = 100\n",
    "\n",
    "for jj in awm_vals:\n",
    "    outcome = []\n",
    "    history = []\n",
    "    history1 =[]\n",
    "    print(jj)\n",
    "    for i in range(1,reps+1):\n",
    "        pop = {'0':500,'1':500}\n",
    "        amw = jj\n",
    "        awm = mimic_1(amw, s=sm, mu=mu)\n",
    "        a = simulate(s,awm,amw)\n",
    "        history1.append([ii['0'] for ii in a])\n",
    "        history.append(a)\n",
    "        #print(s, j ,k )\n",
    "    outcomes.append(outcome)      \n",
    "    histories1.append(flatten(history1))\n",
    "    histories.append(history)"
   ]
  },
  {
   "cell_type": "code",
   "execution_count": null,
   "id": "B-Qq6F5r1E5D",
   "metadata": {
    "colab": {
     "base_uri": "https://localhost:8080/"
    },
    "id": "B-Qq6F5r1E5D",
    "outputId": "fdd54669-245b-4477-a557-2f82f58d597a"
   },
   "outputs": [],
   "source": [
    "mode_hist = [stat.mode(i) for i in histories1]\n",
    "mode_hist"
   ]
  },
  {
   "cell_type": "code",
   "execution_count": null,
   "id": "DORB7_8Wntk9",
   "metadata": {
    "colab": {
     "base_uri": "https://localhost:8080/",
     "height": 453
    },
    "id": "DORB7_8Wntk9",
    "outputId": "aab27227-c43a-4e9b-9f35-a7e63f1d53d7"
   },
   "outputs": [],
   "source": [
    "mode0, lower0, upper0 = [],[],[]\n",
    "mode1, lower1, upper1 = [],[],[]\n",
    "gens = 900\n",
    "for t in range(0,gens):\n",
    "    vals0 = []\n",
    "    vals1=[]\n",
    "    for si in range(0,reps):\n",
    "        sli = histories[2][si][t]\n",
    "        vals0.append(sli['0'])\n",
    "        vals1.append(sli['1'])\n",
    "    mode0.append(stat.mode(vals0))\n",
    "    lower0.append(min(vals0))\n",
    "    upper0.append(max(vals0))\n",
    "    mode1.append(stat.mode(vals1))\n",
    "    lower1.append(min(vals1))\n",
    "    upper1.append(max(vals1))\n",
    "\n",
    "\n",
    "len(mode0)\n",
    "ax = sns.lineplot(x=[i for i in range(0,gens)], y=mode0, color='yellow')\n",
    "ax.fill_between(\n",
    "    [i for i in range(0,gens)], lower0, upper0, color='yellow', alpha=.15)\n",
    "ax1 = sns.lineplot(x=[i for i in range(0,gens)], y=mode1, color='r')\n",
    "ax1.fill_between(\n",
    "    [i for i in range(0,gens)], lower1, upper1, color='r', alpha=.15)\n",
    "ax.set_ylim(0,sum(pop.values()))"
   ]
  },
  {
   "cell_type": "code",
   "execution_count": null,
   "id": "e1385057-38da-434f-b230-59cd49e0b580",
   "metadata": {
    "tags": []
   },
   "outputs": [],
   "source": [
    "#Closest Mirror\n",
    "d_mirror=0.022143\n",
    "A=1.0\n",
    "B=0.9600\n",
    "C=1.6000\n",
    "D=1.0800\n",
    "\n",
    "awm=B-A\n",
    "amw=C-D\n",
    "\n",
    "pop = {'0':500,'1':500}\n",
    "\n",
    "#outcome = np.array([simulate(s,x,y) for x,y in merged_list ])\n",
    "outcomes = []\n",
    "histories = []\n",
    "histories1 = []\n",
    "s=D-A\n",
    "sm=0.1      # Selection to mimic\n",
    "mutation_rate = mu =0.001\n",
    "generations = gens = 900\n",
    "reps = 20\n",
    "\n",
    "on_off = [(s,0,0), (s,awm,amw)]\n",
    "for s,awm,amw in on_off:\n",
    "    outcome = []\n",
    "    history = []\n",
    "    history1 =[]\n",
    "    print((s,awm,amw))\n",
    "    for i in range(1,reps+1):\n",
    "        pop = {'0':500,'1':500}\n",
    "        a = simulate(s,amw,awm)\n",
    "        history1.append([ii['0'] for ii in a])\n",
    "        history.append(a)\n",
    "        #print(s, j ,k )\n",
    "    outcomes.append(outcome)      \n",
    "    histories1.append(flatten(history1))\n",
    "    histories.append(history)"
   ]
  },
  {
   "cell_type": "code",
   "execution_count": null,
   "id": "b64d8e8a-fd8e-4fab-a8ab-95a7a61ad3a2",
   "metadata": {
    "tags": []
   },
   "outputs": [],
   "source": [
    "#Plot mode of history 1\n",
    "mode0, lower0, upper0 = [],[],[]\n",
    "mode1, lower1, upper1 = [],[],[]\n",
    "gens = 900\n",
    "for t in range(0,gens):\n",
    "    vals0 = []\n",
    "    vals1=[]\n",
    "    for si in range(0,reps):\n",
    "        sli = histories[0][si][t]\n",
    "        vals0.append(sli['0'])\n",
    "        vals1.append(sli['1'])\n",
    "    mode0.append(stat.mode(vals0))\n",
    "    lower0.append(min(vals0))\n",
    "    upper0.append(max(vals0))\n",
    "    mode1.append(stat.mode(vals1))\n",
    "    lower1.append(min(vals1))\n",
    "    upper1.append(max(vals1))\n",
    "\n",
    "len(mode0)\n",
    "\n",
    "custom_params = {\"axes.spines.right\": False, \"axes.spines.top\": False}\n",
    "sns.set_theme(style=\"ticks\", rc=custom_params)\n",
    "\n",
    "ax = sns.lineplot(x=[i for i in range(0,gens)], y=mode0, color='yellow', label=\"Type 1, no interactions\")\n",
    "ax.fill_between(\n",
    "    [i for i in range(0,gens)], lower0, upper0, color='yellow', alpha=.15)\n",
    "ax1 = sns.lineplot(x=[i for i in range(0,gens)], y=mode1, color='r',  label=\"Type 2, no interactions\")\n",
    "ax1.fill_between(\n",
    "    [i for i in range(0,gens)], lower1, upper1, color='r', alpha=.15)\n",
    "ax.set_ylim(0,sum(pop.values()))\n",
    "\n",
    "#Plot mode of history 2\n",
    "\n",
    "mode0, lower0, upper0 = [],[],[]\n",
    "mode1, lower1, upper1 = [],[],[]\n",
    "gens = 900\n",
    "for t in range(0,gens):\n",
    "    vals0 = []\n",
    "    vals1=[]\n",
    "    for si in range(0,reps):\n",
    "        sli = histories[1][si][t]\n",
    "        vals0.append(sli['0'])\n",
    "        vals1.append(sli['1'])\n",
    "    mode0.append(stat.mode(vals0))\n",
    "    lower0.append(min(vals0))\n",
    "    upper0.append(max(vals0))\n",
    "    mode1.append(stat.mode(vals1))\n",
    "    lower1.append(min(vals1))\n",
    "    upper1.append(max(vals1))\n",
    "\n",
    "len(mode0)\n",
    "\n",
    "ax = sns.lineplot(x=[i for i in range(0,gens)], y=mode0, color='orange', label=\"Type 1 with eco-interactions\")\n",
    "ax.fill_between(\n",
    "    [i for i in range(0,gens)], lower0, upper0, color='orange', alpha=.15)\n",
    "ax1 = sns.lineplot(x=[i for i in range(0,gens)], y=mode1, color='b', label=\"Type 2 with eco-interactions\")\n",
    "ax1.fill_between(\n",
    "    [i for i in range(0,gens)], lower1, upper1, color='b', alpha=.15)\n",
    "ax.set_ylim(0,sum(pop.values()))\n",
    "\n",
    "plt.legend(frameon=False)\n",
    "ax.get_figure().savefig('mimic_literature.png', dpi=250)"
   ]
  },
  {
   "cell_type": "code",
   "execution_count": null,
   "id": "819f50b3-78ee-4061-87e7-b96045779605",
   "metadata": {
    "tags": []
   },
   "outputs": [],
   "source": [
    "#Closest Maintenance\n",
    "A=1.0\n",
    "B=1.0077\n",
    "C=0.9786\n",
    "D=0.7545\n",
    "d_mt_s=0.022143\n",
    "\n",
    "\n",
    "awm=B-A\n",
    "amw=C-D\n",
    "\n",
    "pop = {'0':500,'1':500}\n",
    "\n",
    "#outcome = np.array([simulate(s,x,y) for x,y in merged_list ])\n",
    "outcomes = []\n",
    "histories = []\n",
    "histories1 = []\n",
    "s=D-A\n",
    "sm=0.1      # Selection to mimic\n",
    "mutation_rate = mu =0.001\n",
    "generations = gens = 900\n",
    "reps = 20\n",
    "\n",
    "on_off = [(s,0,0), (s,awm,amw)]\n",
    "for s,awm,amw in on_off:\n",
    "    outcome = []\n",
    "    history = []\n",
    "    history1 =[]\n",
    "    print((s,awm,amw))\n",
    "    for i in range(1,reps+1):\n",
    "        pop = {'0':500,'1':500}\n",
    "        a = simulate(s,amw,awm)\n",
    "        history1.append([ii['0'] for ii in a])\n",
    "        history.append(a)\n",
    "        #print(s, j ,k )\n",
    "    outcomes.append(outcome)      \n",
    "    histories1.append(flatten(history1))\n",
    "    histories.append(history)"
   ]
  },
  {
   "cell_type": "code",
   "execution_count": null,
   "id": "f39ceb49-41ec-4b5d-b24e-b0717555ae8f",
   "metadata": {
    "tags": []
   },
   "outputs": [],
   "source": [
    "#Plot mode of history 1\n",
    "mode0, lower0, upper0 = [],[],[]\n",
    "mode1, lower1, upper1 = [],[],[]\n",
    "gens = 900\n",
    "for t in range(0,gens):\n",
    "    vals0 = []\n",
    "    vals1=[]\n",
    "    for si in range(0,reps):\n",
    "        sli = histories[0][si][t]\n",
    "        vals0.append(sli['0'])\n",
    "        vals1.append(sli['1'])\n",
    "    mode0.append(stat.mode(vals0))\n",
    "    lower0.append(min(vals0))\n",
    "    upper0.append(max(vals0))\n",
    "    mode1.append(stat.mode(vals1))\n",
    "    lower1.append(min(vals1))\n",
    "    upper1.append(max(vals1))\n",
    "\n",
    "len(mode0)\n",
    "\n",
    "custom_params = {\"axes.spines.right\": False, \"axes.spines.top\": False}\n",
    "sns.set_theme(style=\"ticks\", rc=custom_params)\n",
    "\n",
    "ax = sns.lineplot(x=[i for i in range(0,gens)], y=mode0, color='yellow', label=\"Type 1, no interactions\")\n",
    "ax.fill_between(\n",
    "    [i for i in range(0,gens)], lower0, upper0, color='yellow', alpha=.15)\n",
    "ax1 = sns.lineplot(x=[i for i in range(0,gens)], y=mode1, color='r',  label=\"Type 2, no interactions\")\n",
    "ax1.fill_between(\n",
    "    [i for i in range(0,gens)], lower1, upper1, color='r', alpha=.15)\n",
    "ax.set_ylim(0,sum(pop.values()))\n",
    "\n",
    "#Plot mode of history 2\n",
    "\n",
    "mode0, lower0, upper0 = [],[],[]\n",
    "mode1, lower1, upper1 = [],[],[]\n",
    "gens = 900\n",
    "for t in range(0,gens):\n",
    "    vals0 = []\n",
    "    vals1=[]\n",
    "    for si in range(0,reps):\n",
    "        sli = histories[1][si][t]\n",
    "        vals0.append(sli['0'])\n",
    "        vals1.append(sli['1'])\n",
    "    mode0.append(stat.mode(vals0))\n",
    "    lower0.append(min(vals0))\n",
    "    upper0.append(max(vals0))\n",
    "    mode1.append(stat.mode(vals1))\n",
    "    lower1.append(min(vals1))\n",
    "    upper1.append(max(vals1))\n",
    "\n",
    "len(mode0)\n",
    "\n",
    "ax = sns.lineplot(x=[i for i in range(0,gens)], y=mode0, color='orange', label=\"Type 1 with eco-interactions\")\n",
    "ax.fill_between(\n",
    "    [i for i in range(0,gens)], lower0, upper0, color='orange', alpha=.15)\n",
    "ax1 = sns.lineplot(x=[i for i in range(0,gens)], y=mode1, color='b', label=\"Type 2 with eco-interactions\")\n",
    "ax1.fill_between(\n",
    "    [i for i in range(0,gens)], lower1, upper1, color='b', alpha=.15)\n",
    "ax.set_ylim(0,sum(pop.values()))\n",
    "\n",
    "plt.legend(frameon=False)\n",
    "ax.get_figure().savefig('maintain_literature.png', dpi=250)"
   ]
  },
  {
   "cell_type": "code",
   "execution_count": null,
   "id": "6f2e53c8-734a-405c-81fd-eb88e17e7a28",
   "metadata": {
    "tags": []
   },
   "outputs": [],
   "source": [
    "#Closest Mask\n",
    "A=1.0\n",
    "B=1.3462\n",
    "C=1.1923\n",
    "D=1.1538\n",
    "d_mt_s=0.0001\n",
    "\n",
    "#1.0\t1.3462\t1.1923\t1.1538\n",
    "awm=B-A\n",
    "amw=C-D\n",
    "\n",
    "pop = {'0':500,'1':500}\n",
    "\n",
    "#outcome = np.array([simulate(s,x,y) for x,y in merged_list ])\n",
    "outcomes = []\n",
    "histories = []\n",
    "histories1 = []\n",
    "s=D-A\n",
    "sm=0.1      # Selection to mimic\n",
    "mutation_rate = mu =0.001\n",
    "generations = gens = 900\n",
    "reps = 20\n",
    "\n",
    "on_off = [(s,0,0), (s,awm,amw)]\n",
    "for s,awm,amw in on_off:\n",
    "    outcome = []\n",
    "    history = []\n",
    "    history1 =[]\n",
    "    print((s,awm,amw))\n",
    "    for i in range(1,reps+1):\n",
    "        pop = {'0':500,'1':500}\n",
    "        a = simulate(s,awm,amw)\n",
    "        history1.append([ii['0'] for ii in a])\n",
    "        history.append(a)\n",
    "        #print(s, j ,k )\n",
    "    outcomes.append(outcome)      \n",
    "    histories1.append(flatten(history1))\n",
    "    histories.append(history)"
   ]
  },
  {
   "cell_type": "code",
   "execution_count": null,
   "id": "a970f16f-a505-4ef8-8d90-ab344b13ee76",
   "metadata": {
    "tags": []
   },
   "outputs": [],
   "source": [
    "#Plot mode of history 1\n",
    "mode0, lower0, upper0 = [],[],[]\n",
    "mode1, lower1, upper1 = [],[],[]\n",
    "gens = 900\n",
    "for t in range(0,gens):\n",
    "    vals0 = []\n",
    "    vals1=[]\n",
    "    for si in range(0,reps):\n",
    "        sli = histories[0][si][t]\n",
    "        vals0.append(sli['0'])\n",
    "        vals1.append(sli['1'])\n",
    "    mode0.append(stat.mode(vals0))\n",
    "    lower0.append(min(vals0))\n",
    "    upper0.append(max(vals0))\n",
    "    mode1.append(stat.mode(vals1))\n",
    "    lower1.append(min(vals1))\n",
    "    upper1.append(max(vals1))\n",
    "\n",
    "len(mode0)\n",
    "\n",
    "custom_params = {\"axes.spines.right\": False, \"axes.spines.top\": False}\n",
    "sns.set_theme(style=\"ticks\", rc=custom_params)\n",
    "\n",
    "ax = sns.lineplot(x=[i for i in range(0,gens)], y=mode0, color='yellow', label=\"Type 1, no interactions\")\n",
    "ax.fill_between(\n",
    "    [i for i in range(0,gens)], lower0, upper0, color='yellow', alpha=.15)\n",
    "ax1 = sns.lineplot(x=[i for i in range(0,gens)], y=mode1, color='r',  label=\"Type 2, no interactions\")\n",
    "ax1.fill_between(\n",
    "    [i for i in range(0,gens)], lower1, upper1, color='r', alpha=.15)\n",
    "ax.set_ylim(0,sum(pop.values()))\n",
    "\n",
    "\n",
    "\n",
    "#Plot mode of history 2\n",
    "\n",
    "mode0, lower0, upper0 = [],[],[]\n",
    "mode1, lower1, upper1 = [],[],[]\n",
    "gens = 900\n",
    "for t in range(0,gens):\n",
    "    vals0 = []\n",
    "    vals1=[]\n",
    "    for si in range(0,reps):\n",
    "        sli = histories[1][si][t]\n",
    "        vals0.append(sli['0'])\n",
    "        vals1.append(sli['1'])\n",
    "    mode0.append(stat.mode(vals0))\n",
    "    lower0.append(min(vals0))\n",
    "    upper0.append(max(vals0))\n",
    "    mode1.append(stat.mode(vals1))\n",
    "    lower1.append(min(vals1))\n",
    "    upper1.append(max(vals1))\n",
    "\n",
    "len(mode0)\n",
    "\n",
    "ax = sns.lineplot(x=[i for i in range(0,gens)], y=mode0, color='orange', label=\"Type 1 with eco-interactions\")\n",
    "ax.fill_between(\n",
    "    [i for i in range(0,gens)], lower0, upper0, color='orange', alpha=.15)\n",
    "ax1 = sns.lineplot(x=[i for i in range(0,gens)], y=mode1, color='b', label=\"Type 2 with eco-interactions\")\n",
    "ax1.fill_between(\n",
    "    [i for i in range(0,gens)], lower1, upper1, color='b', alpha=.15)\n",
    "ax.set_ylim(0,sum(pop.values()))\n",
    "plt.legend(frameon=False)\n",
    "ax.get_figure().savefig('masking_literature.png', dpi=250)\n"
   ]
  },
  {
   "cell_type": "markdown",
   "id": "Phn03TMgy0hl",
   "metadata": {
    "id": "Phn03TMgy0hl"
   },
   "source": [
    "Summary plotting for manuscript"
   ]
  },
  {
   "cell_type": "markdown",
   "id": "44ab0d96-43e7-498c-9ea1-1b7ef8b9e819",
   "metadata": {
    "id": "dfb7ef63"
   },
   "source": [
    "1. Plot amw as function of awm (x3 cases)\n",
    "2. Plot different lines for s \n",
    "3. Plot different lines for mu\n"
   ]
  },
  {
   "cell_type": "code",
   "execution_count": null,
   "id": "37073e40-9738-4620-aeaa-c753e9224325",
   "metadata": {
    "id": "dfb7ef63"
   },
   "outputs": [],
   "source": [
    "awm_vals = np.linspace(-0.15,0.15,10)\n",
    "s_vals = np.linspace(0,1,10)\n",
    "mu_vals = np.linspace(0.001, 0.1, 10)"
   ]
  },
  {
   "cell_type": "code",
   "execution_count": null,
   "id": "2365cc00-2e02-4429-afdc-70103cae7dc7",
   "metadata": {
    "tags": []
   },
   "outputs": [],
   "source": [
    "mask_df = pd.DataFrame({'amw':awm_vals,\n",
    "                        'amw_s005_mu005':mask_1(awm_vals, 0.05, 0.005),\n",
    "                        'amw_s01_mu005':mask_1(awm_vals, 0.1, 0.005),\n",
    "                        'amw_s015_mu005':mask_1(awm_vals, 0.2, 0.005),\n",
    "                        'amw_s005_mu05':mask_1(awm_vals, 0.05, 0.05),\n",
    "                        'amw_s01_mu05':mask_1(awm_vals, 0.1, 0.05),\n",
    "                        'amw_s015_mu05':mask_1(awm_vals, 0.2, 0.05),\n",
    "                        'amw_s005_mu5':mask_1(awm_vals, 0.05, 0.5),\n",
    "                        'amw_s01_mu5':mask_1(awm_vals, 0.1, 0.5),\n",
    "                        'amw_s015_mu5':mask_1(awm_vals, 0.2, 0.5)\n",
    "                       })"
   ]
  },
  {
   "cell_type": "code",
   "execution_count": null,
   "id": "a6758909-926c-4fdb-9266-5ed3e2564a92",
   "metadata": {
    "tags": []
   },
   "outputs": [],
   "source": [
    "fig, axes = plt.subplots(1, 2)\n",
    "\n",
    "\n",
    "\n",
    "mask_df.plot(x='amw',y='amw_s005_mu005', ax=axes[0]) \n",
    "mask_df.plot(x='amw',y='amw_s01_mu005', ax=axes[0])\n",
    "mask_df.plot(x='amw',y='amw_s015_mu005', ax=axes[0])\n",
    "\n",
    "mask_df.plot(x='amw',y='amw_s005_mu05', ax=axes[1])\n",
    "mask_df.plot(x='amw',y='amw_s01_mu05', ax=axes[1])\n",
    "mask_df.plot(x='amw',y='amw_s015_mu05', ax=axes[1])\n",
    "\n",
    "#mask_df.plot(x='awm',y='amw_s005_mu5', ax=axes[2])\n",
    "#mask_df.plot(x='awm',y='amw_s01_mu5', ax=axes[2])\n",
    "#mask_df.plot(x='awm',y='amw_s015_mu5', ax=axes[2])\n",
    "\n",
    "axes[0].get_legend().remove()\n",
    "axes[1].get_legend().remove()\n",
    "\n",
    "axes[0].set(xlabel='', ylabel=r'$\\alpha_{wm}$', title=r\"$\\mu$ = 0.005\")\n",
    "axes[1].set(xlabel=r'$\\alpha_{mw}$', ylabel='', title=r\"$\\mu$ = 0.05\")\n",
    "#axes[2].set(xlabel='', ylabel='', title='0.5')\n",
    "\n",
    "plt.legend(labels=[\"0.05\", \"0.1\", \"0.2\"], title=r\"$s_m$\", frameon=False)\n",
    "plt.legend().remove()\n",
    "plt.gcf().set_size_inches(3.2, 2.5)\n",
    "plt.savefig(\"mask_mu_plotno_leg.png\",dpi=250)"
   ]
  },
  {
   "cell_type": "code",
   "execution_count": null,
   "id": "42c3f73d-d466-40ec-98cd-b57e9ac4359e",
   "metadata": {
    "tags": []
   },
   "outputs": [],
   "source": [
    "mimic_df = pd.DataFrame({'awm':awm_vals,\n",
    "                        'amw_s005_mu005':mimic_1(awm_vals, 0.05, 0.005),\n",
    "                        'amw_s01_mu005':mimic_1(awm_vals, 0.1, 0.005),\n",
    "                        'amw_s015_mu005':mimic_1(awm_vals, 0.15, 0.005),\n",
    "                        'amw_s005_mu05':mimic_1(awm_vals, 0.05, 0.05),\n",
    "                        'amw_s01_mu05':mimic_1(awm_vals, 0.1, 0.05),\n",
    "                        'amw_s015_mu05':mimic_1(awm_vals, 0.15, 0.05),\n",
    "                        'amw_s005_mu5':mimic_1(awm_vals, 0.05, 0.5),\n",
    "                        'amw_s01_mu5':mimic_1(awm_vals, 0.1, 0.5),\n",
    "                        'amw_s015_mu5':mimic_1(awm_vals, 0.15, 0.5)\n",
    "                       })"
   ]
  },
  {
   "cell_type": "code",
   "execution_count": null,
   "id": "99424425-1a29-48c2-8470-49fbeacc7141",
   "metadata": {
    "tags": []
   },
   "outputs": [],
   "source": [
    "mimic_df.dtypes"
   ]
  },
  {
   "cell_type": "code",
   "execution_count": null,
   "id": "8f7342fb-1a1a-4606-babc-075afc6958f1",
   "metadata": {
    "tags": []
   },
   "outputs": [],
   "source": [
    "#plt.figure(figsize=(0.5,1))\n",
    "fig,axes = plt.subplots(1, 2)\n",
    "\n",
    "mimic_df.plot( x='awm',y='amw_s005_mu005', ax=axes[0],figsize=(3.2,2.5))\n",
    "mimic_df.plot(x='awm',y='amw_s01_mu005', ax=axes[0])\n",
    "mimic_df.plot(x='awm',y='amw_s015_mu005', ax=axes[0])\n",
    "\n",
    "mimic_df.plot(x='awm',y='amw_s005_mu05', ax=axes[1])\n",
    "mimic_df.plot(x='awm',y='amw_s01_mu05', ax=axes[1])\n",
    "mimic_df.plot(x='awm',y='amw_s015_mu05', ax=axes[1])\n",
    "\n",
    "#sns.scatterplot(data =mimic_df,x='awm',y='amw_s005_mu5', ax=axes[2])\n",
    "#sns.scatterplot(data =mimic_df,x='awm',y='amw_s01_mu5', ax=axes[2])\n",
    "#sns.scatterplot(data =mimic_df,x='awm',y='amw_s015_mu5', ax=axes[2])\n",
    "\n",
    "axes[0].get_legend().remove()\n",
    "\n",
    "axes[1].get_legend().remove()\n",
    "\n",
    "axes[0].set(xlabel='amw', ylabel='awm', title=\"mu = 0.005\")\n",
    "plt.title('')\n",
    "axes[1].set(xlabel='amw', ylabel='', title=\"mu=0.05\")\n",
    "#axes[2].set(xlabel='', ylabel='', title='0.5')\n",
    "plt.title('')\n",
    "plt.legend(labels=[\"0.005\", \"0.01\", \"0.015\"], title=\"s\")\n",
    "\n",
    "plt.savefig(\"mimic_mu_plot.png\", dpi=300)"
   ]
  },
  {
   "cell_type": "code",
   "execution_count": null,
   "id": "aceeb261-2550-4244-8742-d1e4adecb575",
   "metadata": {},
   "outputs": [],
   "source": [
    "print(sns.__version__)"
   ]
  },
  {
   "cell_type": "code",
   "execution_count": null,
   "id": "74c57501-0208-46e2-8dd9-a2d9b1ec3a3e",
   "metadata": {
    "tags": []
   },
   "outputs": [],
   "source": [
    "fig, axes = plt.subplots(1, 3)\n",
    "\n",
    "sns.lineplot(data =mimic_df,x='awm',y='amw_s005_mu005', ax=axes[0])\n",
    "sns.lineplot(data =mimic_df,x='awm',y='amw_s005_mu05', ax=axes[0])\n",
    "sns.lineplot(data =mimic_df,x='awm',y='amw_s005_mu5', ax=axes[0])\n",
    "\n",
    "sns.lineplot(data =mimic_df,x='awm',y='amw_s01_mu005', ax=axes[1])\n",
    "sns.lineplot(data =mimic_df,x='awm',y='amw_s01_mu05', ax=axes[1])\n",
    "sns.lineplot(data =mimic_df,x='awm',y='amw_s01_mu5', ax=axes[1])\n",
    "\n",
    "\n",
    "sns.lineplot(data =mimic_df,x='awm',y='amw_s015_mu005', ax=axes[2])\n",
    "sns.lineplot(data =mimic_df,x='awm',y='amw_s015_mu05', ax=axes[2])\n",
    "sns.lineplot(data =mimic_df,x='awm',y='amw_s015_mu5', ax=axes[2])\n",
    "\n",
    "axes[0].set(xlabel='', ylabel='amw', title=\"s = 0.005\")\n",
    "axes[1].set(xlabel='awm', ylabel='', title=\"0.05\")\n",
    "axes[2].set(xlabel='', ylabel='', title='0.5')\n",
    "plt.gcf().set_size_inches(3.2, 2.5)\n",
    "plt.legend(labels=[\"0.005\", \"0.05\", \"0.5\"], title=\"mu\")\n"
   ]
  },
  {
   "cell_type": "code",
   "execution_count": null,
   "id": "8131e922-600f-4dbf-bf61-e9e62e13659e",
   "metadata": {
    "tags": []
   },
   "outputs": [],
   "source": [
    "mirror_df = pd.DataFrame({'amw':awm_vals,\n",
    "                        'amw_s005_mu005':mirror(0.005, 0.005,awm_vals)[1],\n",
    "                        'amw_s01_mu005':mirror(0.01, 0.005,awm_vals)[1],\n",
    "                        'amw_s015_mu005':mirror(0.015, 0.005,awm_vals)[1],\n",
    "                        'amw_s005_mu05':mirror(0.005, 0.05,awm_vals)[1],\n",
    "                        'amw_s01_mu05':mirror(0.01, 0.05,awm_vals)[1],\n",
    "                        'amw_s015_mu05':mirror(0.015, 0.05,awm_vals)[1],\n",
    "                        'amw_s005_mu5':mirror(0.005, 0.5,awm_vals)[1],\n",
    "                        'amw_s01_mu5':mirror(0.01, 0.5,awm_vals)[1],\n",
    "                        'amw_s015_mu5':mirror(0.015, 0.5,awm_vals)[1]\n",
    "                       })"
   ]
  },
  {
   "cell_type": "code",
   "execution_count": null,
   "id": "aee9d810-9481-4183-8feb-26f843094a85",
   "metadata": {
    "tags": []
   },
   "outputs": [],
   "source": [
    "fig, axes = plt.subplots(1, 2)\n",
    "\n",
    "\n",
    "mirror_df.plot(x='amw',y='amw_s005_mu005', ax=axes[0])\n",
    "mirror_df.plot(x='amw',y='amw_s01_mu005', ax=axes[0])\n",
    "mirror_df.plot(x='amw',y='amw_s015_mu005', ax=axes[0])\n",
    "\n",
    "mirror_df.plot(x='amw',y='amw_s005_mu05', ax=axes[1])\n",
    "mirror_df.plot(x='amw',y='amw_s01_mu05', ax=axes[1])\n",
    "mirror_df.plot(x='amw',y='amw_s015_mu05', ax=axes[1])\n",
    "\n",
    "#sns.lineplot(data =maintain_df,x='awm',y='amw_s005_mu5', ax=axes[2])\n",
    "#sns.lineplot(data =maintain_df,x='awm',y='amw_s01_mu5', ax=axes[2])\n",
    "#sns.lineplot(data =maintain_df,x='awm',y='amw_s015_mu5', ax=axes[2])\n",
    "\n",
    "axes[0].get_legend().remove()\n",
    "axes[1].get_legend().remove()\n",
    "\n",
    "axes[0].set(xlabel='', ylabel='awm', title=\"mu = 0.005\")\n",
    "axes[1].set(xlabel='amw', ylabel='', title=\"mu = 0.05\")\n",
    "#axes[2].set(xlabel='', ylabel='', title='0.5')\n",
    "\n",
    "plt.legend(labels=[\"0.005\", \"0.01\", \"0.015\"], title=\"s\")\n",
    "plt.gcf().set_size_inches(3.2, 2.5)\n",
    "plt.savefig(\"mirror_mu_plot.png\", dpi=250)"
   ]
  },
  {
   "cell_type": "code",
   "execution_count": null,
   "id": "fa55f253-4f26-4eed-996d-83a1b4531eca",
   "metadata": {
    "tags": []
   },
   "outputs": [],
   "source": [
    "maintain_df = pd.DataFrame({'amw':awm_vals,\n",
    "                        'amw_s005_mu005':maintain_1(awm_vals, 0.05, 0.005),\n",
    "                        'amw_s01_mu005':maintain_1(awm_vals, 0.1, 0.005),\n",
    "                        'amw_s015_mu005':maintain_1(awm_vals, 0.2, 0.005),\n",
    "                        'amw_s005_mu05':maintain_1(awm_vals, 0.05, 0.05),\n",
    "                        'amw_s01_mu05':maintain_1(awm_vals, 0.1, 0.05),\n",
    "                        'amw_s015_mu05':maintain_1(awm_vals, 0.2, 0.05),\n",
    "                        'amw_s005_mu5':maintain_1(awm_vals, 0.05, 0.5),\n",
    "                        'amw_s01_mu5':maintain_1(awm_vals, 0.1, 0.5),\n",
    "                        'amw_s015_mu5':maintain_1(awm_vals, 0.2, 0.5)\n",
    "                       })"
   ]
  },
  {
   "cell_type": "code",
   "execution_count": null,
   "id": "02a1cfd1-2774-4e9b-928d-c5c23ef1a48c",
   "metadata": {
    "tags": []
   },
   "outputs": [],
   "source": [
    "fig, axes = plt.subplots(1, 2)\n",
    "\n",
    "maintain_df.plot(x='amw',y='amw_s005_mu005', ax=axes[0])\n",
    "maintain_df.plot(x='amw',y='amw_s01_mu005', ax=axes[0])\n",
    "maintain_df.plot(x='amw',y='amw_s015_mu005', ax=axes[0])\n",
    "\n",
    "maintain_df.plot(x='amw',y='amw_s005_mu05', ax=axes[1])\n",
    "maintain_df.plot(x='amw',y='amw_s01_mu05', ax=axes[1])\n",
    "maintain_df.plot(x='amw',y='amw_s015_mu05', ax=axes[1])\n",
    "\n",
    "#sns.lineplot(data =maintain_df,x='awm',y='amw_s005_mu5', ax=axes[2])\n",
    "#sns.lineplot(data =maintain_df,x='awm',y='amw_s01_mu5', ax=axes[2])\n",
    "#sns.lineplot(data =maintain_df,x='awm',y='amw_s015_mu5', ax=axes[2])\n",
    "\n",
    "axes[0].get_legend().remove()\n",
    "axes[1].get_legend().remove()\n",
    "\n",
    "axes[0].set(xlabel='', ylabel='awm', title=\"mu = 0.005\")\n",
    "axes[1].set(xlabel='amw', ylabel='', title=\"mu = 0.05\")\n",
    "#axes[2].set(xlabel='', ylabel='', title='0.5')\n",
    "\n",
    "plt.legend(labels=[\"0.05\", \"0.1\", \"0.2\"], title=\"s\")\n",
    "plt.gcf().set_size_inches(3.2, 2.5)\n",
    "plt.savefig(\"maintain_mu_plot.png\", dpi=300)"
   ]
  },
  {
   "cell_type": "markdown",
   "id": "98009596",
   "metadata": {},
   "source": [
    "Error in masking etc?"
   ]
  },
  {
   "cell_type": "code",
   "execution_count": null,
   "id": "897b492c-1e53-4819-98f0-78865bada62f",
   "metadata": {},
   "outputs": [],
   "source": [
    "df = pd.DataFrame()                                                                                                                                                                     \n",
    "\n",
    "#Masking \n",
    "for alph in []:\n",
    "    for s in []:\n",
    "        for mu in []:\n",
    "            \n",
    "            result = simulate(s, mu)\n",
    "            mode = mode(result)\n",
    "            var = variance(result)\n",
    "            mode_th = theor_mode(s, mu)\n",
    "            error = result - mode_th\n",
    "            df.append(alph, mu, s,mode, var, error)"
   ]
  },
  {
   "cell_type": "code",
   "execution_count": null,
   "id": "081349db",
   "metadata": {},
   "outputs": [],
   "source": [
    "import pandas as pd"
   ]
  },
  {
   "cell_type": "code",
   "execution_count": null,
   "id": "9d0e0cb5-705f-4920-9dac-c1fa70690e5d",
   "metadata": {},
   "outputs": [],
   "source": [
    "df = pd.DataFrame({\"awm\":[], \"amw\":[], \"type\":[], \"mu\":[],\"s\":[],\"mode\":[],\"var\":[],\"mean\":[], \"mode_th\":[]})   \n",
    "#Mimic\n",
    "for alph in [0,0.01,0.05,0.1]:#,-0.02,0,0.02,0.04,0.08,0.1]:\n",
    "    for sp in [0.05,0.1,0.2]:#,0.02,0.04,0.1]:\n",
    "        for mu in [0.005,0.01]:#,0.01,0.02,0.05,0.1]:\n",
    "            for rep in range(0,50):\n",
    "                pop0 = {'0':500,'1':500}\n",
    "                history = []\n",
    "                generations = 4000\n",
    "                mutation_rate=mu\n",
    "                amw = alph\n",
    "                if amw==0:\n",
    "                    awm=0\n",
    "                    result = simulate(0, awm, amw)\n",
    "                else:\n",
    "                    awm = mimic_1(amw, sp, mu)\n",
    "                    result = simulate(0, awm, amw)\n",
    "                x0 = [ii['0'] for ii in result]\n",
    "            \n",
    "                mode = stat.mode(x0[1000:generations])\n",
    "                var = stat.stdev(x0[1000:generations])\n",
    "                mean = np.mean(x0[1000:generations])\n",
    "                mode_th = theor_mode(sp, mu)\n",
    "                df2 = pd.DataFrame({\"awm\":[awm], \"amw\":[amw], \"type\":[\"mimic\"], \"mu\":[mu],\"s\":[sp],\"mode\":[mode],\"var\":[var], \"mean\":[mean], \"mode_th\":[mode_th]})\n",
    "                df = pd.concat([df, df2])\n",
    "                \n",
    "df.to_csv(\"final_sims_mimic.csv\",index=False)"
   ]
  },
  {
   "cell_type": "code",
   "execution_count": null,
   "id": "ca53e9f3",
   "metadata": {},
   "outputs": [],
   "source": [
    "df = pd.DataFrame({\"awm\":[], \"amw\":[], \"type\":[], \"mu\":[],\"s\":[],\"mode\":[],\"var\":[],\"mean\":[], \"mode_th\":[]})   \n",
    "#Maintain\n",
    "for alph in [0,0.01,0.05,0.1]:#,-0.02,0,0.02,0.04,0.08,0.1]:\n",
    "    for s in [0.05,0.1,0.2]:#,0.02,0.04,0.1]:\n",
    "        for mu in [0.005,0.01]:#,0.01,0.02,0.05,0.1]:\n",
    "            for rep in range(0,50):\n",
    "                pop0 = {'0':500,'1':500}\n",
    "                history = []\n",
    "                generations = 4000\n",
    "                mutation_rate=mu\n",
    "                amw=alph\n",
    "                if amw==0:\n",
    "                    awm=0\n",
    "                else:\n",
    "                    awm = maintain_1(amw, s, mu)\n",
    "                result = simulate(s, awm, amw)\n",
    "                x0 = [ii['0'] for ii in result]\n",
    "            \n",
    "                mode = stat.mode(x0[1000:generations])\n",
    "                var = stat.stdev(x0[1000:generations])\n",
    "                mean = np.mean(x0[1000:generations])\n",
    "                mode_th = theor_mode(s, mu)\n",
    "                \n",
    "                df2 = pd.DataFrame({\"awm\":[awm], \"amw\":[amw], \"type\":[\"maintain\"], \"mu\":[mu],\"s\":[s],\"mode\":[mode],\"var\":[var], \"mean\":[mean], \"mode_th\":[mode_th]})\n",
    "                df = pd.concat([df, df2])\n",
    "                \n",
    "df.to_csv(\"final_sims_maintain2.csv\",index=False)"
   ]
  },
  {
   "cell_type": "code",
   "execution_count": null,
   "id": "aff19c2d-11c4-4c83-8b41-c2fcc7c412a9",
   "metadata": {},
   "outputs": [],
   "source": [
    "df = pd.DataFrame({\"awm\":[], \"amw\":[], \"type\":[], \"mu\":[],\"s\":[],\"mode\":[],\"var\":[],\"mean\":[], \"mode_th\":[]})   \n",
    "#Mask\n",
    "for alph in [0,0.01,0.05,0.1]:#,-0.02,0,0.02,0.04,0.08,0.1]:\n",
    "    for sp in [0.05,0.1,0.2]:#,0.02,0.04,0.1]:\n",
    "        for mu in [0.005,0.01]:#,0.01,0.02,0.05,0.1]:\n",
    "            for rep in range(0,50):\n",
    "                pop0 = {'0':500,'1':500}\n",
    "                history = []\n",
    "                generations = 4000\n",
    "                mutation_rate=mu\n",
    "                amw = alph\n",
    "                if amw==0:\n",
    "                    awm =0\n",
    "                else:\n",
    "                    awm = mask_1(amw, sp, mu)\n",
    "                result = simulate(sp, awm, amw)\n",
    "                x0 = [ii['0'] for ii in result]\n",
    "            \n",
    "                mode = stat.mode(x0[1000:generations])\n",
    "                var = stat.stdev(x0[1000:generations])\n",
    "                mean = np.mean(x0[1000:generations])\n",
    "                mode_th = theor_mode(sp, mu)\n",
    "                df2 = pd.DataFrame({\"awm\":[awm], \"amw\":[amw], \"type\":[\"mask\"], \"mu\":[mu],\"s\":[sp],\"mode\":[mode],\"var\":[var], \"mean\":[mean], \"mode_th\":[mode_th]})\n",
    "                df = pd.concat([df, df2])\n",
    "df.to_csv(\"final_sims_mask.csv\",index=False)"
   ]
  },
  {
   "cell_type": "code",
   "execution_count": null,
   "id": "b88a0859-3207-4407-8cd4-8e37cf9f3d24",
   "metadata": {},
   "outputs": [],
   "source": [
    "df = pd.DataFrame({\"awm\":[], \"amw\":[], \"type\":[], \"mu\":[],\"s\":[],\"mode\":[],\"var\":[],\"mean\":[], \"mode_th\":[]})   \n",
    "#Mirror\n",
    "for alph in [0.01,0.05,0.1,0]:#,-0.02,0,0.02,0.04,0.08,0.1]:\n",
    "    for sp in [0.05,0.1,0.2]:#,0.02,0.04,0.1]:\n",
    "        for mu in [0.005,0.01]:#,0.01,0.02,0.05,0.1]:\n",
    "            for rep in range(0,20):\n",
    "                if (rep==5):\n",
    "                    print(rep)\n",
    "                pop0 = {'0':500,'1':500}\n",
    "                history = []\n",
    "                generations = 2000\n",
    "                mutation_rate=mu\n",
    "                awm = alph\n",
    "                if awm==0:\n",
    "                    amw=0\n",
    "                else:\n",
    "                    awm,amw = mirror(sp, mu, awm)\n",
    "                    print(sp, mu, awm, amw)\n",
    "                result = simulate(sp, awm, amw)\n",
    "                x0 = [ii['0'] for ii in result]  \n",
    "                mode = stat.mode(x0[1000:generations])\n",
    "                var = stat.stdev(x0[1000:generations])\n",
    "                mean = np.mean(x0[1000:generations])\n",
    "                mode_th = theor_mode(sp, mu)\n",
    "                df2 = pd.DataFrame({\"awm\":[awm], \"amw\":[amw], \"type\":[\"mirror\"], \"mu\":[mu],\"s\":[sp],\"mode\":[mode],\"var\":[var], \"mean\":[mean], \"mode_th\":[mode_th]})\n",
    "                df = pd.concat([df, df2])\n",
    "df.to_csv(\"final_sims_mirror.csv\",index=False)"
   ]
  },
  {
   "cell_type": "code",
   "execution_count": null,
   "id": "485dd29d-6aca-4801-92a7-4f2e3442e069",
   "metadata": {
    "tags": []
   },
   "outputs": [],
   "source": [
    "mask_df = pd.read_csv(\"final_sims_mask.csv\")\n",
    "maintain_df = pd.read_csv(\"final_sims_maintain2.csv\")\n",
    "mimic_df = pd.read_csv(\"final_sims_mimic.csv\")\n",
    "mirror_df =  pd.read_csv(\"final_sims_mirror.csv\")"
   ]
  },
  {
   "cell_type": "code",
   "execution_count": null,
   "id": "1e9d8f72-4776-4133-8fad-5be5bdfa3269",
   "metadata": {
    "tags": []
   },
   "outputs": [],
   "source": [
    "mirror_df['amw']=np.round(mirror_df['amw'],4)"
   ]
  },
  {
   "cell_type": "markdown",
   "id": "5ab2acf4-1729-4e08-8207-d2c89efde3ad",
   "metadata": {},
   "source": [
    "## Masking \n",
    "Plot successful"
   ]
  },
  {
   "cell_type": "code",
   "execution_count": null,
   "id": "8317ed36-f07a-46dc-8225-46a7c9c9aef0",
   "metadata": {},
   "outputs": [],
   "source": [
    "mask_df.amw.unique()"
   ]
  },
  {
   "cell_type": "code",
   "execution_count": null,
   "id": "607fb20d-6f52-4d43-a386-8e76f51267aa",
   "metadata": {
    "tags": []
   },
   "outputs": [],
   "source": [
    "my_pal= [\"r\",\"b\",\"b\",\"b\"]\n",
    "\n",
    "g = sns.FacetGrid(data=mask_df, col=\"mu\", row=\"s\",size=3, aspect=1.2)\n",
    "g.map_dataframe(sns.violinplot, \"amw\", \"mean\", palette=my_pal)\n",
    "axes = flatten(g.axes)\n",
    "for i in axes:\n",
    "    i.axhline(y=500, ls=\"--\")\n",
    "\n",
    "g.savefig(\"mask_plot.png\")"
   ]
  },
  {
   "cell_type": "code",
   "execution_count": null,
   "id": "b4f5a5e2-eb07-4192-94e4-799692c2b702",
   "metadata": {
    "tags": []
   },
   "outputs": [],
   "source": [
    "g = sns.catplot(x=\"amw\", y=\"mean\", hue=\"s\",row=\"mu\", kind=\"box\", data=mask_df, aspect=1.2)\n",
    "axes = flatten(g.axes)\n",
    "\n",
    "mus = [0.005,0.01]\n",
    "j=0\n",
    "pal = [\"navy\",\"orange\",\"green\"]\n",
    "\n",
    "for i in axes:\n",
    "    jj = 0\n",
    "    plt.ylabel('')\n",
    "    i.axhline(y=500, ls=\"--\", color=\"purple\")\n",
    "    for sp in [0.05,0.1,0.2]:\n",
    "        i.axhline(y=(1-theor_mode(s=sp,mu=mus[j]))*1000, ls=\"--\", color=pal[jj])\n",
    "        jj+=1\n",
    "        plt.ylabel('')\n",
    "    j=j+1\n",
    "    \n",
    "g.legend.remove()\n",
    "plt.title('')\n",
    "plt.ylabel('')\n",
    "plt.xlabel('')\n",
    "plt.gcf().set_size_inches(1.75, 3)\n",
    "\n",
    "g.savefig(\"mask_plot2.png\",  dpi=150)"
   ]
  },
  {
   "cell_type": "markdown",
   "id": "531fc60c-fe30-43e8-b369-03a3e1cc1267",
   "metadata": {},
   "source": [
    "### Mirroring"
   ]
  },
  {
   "cell_type": "code",
   "execution_count": null,
   "id": "427b369d-da4d-4f73-b301-d7eac6d97f14",
   "metadata": {
    "tags": []
   },
   "outputs": [],
   "source": [
    "import importlib\n",
    "importlib.reload(sns)\n",
    "sns.__version__"
   ]
  },
  {
   "cell_type": "code",
   "execution_count": null,
   "id": "50a3ec0d-9e96-4b8e-8c63-1d07aef41315",
   "metadata": {
    "tags": []
   },
   "outputs": [],
   "source": [
    "mirror_df"
   ]
  },
  {
   "cell_type": "code",
   "execution_count": null,
   "id": "cc53046f-a1e5-462b-a739-247c56e011a0",
   "metadata": {
    "tags": []
   },
   "outputs": [],
   "source": [
    "\n",
    "\n",
    "g = sns.catplot(x=\"awm\", y=\"mean\", hue=\"s\",row=\"mu\", kind=\"box\", data=mirror_df, aspect=1.2)\n",
    "\n",
    "axes = flatten(g.axes)\n",
    "mus = [0.005,0.01]\n",
    "j=0\n",
    "pal = [\"navy\",\"orange\",\"green\"]\n",
    "\n",
    "for i in axes:\n",
    "    jj = 0\n",
    "    i.axhline(y=500, ls=\"--\", color=\"purple\")\n",
    "    for sp in [0.05,0.1,0.2]:\n",
    "        i.axhline(y=(theor_mode(s=-sp,mu=mus[j]))*1000, ls=\"--\", color=\"gray\")\n",
    "        i.axhline(y=(1-theor_mode(s=-sp,mu=mus[j]))*1000, ls=\"--\", color=pal[jj])\n",
    "        jj+=1\n",
    "    j=j+1\n",
    "g.legend.remove()\n",
    "plt.title('')\n",
    "plt.gcf().set_size_inches(1.75, 3)\n",
    "g.savefig(\"mirror_plot.png\", dpi=150)"
   ]
  },
  {
   "cell_type": "markdown",
   "id": "bcfee2ca-afa0-4b11-b956-c7e4fe835beb",
   "metadata": {},
   "source": [
    "## Maintenance\n",
    "- update line"
   ]
  },
  {
   "cell_type": "code",
   "execution_count": null,
   "id": "4ee0c39f-ad2d-4e72-acc2-3c108c653343",
   "metadata": {},
   "outputs": [],
   "source": [
    "my_pal= [\"r\",\"b\",\"b\",\"b\"]\n",
    "\n",
    "g = sns.FacetGrid(data=maintain_df, col=\"mu\", row=\"s\")\n",
    "g.map_dataframe(sns.violinplot, \"amw\", \"mean\", palette=my_pal)\n",
    "axes = flatten(g.axes)\n",
    "par = [[0.05,0.005],[0.05,0.01],[0.1,0.005],[0.1,0.01],[0.2,0.005],[0.2,0.01]]\n",
    "\n",
    "j = 0\n",
    "for i in axes:\n",
    "    i.axhline(y=(1-theor_mode(s=par[j][0],mu=par[j][1]))*1000, ls=\"--\")\n",
    "    j=j+1\n"
   ]
  },
  {
   "cell_type": "code",
   "execution_count": null,
   "id": "53325199-1883-4c5f-b2a6-79c0d80a4a71",
   "metadata": {
    "tags": []
   },
   "outputs": [],
   "source": [
    "g = sns.catplot(x=\"amw\",y=\"mean\",hue=\"s\",row=\"mu\", data=maintain_df, kind=\"box\", aspect=1.2)\n",
    "axes = flatten(g.axes)\n",
    "mus = [0.005,0.01]\n",
    "j=0\n",
    "pal = [\"navy\",\"orange\",\"green\"]\n",
    "\n",
    "for i in axes:\n",
    "    jj = 0\n",
    "    #i.axhline(y=500, ls=\"--\", color=\"purple\")\n",
    "\n",
    "    for sp in [0.05,0.1,0.2]:\n",
    "        i.axhline(y=(1-theor_mode(s=sp,mu=mus[j]))*1000, ls=\"--\", color=pal[jj])\n",
    "        jj+=1\n",
    "    j=j+1\n",
    "    \n",
    "g.legend.remove()\n",
    "plt.title('')\n",
    "plt.gcf().set_size_inches(1.75, 3)\n",
    "g.savefig(\"maintain_plot2.png\", dpi=150)"
   ]
  },
  {
   "cell_type": "markdown",
   "id": "45d07706-a2fd-4ac2-85bb-ed1ca014bd99",
   "metadata": {},
   "source": [
    "## Mimicry \n",
    "- see plot\n",
    "- add lines\n"
   ]
  },
  {
   "cell_type": "code",
   "execution_count": null,
   "id": "ab5d728f-0612-4bcc-be2e-137ae1dd29b6",
   "metadata": {
    "tags": []
   },
   "outputs": [],
   "source": [
    "#g = sns.FacetGrid(tips, col=\"time\",  row=\"sex\")\n",
    "#g.map(sns.scatterplot, \"total_bill\", \"tip\")\n",
    "\n",
    "par = [[0.05,0.005],[0.05,0.01],[0.1,0.005],[0.1,0.01],[0.2,0.005],[0.2,0.01]]\n",
    "\n",
    "g = sns.FacetGrid(data=mimic_df, col=\"mu\", row=\"s\", aspect=1.2)\n",
    "g.map_dataframe(sns.violinplot, \"amw\", \"mean\", palette=my_pal)\n",
    "axes = flatten(g.axes)\n",
    "\n",
    "g.add_legend({\"no interaction\":\"r\"})\n",
    "j=0\n",
    "for i in axes:\n",
    "    i.axhline(y=(1-theor_mode(s=par[j][0],mu=par[j][1]))*1000, ls=\"--\")\n",
    "    j=j+1\n",
    "g.legend.remove()\n",
    "plt.title('')\n",
    "plt.gcf().set_size_inches(1.75, 3)\n",
    "g.savefig(\"mimic_plot.png\", dpi=150)"
   ]
  },
  {
   "cell_type": "code",
   "execution_count": null,
   "id": "ce25c82e-0552-410a-b714-c6a3b142c0f1",
   "metadata": {
    "tags": []
   },
   "outputs": [],
   "source": [
    "g = sns.catplot(x=\"amw\",y=\"mean\",hue=\"s\",row=\"mu\", data=mimic_df, kind=\"box\", aspect=1.2)\n",
    "axes = flatten(g.axes)\n",
    "mus = [0.005,0.01]\n",
    "j=0\n",
    "pal = [\"navy\",\"orange\",\"green\"]\n",
    "\n",
    "for i in axes:\n",
    "    i.axhline(y=500, ls=\"--\", color=\"purple\")\n",
    "    jj = 0\n",
    "    for sp in [0.05,0.1,0.2]:\n",
    "        i.axhline(y=(1-theor_mode(s=sp,mu=mus[j]))*1000, ls=\"--\", color=pal[jj])\n",
    "        jj+=1\n",
    "    j=j+1\n",
    "    \n",
    "g.legend.remove()\n",
    "plt.title('')\n",
    "plt.gcf().set_size_inches(1.75, 3)\n",
    "g.savefig(\"mimic_plot2.png\", dpi=150)"
   ]
  },
  {
   "cell_type": "code",
   "execution_count": null,
   "id": "95a885f9-cb5d-4e91-a14c-54483fe2b659",
   "metadata": {},
   "outputs": [],
   "source": [
    "flatten_comprehension([[\"0.01\"]*5, [\"0.05\"]*5,[\"0.1\"]*5])"
   ]
  },
  {
   "cell_type": "code",
   "execution_count": null,
   "id": "ece56b30-a5ae-497e-a9e0-cbe2b0ebff28",
   "metadata": {},
   "outputs": [],
   "source": [
    " def flatten_comprehension(matrix):\n",
    "        return [item for row in matrix for item in row]"
   ]
  },
  {
   "cell_type": "markdown",
   "id": "b9d0eb72-c09e-42d5-8fc8-1f4d65d703e1",
   "metadata": {},
   "source": [
    "Appendix \n",
    "\n",
    "-\n",
    "-\n",
    "\n",
    "\n",
    "---\n"
   ]
  },
  {
   "cell_type": "code",
   "execution_count": null,
   "id": "2cdf9643-75dd-41fb-ae2c-ca92f4f75cb2",
   "metadata": {
    "colab": {
     "base_uri": "https://localhost:8080/",
     "height": 449
    },
    "id": "3fe46a13",
    "outputId": "3f0adb09-8155-4c76-a3fa-7d92bb3f8ccf"
   },
   "outputs": [],
   "source": [
    "j, k\n",
    "x0 = [i['0'] for i in a]\n",
    "x1 = [i['1'] for i in a]\n",
    "df = pd.DataFrame({'x0':x0, 'x1':x1})\n",
    "sns.lineplot(data=df[['x0', 'x1']], sort=False)\n"
   ]
  },
  {
   "cell_type": "code",
   "execution_count": null,
   "id": "0d92e4cc",
   "metadata": {
    "id": "0d92e4cc"
   },
   "outputs": [],
   "source": [
    "from itertools import chain\n",
    "\n",
    "\n",
    "def flatten(listOfLists):\n",
    "    \"Flatten one level of nesting\"\n",
    "    return chain.from_iterable(listOfLists)\n",
    "\n",
    "list(flatten(outcomes))"
   ]
  },
  {
   "cell_type": "code",
   "execution_count": null,
   "id": "d7418193",
   "metadata": {
    "colab": {
     "base_uri": "https://localhost:8080/",
     "height": 448
    },
    "id": "d7418193",
    "outputId": "3327c232-cd15-4a41-de4e-c82a2bd31776",
    "scrolled": true
   },
   "outputs": [],
   "source": [
    "out = list(flatten(outcomes))\n",
    "graph = sns.scatterplot(x=np.linspace(1,len(out), len(out)), y=out, linewidth=0)\n",
    "graph.axhline(0, c=\"black\")\n",
    "graph.axvline(0,  c=\"black\")\n",
    "graph.axhline(-s, c=\"black\", linestyle='--')\n",
    "graph.axvline(s,  c=\"black\", linestyle='--')\n",
    "graph.legend('')\n",
    "N= sum(pop.values())\n",
    "mu= mutation_rate\n",
    "print('s'+str(s)+'N'+str(N)+'mu'+str(mu))\n"
   ]
  },
  {
   "cell_type": "code",
   "execution_count": null,
   "id": "9a4fd3b3",
   "metadata": {
    "id": "9a4fd3b3"
   },
   "outputs": [],
   "source": [
    "len(out)"
   ]
  },
  {
   "cell_type": "code",
   "execution_count": null,
   "id": "665998d5",
   "metadata": {
    "colab": {
     "base_uri": "https://localhost:8080/",
     "height": 653
    },
    "id": "665998d5",
    "outputId": "ccad6a9f-5c53-46f5-e1a1-c4f0a904a3cc"
   },
   "outputs": [],
   "source": [
    "graph =sns.histplot(x=[i/1000 for i in out], kde=True)\n",
    "#graph.axhline(0, c=\"black\")\n",
    "plt.xlim(0,1)\n",
    "#graph.axhline(-s, c=\"black\", linestyle='--')\n",
    "#graph.axvline(s,  c=\"black\", linestyle='--')\n",
    "graph.legend('')\n",
    "N= sum(pop.values())\n",
    "mu= mutation_rate\n",
    "print('s'+str(s)+'N'+str(N)+'mu'+str(mu))\n",
    "\n",
    "\n",
    "\n",
    "\n",
    "plt.show()"
   ]
  },
  {
   "cell_type": "code",
   "execution_count": null,
   "id": "66993faa",
   "metadata": {
    "id": "66993faa"
   },
   "outputs": [],
   "source": [
    "outcomes"
   ]
  },
  {
   "cell_type": "markdown",
   "id": "9755103c",
   "metadata": {
    "id": "9755103c",
    "tags": []
   },
   "source": [
    "### Plot selection function\n",
    "Sigma"
   ]
  },
  {
   "cell_type": "code",
   "execution_count": null,
   "id": "811fcbc0",
   "metadata": {},
   "outputs": [],
   "source": [
    "import numpy as np\n",
    "import matplotlib.pyplot as plt\n",
    "from itertools import product\n",
    "import pandas as pd\n",
    "%matplotlib inline"
   ]
  },
  {
   "cell_type": "code",
   "execution_count": null,
   "id": "d950d18b",
   "metadata": {},
   "outputs": [],
   "source": [
    "def sigma_mu(a_mw,a_wm):\n",
    "    sigma = (2*s**2 + s*(a_mw-a_wm) + (2*mu-np.sqrt(4*mu**2+s**2))*(a_mw+a_wm))/(2*s+(s-2*mu+np.sqrt(4*mu**2+s**2))*a_wm)\n",
    "    return(sigma)"
   ]
  },
  {
   "cell_type": "code",
   "execution_count": null,
   "id": "825f6ae8",
   "metadata": {},
   "outputs": [],
   "source": [
    "a_mw = np.linspace(0.001,0.5,1000)\n",
    "a_wm = a_mw\n",
    "s = 0.1\n",
    "mu = 0.001 \n",
    "list_all = product(a_mw, a_wm)\n",
    "list_ = [(i,j) for (i,j) in list_all]\n",
    "list_all = np.swapaxes(list_,0,1)\n",
    "out_all = sigma_mu(list_all[0],list_all[1])\n",
    "\n",
    "for i in range(0,len(out_all)):\n",
    "    if round(out_all[i],3)==0.100:\n",
    "        print(list_all[0][i],list_all[1][i])"
   ]
  },
  {
   "cell_type": "code",
   "execution_count": null,
   "id": "419c4fed",
   "metadata": {},
   "outputs": [],
   "source": [
    "plotting = pd.DataFrame({'a_mw':list_all[0], 'a_wm':list_all[1], 'val':out_all})"
   ]
  },
  {
   "cell_type": "code",
   "execution_count": null,
   "id": "80427217",
   "metadata": {},
   "outputs": [],
   "source": [
    "fig, ax = plt.subplots()\n",
    "\n",
    "matrix = np.array(out_all).reshape(1000, 1000)\n",
    "plt.imshow(matrix[1:20][1:20])"
   ]
  },
  {
   "cell_type": "code",
   "execution_count": null,
   "id": "cdad7e62",
   "metadata": {},
   "outputs": [],
   "source": []
  }
 ],
 "metadata": {
  "colab": {
   "provenance": []
  },
  "kernelspec": {
   "display_name": "Python 3 (ipykernel)",
   "language": "python",
   "name": "python3"
  },
  "language_info": {
   "codemirror_mode": {
    "name": "ipython",
    "version": 3
   },
   "file_extension": ".py",
   "mimetype": "text/x-python",
   "name": "python",
   "nbconvert_exporter": "python",
   "pygments_lexer": "ipython3",
   "version": "3.9.18"
  }
 },
 "nbformat": 4,
 "nbformat_minor": 5
}
