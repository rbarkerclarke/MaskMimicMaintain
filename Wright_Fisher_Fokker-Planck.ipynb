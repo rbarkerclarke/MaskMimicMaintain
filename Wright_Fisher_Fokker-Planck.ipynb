{
 "cells": [
  {
   "cell_type": "markdown",
   "id": "a087912f",
   "metadata": {
    "id": "a087912f"
   },
   "source": [
    "# Manuscript code - The balance between intrinsic and ecological fitnessdefines new regimes in eco-evolutionary population dynamics\n",
    "\n",
    "Authors: \n",
    "Rowan J. Barker-Clarke, Jason M. Gray, Maximilian A. R. Strobl, Jeff Maltas, Dagim\n",
    "Shiferaw Tadele, Michael Hinczewski, and Jacob G. Scott.\n",
    "\n",
    "### Wright-Fisher model of mutation and random genetic drift\n",
    "\n",
    "A Wright-Fisher model has a fixed population size N and discrete non-overlapping generations. Each generation, each individual has a random number of offspring whose mean is proportional to the individual's fitness. Each generation, mutation may occur.\n",
    "\n",
    "#### Setup"
   ]
  },
  {
   "cell_type": "code",
   "execution_count": 2,
   "id": "7b53bf88",
   "metadata": {
    "executionInfo": {
     "elapsed": 1627,
     "status": "ok",
     "timestamp": 1689003275400,
     "user": {
      "displayName": "Rowan Barker-Clarke",
      "userId": "17535716240461335467"
     },
     "user_tz": 240
    },
    "id": "7b53bf88"
   },
   "outputs": [
    {
     "name": "stderr",
     "output_type": "stream",
     "text": [
      "/usr/local/lib/python3.9/site-packages/pandas/core/computation/expressions.py:21: UserWarning: Pandas requires version '2.8.4' or newer of 'numexpr' (version '2.7.3' currently installed).\n",
      "  from pandas.core.computation.check import NUMEXPR_INSTALLED\n"
     ]
    }
   ],
   "source": [
    "import numpy as np\n",
    "import statistics as stat\n",
    "import pandas as pd\n",
    "import seaborn as sns\n",
    "import random\n",
    "from itertools import *\n",
    "try:\n",
    "    import itertools.izip as zip\n",
    "except ImportError:\n",
    "    import itertools"
   ]
  },
  {
   "cell_type": "markdown",
   "id": "4140a245",
   "metadata": {},
   "source": [
    "Fokker-Planck solution"
   ]
  },
  {
   "cell_type": "code",
   "execution_count": 495,
   "id": "b5b3d8cc",
   "metadata": {},
   "outputs": [],
   "source": [
    "def fx(x,awm,amw,s):\n",
    "    if awm==0:\n",
    "        return(s*x)\n",
    "    f = (-x + mu*np.log(1-x)+mu*np.log(x)-x*amw/awm + np.log(1+x*awm)*(amw + (1+s+amw)*awm)/(awm**2))\n",
    "    #fx = (-a21*(a12+a21)*x + (a12+a21+a12*a21+a21*s)*np.log(1+ a21+ a21*x))/(a21**2)\n",
    "        \n",
    "    return(f)\n",
    "    \n",
    "def potential(x,N, mu, a12,a21,s):\n",
    "    phi = np.log(x*(1-x)/2*N)-2*N*fx(x,a12,a21,s)\n",
    "    return(phi)"
   ]
  },
  {
   "cell_type": "markdown",
   "id": "b950ec00",
   "metadata": {
    "id": "b950ec00"
   },
   "source": [
    "\n",
    "Make population dynamic model\n",
    "\n",
    "Basic parameters"
   ]
  },
  {
   "cell_type": "code",
   "execution_count": 4,
   "id": "572ef7c2",
   "metadata": {
    "executionInfo": {
     "elapsed": 41,
     "status": "ok",
     "timestamp": 1689003275401,
     "user": {
      "displayName": "Rowan Barker-Clarke",
      "userId": "17535716240461335467"
     },
     "user_tz": 240
    },
    "id": "572ef7c2"
   },
   "outputs": [],
   "source": [
    "pop_size = 1000\n",
    "seq_length = 1\n",
    "alphabet = ['0','1']\n",
    "base_haplotype = \"0\""
   ]
  },
  {
   "cell_type": "markdown",
   "id": "aee3712f",
   "metadata": {
    "id": "aee3712f"
   },
   "source": [
    "\n",
    "Setup a population of sequences\n",
    "\n",
    "Store this as a lightweight Dictionary that maps a string to a count. All the sequences together will have count N.\n"
   ]
  },
  {
   "cell_type": "code",
   "execution_count": 5,
   "id": "162b3c0d",
   "metadata": {
    "executionInfo": {
     "elapsed": 41,
     "status": "ok",
     "timestamp": 1689003275401,
     "user": {
      "displayName": "Rowan Barker-Clarke",
      "userId": "17535716240461335467"
     },
     "user_tz": 240
    },
    "id": "162b3c0d"
   },
   "outputs": [],
   "source": [
    "pop = {}\n",
    "pop[\"0\"] = 100\n",
    "pop[\"1\"] = 900"
   ]
  },
  {
   "cell_type": "markdown",
   "id": "47226f5f",
   "metadata": {
    "id": "47226f5f"
   },
   "source": [
    "Add mutation\n",
    "\n",
    "Mutations occur each generation in each individual in every basepair.\n",
    "\n"
   ]
  },
  {
   "cell_type": "code",
   "execution_count": 6,
   "id": "851a1565",
   "metadata": {
    "executionInfo": {
     "elapsed": 41,
     "status": "ok",
     "timestamp": 1689003275402,
     "user": {
      "displayName": "Rowan Barker-Clarke",
      "userId": "17535716240461335467"
     },
     "user_tz": 240
    },
    "id": "851a1565"
   },
   "outputs": [],
   "source": [
    "mutation_rate = 0.0005 # per gen per individual per site"
   ]
  },
  {
   "cell_type": "markdown",
   "id": "b803b529",
   "metadata": {
    "id": "b803b529"
   },
   "source": [
    "Walk through population and mutate basepairs.\n",
    "Use Poisson splitting to speed this up (you may be familiar with Poisson splitting from its use in the Gillespie algorithm).\n",
    "\n",
    "In naive scenario A: take each element and check for each if event occurs. For example, 100 elements, each with 1% chance. This requires 100 random numbers.\n",
    "In Poisson splitting scenario B: Draw a Poisson random number for the number of events that occur and distribute them randomly. In the above example, this will most likely involve 1 random number draw to see how many events and then a few more draws to see which elements are hit.\n",
    "First off, we need to get random number of total mutations\n"
   ]
  },
  {
   "cell_type": "code",
   "execution_count": 7,
   "id": "e425a7b5",
   "metadata": {
    "colab": {
     "base_uri": "https://localhost:8080/"
    },
    "executionInfo": {
     "elapsed": 41,
     "status": "ok",
     "timestamp": 1689003275402,
     "user": {
      "displayName": "Rowan Barker-Clarke",
      "userId": "17535716240461335467"
     },
     "user_tz": 240
    },
    "id": "e425a7b5",
    "outputId": "e8824009-3ad3-4e3b-fb39-264ad3832894"
   },
   "outputs": [
    {
     "data": {
      "text/plain": [
       "1"
      ]
     },
     "execution_count": 7,
     "metadata": {},
     "output_type": "execute_result"
    }
   ],
   "source": [
    "def get_mutation_count():\n",
    "    mean = mutation_rate * pop_size * seq_length\n",
    "    return np.random.poisson(mean)\n",
    "#Here we use Numpy's Poisson random number.\n",
    "\n",
    "get_mutation_count()"
   ]
  },
  {
   "cell_type": "code",
   "execution_count": 8,
   "id": "75dd9366",
   "metadata": {
    "colab": {
     "base_uri": "https://localhost:8080/"
    },
    "executionInfo": {
     "elapsed": 28,
     "status": "ok",
     "timestamp": 1689003275402,
     "user": {
      "displayName": "Rowan Barker-Clarke",
      "userId": "17535716240461335467"
     },
     "user_tz": 240
    },
    "id": "75dd9366",
    "outputId": "a9ceb702-35fa-419c-c536-70288081efba"
   },
   "outputs": [
    {
     "data": {
      "text/plain": [
       "dict_keys(['0', '1'])"
      ]
     },
     "execution_count": 8,
     "metadata": {},
     "output_type": "execute_result"
    }
   ],
   "source": [
    "pop.keys()"
   ]
  },
  {
   "cell_type": "code",
   "execution_count": 9,
   "id": "cf4f9ce0",
   "metadata": {
    "colab": {
     "base_uri": "https://localhost:8080/"
    },
    "executionInfo": {
     "elapsed": 27,
     "status": "ok",
     "timestamp": 1689003275403,
     "user": {
      "displayName": "Rowan Barker-Clarke",
      "userId": "17535716240461335467"
     },
     "user_tz": 240
    },
    "id": "cf4f9ce0",
    "outputId": "6b46fb5e-82aa-44d8-f5ec-83f248f879ae"
   },
   "outputs": [
    {
     "data": {
      "text/plain": [
       "[0.1, 0.9]"
      ]
     },
     "execution_count": 9,
     "metadata": {},
     "output_type": "execute_result"
    }
   ],
   "source": [
    "\n",
    "[x/float(pop_size) for x in pop.values()]\n"
   ]
  },
  {
   "cell_type": "code",
   "execution_count": 10,
   "id": "8cb29cb3",
   "metadata": {
    "colab": {
     "base_uri": "https://localhost:8080/",
     "height": 35
    },
    "executionInfo": {
     "elapsed": 26,
     "status": "ok",
     "timestamp": 1689003275403,
     "user": {
      "displayName": "Rowan Barker-Clarke",
      "userId": "17535716240461335467"
     },
     "user_tz": 240
    },
    "id": "8cb29cb3",
    "outputId": "86cd6ff0-ba25-4ad7-86f5-e04b40ad2e83"
   },
   "outputs": [
    {
     "data": {
      "text/plain": [
       "'1'"
      ]
     },
     "execution_count": 10,
     "metadata": {},
     "output_type": "execute_result"
    }
   ],
   "source": [
    "def get_random_haplotype():\n",
    "    haplotypes = list(pop.keys())\n",
    "    frequencies = [x/float(pop_size) for x in pop.values()]\n",
    "    total = sum(frequencies)\n",
    "    frequencies = [x / total for x in frequencies]\n",
    "    return np.random.choice(haplotypes, p=frequencies)\n",
    "\n",
    "get_random_haplotype()"
   ]
  },
  {
   "cell_type": "markdown",
   "id": "35dac436",
   "metadata": {
    "id": "35dac436"
   },
   "source": [
    "Here, we take a supplied haplotype and mutate a site at random.\n"
   ]
  },
  {
   "cell_type": "code",
   "execution_count": 11,
   "id": "1f999185",
   "metadata": {
    "colab": {
     "base_uri": "https://localhost:8080/",
     "height": 35
    },
    "executionInfo": {
     "elapsed": 24,
     "status": "ok",
     "timestamp": 1689003275403,
     "user": {
      "displayName": "Rowan Barker-Clarke",
      "userId": "17535716240461335467"
     },
     "user_tz": 240
    },
    "id": "1f999185",
    "outputId": "ff219f93-bf33-4f8b-a627-7d4573d8925d"
   },
   "outputs": [
    {
     "data": {
      "text/plain": [
       "'1'"
      ]
     },
     "execution_count": 11,
     "metadata": {},
     "output_type": "execute_result"
    }
   ],
   "source": [
    "def get_mutant(haplotype):\n",
    "    site = np.random.randint(seq_length)\n",
    "    possible_mutations = list(alphabet)\n",
    "    possible_mutations.remove(haplotype[site])\n",
    "    mutation = np.random.choice(possible_mutations)\n",
    "    new_haplotype = haplotype[:site] + mutation + haplotype[site+1:]\n",
    "    return new_haplotype\n",
    "\n",
    "get_mutant(\"0\")\n"
   ]
  },
  {
   "cell_type": "markdown",
   "id": "2a179f8c",
   "metadata": {
    "id": "2a179f8c"
   },
   "source": [
    "Putting things together, in a single mutation event, we grab a random haplotype from the population, mutate it, decrement its count, and then check if the mutant already exists in the population. If it does, increment this mutant haplotype; if it doesn't create a new haplotype of count 1.\n"
   ]
  },
  {
   "cell_type": "code",
   "execution_count": 12,
   "id": "40675896",
   "metadata": {
    "colab": {
     "base_uri": "https://localhost:8080/"
    },
    "executionInfo": {
     "elapsed": 24,
     "status": "ok",
     "timestamp": 1689003275404,
     "user": {
      "displayName": "Rowan Barker-Clarke",
      "userId": "17535716240461335467"
     },
     "user_tz": 240
    },
    "id": "40675896",
    "outputId": "34008e38-5ece-4738-9987-96907d536618"
   },
   "outputs": [
    {
     "data": {
      "text/plain": [
       "{'0': 101, '1': 899}"
      ]
     },
     "execution_count": 12,
     "metadata": {},
     "output_type": "execute_result"
    }
   ],
   "source": [
    "def mutation_event():\n",
    "    haplotype = get_random_haplotype()\n",
    "    if pop[haplotype] > 1:\n",
    "        pop[haplotype] -= 1\n",
    "        new_haplotype = get_mutant(haplotype)\n",
    "        if new_haplotype in pop:\n",
    "            pop[new_haplotype] += 1\n",
    "        else:\n",
    "            pop[new_haplotype] = 1\n",
    "mutation_event()\n",
    "pop"
   ]
  },
  {
   "cell_type": "markdown",
   "id": "cee8733e",
   "metadata": {
    "id": "cee8733e"
   },
   "source": [
    "To create all the mutations that occur in a single generation, we draw the total count of mutations and then iteratively add mutation events.\n"
   ]
  },
  {
   "cell_type": "code",
   "execution_count": 13,
   "id": "6076de5a",
   "metadata": {
    "colab": {
     "base_uri": "https://localhost:8080/"
    },
    "executionInfo": {
     "elapsed": 23,
     "status": "ok",
     "timestamp": 1689003275404,
     "user": {
      "displayName": "Rowan Barker-Clarke",
      "userId": "17535716240461335467"
     },
     "user_tz": 240
    },
    "id": "6076de5a",
    "outputId": "0868781d-73a1-44cb-9450-acec2f5fea59"
   },
   "outputs": [
    {
     "data": {
      "text/plain": [
       "{'0': 101, '1': 899}"
      ]
     },
     "execution_count": 13,
     "metadata": {},
     "output_type": "execute_result"
    }
   ],
   "source": [
    "def mutation_step():\n",
    "    mutation_count = get_mutation_count()\n",
    "    for i in range(mutation_count):\n",
    "        mutation_event()\n",
    "mutation_step()\n",
    "pop"
   ]
  },
  {
   "cell_type": "markdown",
   "id": "64c61654",
   "metadata": {
    "id": "64c61654"
   },
   "source": [
    "## Genetic drift and selection\n",
    "\n",
    "Selection and fitness are influenced by the game and payoff matrix"
   ]
  },
  {
   "cell_type": "code",
   "execution_count": 14,
   "id": "743ea7ce",
   "metadata": {
    "executionInfo": {
     "elapsed": 21,
     "status": "ok",
     "timestamp": 1689003275404,
     "user": {
      "displayName": "Rowan Barker-Clarke",
      "userId": "17535716240461335467"
     },
     "user_tz": 240
    },
    "id": "743ea7ce"
   },
   "outputs": [],
   "source": [
    "awm = x = 0.1\n",
    "amw = y =  0.1\n",
    "s=0\n"
   ]
  },
  {
   "cell_type": "code",
   "execution_count": 15,
   "id": "e85050fb",
   "metadata": {
    "executionInfo": {
     "elapsed": 21,
     "status": "ok",
     "timestamp": 1689003275404,
     "user": {
      "displayName": "Rowan Barker-Clarke",
      "userId": "17535716240461335467"
     },
     "user_tz": 240
    },
    "id": "e85050fb"
   },
   "outputs": [],
   "source": [
    "def get_fitness(awm, amw, s, frequencies):\n",
    "    payoff=[[1, 1+awm], [1+s+amw, 1+s]]\n",
    "    x = frequencies\n",
    "    f = np.dot(payoff,x)\n",
    "    fitness = {'0':f[0], '1':f[1]}\n",
    "    return fitness"
   ]
  },
  {
   "cell_type": "code",
   "execution_count": 16,
   "id": "3f1383d3",
   "metadata": {
    "executionInfo": {
     "elapsed": 22,
     "status": "ok",
     "timestamp": 1689003275405,
     "user": {
      "displayName": "Rowan Barker-Clarke",
      "userId": "17535716240461335467"
     },
     "user_tz": 240
    },
    "id": "3f1383d3"
   },
   "outputs": [],
   "source": [
    "pop = {'0':500, '1':500}\n",
    "haplotypes = list(pop.keys())\n",
    "frequencies = [pop[haplotype]/float(pop_size) for haplotype in haplotypes]\n"
   ]
  },
  {
   "cell_type": "code",
   "execution_count": 17,
   "id": "9c72f4b8",
   "metadata": {
    "colab": {
     "base_uri": "https://localhost:8080/"
    },
    "executionInfo": {
     "elapsed": 22,
     "status": "ok",
     "timestamp": 1689003275405,
     "user": {
      "displayName": "Rowan Barker-Clarke",
      "userId": "17535716240461335467"
     },
     "user_tz": 240
    },
    "id": "9c72f4b8",
    "outputId": "7bdf8e12-821a-497b-c667-a2644ba43251"
   },
   "outputs": [
    {
     "data": {
      "text/plain": [
       "[498, 502]"
      ]
     },
     "execution_count": 17,
     "metadata": {},
     "output_type": "execute_result"
    }
   ],
   "source": [
    "def get_offspring_counts(s,x,y):\n",
    "    haplotypes = list(pop.keys())\n",
    "    frequencies = [pop[haplotype]/float(pop_size) for haplotype in haplotypes]\n",
    "    fitness = get_fitness(x,y,s,frequencies)\n",
    "    fitnesses = [fitness[haplotype] for haplotype in haplotypes]\n",
    "    weights = [x * y for x,y in zip(frequencies, fitnesses)]\n",
    "    total = sum(weights)\n",
    "    weights = [x / total for x in weights]\n",
    "    #print(weights)\n",
    "    return list(np.random.multinomial(pop_size, weights))\n",
    "#Here we use Numpy's multinomial random sample.\n",
    "\n",
    "get_offspring_counts(s,x,y)\n"
   ]
  },
  {
   "cell_type": "markdown",
   "id": "343405eb",
   "metadata": {
    "id": "343405eb"
   },
   "source": [
    "\n",
    "We then need to assign this new list of haplotype counts to the pop dictionary. To save memory and computation, if a haplotype goes to 0, we remove it entirely from the pop dictionary.\n"
   ]
  },
  {
   "cell_type": "code",
   "execution_count": 18,
   "id": "f70de30c",
   "metadata": {
    "colab": {
     "base_uri": "https://localhost:8080/"
    },
    "executionInfo": {
     "elapsed": 20,
     "status": "ok",
     "timestamp": 1689003275405,
     "user": {
      "displayName": "Rowan Barker-Clarke",
      "userId": "17535716240461335467"
     },
     "user_tz": 240
    },
    "id": "f70de30c",
    "outputId": "2dca3e68-a73e-4d0c-9747-b994ae2c6ab8"
   },
   "outputs": [
    {
     "data": {
      "text/plain": [
       "{'0': 497, '1': 503}"
      ]
     },
     "execution_count": 18,
     "metadata": {},
     "output_type": "execute_result"
    }
   ],
   "source": [
    "def offspring_step(s,x,y):\n",
    "    haplotypes = list(pop.keys())\n",
    "    counts = get_offspring_counts(s,x,y)\n",
    "    for (haplotype, count) in zip(haplotypes, counts):\n",
    "        if (count > 0):\n",
    "            pop[haplotype] = count\n",
    "        else:\n",
    "            pop[haplotype] = 0\n",
    "offspring_step(s,x,y)\n",
    "pop"
   ]
  },
  {
   "cell_type": "markdown",
   "id": "318a3734",
   "metadata": {
    "id": "318a3734"
   },
   "source": [
    "Combine and iterate\n",
    "\n",
    "Each generation is simply a mutation step where a random number of mutations are thrown down, and an offspring step where haplotype counts are updated.\n"
   ]
  },
  {
   "cell_type": "code",
   "execution_count": 19,
   "id": "b62e2698",
   "metadata": {
    "executionInfo": {
     "elapsed": 20,
     "status": "ok",
     "timestamp": 1689003275406,
     "user": {
      "displayName": "Rowan Barker-Clarke",
      "userId": "17535716240461335467"
     },
     "user_tz": 240
    },
    "id": "b62e2698"
   },
   "outputs": [],
   "source": [
    "def time_step(s,x,y):\n",
    "    mutation_step()\n",
    "    offspring_step(s,x,y)"
   ]
  },
  {
   "cell_type": "markdown",
   "id": "0b5a4717",
   "metadata": {
    "id": "0b5a4717"
   },
   "source": [
    "Can iterate this over a number of generations.\n"
   ]
  },
  {
   "cell_type": "code",
   "execution_count": 20,
   "id": "2cb75c31",
   "metadata": {
    "colab": {
     "base_uri": "https://localhost:8080/"
    },
    "executionInfo": {
     "elapsed": 20,
     "status": "ok",
     "timestamp": 1689003275406,
     "user": {
      "displayName": "Rowan Barker-Clarke",
      "userId": "17535716240461335467"
     },
     "user_tz": 240
    },
    "id": "2cb75c31",
    "outputId": "1415284c-ee14-45db-fe29-1cb4f9771a78"
   },
   "outputs": [
    {
     "data": {
      "text/plain": [
       "{'0': 557, '1': 443}"
      ]
     },
     "execution_count": 20,
     "metadata": {},
     "output_type": "execute_result"
    }
   ],
   "source": [
    "pop = {'0':100,'1':100}\n",
    "generations = 100\n",
    "def simulate(s,x,y):\n",
    "    for i in range(generations):\n",
    "        time_step(s,x,y)\n",
    "simulate(s,x,y)\n",
    "pop"
   ]
  },
  {
   "cell_type": "markdown",
   "id": "28e639dc",
   "metadata": {
    "id": "28e639dc"
   },
   "source": [
    "Record\n",
    "\n",
    "We want to keep a record of past population frequencies to understand dynamics through time. At each step in the simulation, we append to a history object.\n"
   ]
  },
  {
   "cell_type": "code",
   "execution_count": 21,
   "id": "3b4f636f",
   "metadata": {
    "executionInfo": {
     "elapsed": 18,
     "status": "ok",
     "timestamp": 1689003275406,
     "user": {
      "displayName": "Rowan Barker-Clarke",
      "userId": "17535716240461335467"
     },
     "user_tz": 240
    },
    "id": "3b4f636f",
    "scrolled": true
   },
   "outputs": [],
   "source": [
    "pop0 = {'0':500,'1':500}\n",
    "history = []\n",
    "generations = 1000\n",
    "\n",
    "\n",
    "def simulate(s,x,y):\n",
    "    history = []\n",
    "    clone_pop = dict(pop)\n",
    "    history.append(clone_pop)\n",
    "    for i in range(generations):\n",
    "        time_step(s,x,y)\n",
    "        clone_pop = dict(pop)\n",
    "        history.append(clone_pop)\n",
    "    return(history)\n",
    "\n"
   ]
  },
  {
   "cell_type": "markdown",
   "id": "e8226c3f",
   "metadata": {},
   "source": [
    "### Comparing simulated distribution to Fokker-Planck\n",
    "Function and potential "
   ]
  },
  {
   "cell_type": "markdown",
   "id": "ac27f35a",
   "metadata": {},
   "source": [
    "#### Examples for Figures\n",
    "Fig 4 - Main text "
   ]
  },
  {
   "cell_type": "code",
   "execution_count": 487,
   "id": "0c3a7666",
   "metadata": {},
   "outputs": [],
   "source": [
    "fig4 = (0.1,0.14,0.16,0.01)\n",
    "example = fig4"
   ]
  },
  {
   "cell_type": "code",
   "execution_count": 489,
   "id": "44ba6e94",
   "metadata": {},
   "outputs": [
    {
     "name": "stdout",
     "output_type": "stream",
     "text": [
      "0.1 0.14 0.16\n",
      "s0.1_amw0.14_awm0.16_mu0.01_theoretical.png\n"
     ]
    },
    {
     "data": {
      "image/png": "[encoded data removed]",
      "text/plain": [
       "<Figure size 288x360 with 1 Axes>"
      ]
     },
     "metadata": {
      "needs_background": "light"
     },
     "output_type": "display_data"
    }
   ],
   "source": [
    "# Theoretical distribution\n",
    "vals = 1000 # number of points to evaluate function over\n",
    "\n",
    "p = np.linspace(0.001,0.999,vals)\n",
    "\n",
    "# Function values\n",
    "N=1000\n",
    "mu=example[3]\n",
    "s=0\n",
    "\n",
    "#Random coefficients\n",
    "#a12_list = [round(random.uniform(-0.1, 0.1),3) for i in range(20)]\n",
    "#a21_list = [round(random.uniform(-0.1, 0.1),3) for i in range(20)]\n",
    "\n",
    "fp_sol = []\n",
    "fp_mean=[]\n",
    "fp_pot=[]\n",
    "\n",
    "for s,a12,a21,mu in [example]:\n",
    "    print(s,a12,a21)\n",
    "    q = potential(p,N, mu, a12,a21,s)\n",
    "    #mean_pot = np.mean(q)\n",
    "    #print(q)# - mean_pot)\n",
    "    c = np.exp(-(q)) #-mean_pot))\n",
    "    #print(c)\n",
    "    #print(sum(c))\n",
    "    fp_pot.append(-q)\n",
    "    fp_sol.append(c)\n",
    "    fp_mean.append(np.dot(p,c)/sum(c))\n",
    "    \n",
    "fname = f's{s}_amw{round(a12,4)}_awm{round(a21,4)}_mu{mu}_theoretical.png'\n",
    "print(fname)\n",
    "\n",
    "plt.plot(p, fp_sol[0]/max(fp_sol[0]), color = 'darkblue')\n",
    "plt.xlim(0,1)\n",
    "plt.ylim(0,)\n",
    "plt.tick_params(\n",
    "    axis='y',          # changes apply to the x-axis\n",
    "    which='both',      # both major and minor ticks are affected\n",
    "    left=False,      # ticks along the bottom edge are off\n",
    "    right=False,      # ticks along the top edge are off\n",
    "    labelleft=False)\n",
    "plt.gcf().set_size_inches(4, 5)\n",
    "plt.savefig(fname,dpi=200)"
   ]
  },
  {
   "cell_type": "code",
   "execution_count": 491,
   "id": "ee5e3391",
   "metadata": {},
   "outputs": [],
   "source": [
    "# Simulation\n",
    "pop = {'0':500,'1':500}\n",
    "\n",
    "#outcome = np.array([simulate(s,x,y) for x,y in merged_list ])\n",
    "outcomes = []\n",
    "histories = []\n",
    "histories1 = []\n",
    "\n",
    "mutation_rate = mu = example[3]\n",
    "generations = gens = 500\n",
    "reps = 100\n",
    "\n",
    "#a12_list = [round(random.uniform(-0.3, 0.3),4) for i in range(1000)]\n",
    "#a21_list = [round(random.uniform(-0.3, 0.3),4) for i in range(1000)]\n",
    "\n",
    "\n",
    "history = []\n",
    "history1 =[]\n",
    "\n",
    "for i in range(1,reps+1):\n",
    "    #Initialise population\n",
    "    init = np.random.randint(0,N)\n",
    "    pop = {'0':init,'1':N-init}\n",
    "\n",
    "    #Simulate with parameters\n",
    "    a = simulate(example[0],example[1],example[2])\n",
    "    history1.append([ii['0'] for ii in a])\n",
    "    history.append(a)\n",
    "\n",
    "histories1.append(flatten(history1))\n",
    "histories.append(history)"
   ]
  },
  {
   "cell_type": "code",
   "execution_count": 492,
   "id": "27827709",
   "metadata": {},
   "outputs": [],
   "source": [
    "histories_fig4 = histories"
   ]
  },
  {
   "cell_type": "code",
   "execution_count": 493,
   "id": "0af2324a",
   "metadata": {},
   "outputs": [
    {
     "data": {
      "text/plain": [
       "(0.0, 1000.0)"
      ]
     },
     "execution_count": 493,
     "metadata": {},
     "output_type": "execute_result"
    },
    {
     "data": {
      "image/png": "[encoded data removed]",
      "text/plain": [
       "<Figure size 432x288 with 1 Axes>"
      ]
     },
     "metadata": {
      "needs_background": "light"
     },
     "output_type": "display_data"
    }
   ],
   "source": [
    "mode0, lower0, upper0 = [],[],[]\n",
    "mode1, lower1, upper1 = [],[],[]\n",
    "all0=[]\n",
    "all1=[]\n",
    "gens = 500\n",
    "\n",
    "for si in range(0,reps):\n",
    "    vals0 = []\n",
    "    vals1=[]\n",
    "    for t in range(200,500):\n",
    "        #print(si, t)\n",
    "        sli = histories_fig4[0][si][t]\n",
    "        vals0.append(sli['0'])\n",
    "        vals1.append(sli['1'])\n",
    "    mode0.append(stat.mode(vals0))\n",
    "    lower0.append(min(vals0))\n",
    "    upper0.append(max(vals0))\n",
    "    all1.append(vals1)\n",
    "    mode1.append(stat.mode(vals1))\n",
    "    lower1.append(min(vals1))\n",
    "    upper1.append(max(vals1))\n",
    "\n",
    "#plot distribution\n",
    "ax = sns.lineplot(x=[i for i in range(0,reps)], y=mode0, color='yellow')\n",
    "ax.fill_between(\n",
    "    [i for i in range(0,reps)], lower0, upper0, color='yellow', alpha=.15)\n",
    "ax1 = sns.lineplot(x=[i for i in range(0,reps)], y=mode1, color='r')\n",
    "ax1.fill_between(\n",
    "    [i for i in range(0,reps)], lower1, upper1, color='r', alpha=.15)\n",
    "ax.set_ylim(0,sum(pop.values()))\n",
    "\n"
   ]
  },
  {
   "cell_type": "markdown",
   "id": "ff18dd20",
   "metadata": {},
   "source": [
    "### Fig S2"
   ]
  },
  {
   "cell_type": "code",
   "execution_count": 462,
   "id": "dd1fe694",
   "metadata": {},
   "outputs": [],
   "source": [
    "example1 = (0.05,0.1,0.0901)\n",
    "example=example1"
   ]
  },
  {
   "cell_type": "markdown",
   "id": "c60eab73",
   "metadata": {},
   "source": [
    "Theoretical Distribution"
   ]
  },
  {
   "cell_type": "code",
   "execution_count": 474,
   "id": "3cb74aee",
   "metadata": {},
   "outputs": [
    {
     "name": "stdout",
     "output_type": "stream",
     "text": [
      "s0.1_amw0.14_awm0.16_mu0.01_theoretical.png\n"
     ]
    },
    {
     "data": {
      "image/png": "[encoded data removed]",
      "text/plain": [
       "<Figure size 288x360 with 1 Axes>"
      ]
     },
     "metadata": {
      "needs_background": "light"
     },
     "output_type": "display_data"
    }
   ],
   "source": [
    "vals = 1000 # number of points to evaluate function over\n",
    "\n",
    "p = np.linspace(0.01,0.99,vals)\n",
    "\n",
    "# Function values\n",
    "N=1000\n",
    "mu=0.01\n",
    "s=0\n",
    "\n",
    "#Random coefficients\n",
    "#a12_list = [round(random.uniform(-0.1, 0.1),3) for i in range(20)]\n",
    "#a21_list = [round(random.uniform(-0.1, 0.1),3) for i in range(20)]\n",
    "\n",
    "fp_sol = []\n",
    "fp_mean=[]\n",
    "fp_pot=[]\n",
    "\n",
    "for s,a12,a21 in [example]:\n",
    "    q = potential(p,N, mu, a12,a21,s)\n",
    "    #mean_pot = np.mean(q)\n",
    "    #print(q)# - mean_pot)\n",
    "    c = np.exp(-(q)) #-mean_pot))\n",
    "    #print(c)\n",
    "    #print(sum(c))\n",
    "    fp_pot.append(-q)\n",
    "    fp_sol.append(c)\n",
    "    fp_mean.append(np.dot(p,c)/sum(c))\n",
    "    \n",
    "fname = f's{s}_amw{round(a12,4)}_awm{round(a21,4)}_mu{mu}_theoretical.png'\n",
    "print(fname)\n",
    "\n",
    "plt.plot(p, fp_sol[0]/max(fp_sol[0]), color = 'darkblue')\n",
    "plt.xlim(0,1)\n",
    "plt.ylim(0,)\n",
    "plt.tick_params(\n",
    "    axis='y',          # changes apply to the x-axis\n",
    "    which='both',      # both major and minor ticks are affected\n",
    "    left=False,      # ticks along the bottom edge are off\n",
    "    right=False,      # ticks along the top edge are off\n",
    "    labelleft=False)\n",
    "plt.gcf().set_size_inches(4, 5)\n",
    "plt.savefig(fname,dpi=200)"
   ]
  },
  {
   "cell_type": "markdown",
   "id": "af707d66",
   "metadata": {},
   "source": [
    "Simulation distribution"
   ]
  },
  {
   "cell_type": "code",
   "execution_count": 475,
   "id": "0b9033a6",
   "metadata": {},
   "outputs": [],
   "source": [
    "pop = {'0':500,'1':500}\n",
    "\n",
    "#outcome = np.array([simulate(s,x,y) for x,y in merged_list ])\n",
    "outcomes = []\n",
    "histories = []\n",
    "histories1 = []\n",
    "\n",
    "mutation_rate = mu = 0.001\n",
    "generations = gens = 500\n",
    "reps = 100\n",
    "\n",
    "#a12_list = [round(random.uniform(-0.3, 0.3),4) for i in range(1000)]\n",
    "#a21_list = [round(random.uniform(-0.3, 0.3),4) for i in range(1000)]\n",
    "\n",
    "\n",
    "history = []\n",
    "history1 =[]\n",
    "\n",
    "for i in range(1,reps+1):\n",
    "    #Initialise population\n",
    "    init = np.random.randint(0,N)\n",
    "    pop = {'0':init,'1':N-init}\n",
    "\n",
    "    #Simulate with parameters\n",
    "    a = simulate(example[0],example[1],example[2])\n",
    "    history1.append([ii['0'] for ii in a])\n",
    "    history.append(a)\n",
    "\n",
    "histories1.append(flatten(history1))\n",
    "histories.append(history)"
   ]
  },
  {
   "cell_type": "code",
   "execution_count": 456,
   "id": "4e942bdf",
   "metadata": {},
   "outputs": [],
   "source": [
    "histories_example1 = histories"
   ]
  },
  {
   "cell_type": "code",
   "execution_count": 473,
   "id": "DORB7_8Wntk9",
   "metadata": {
    "colab": {
     "base_uri": "https://localhost:8080/",
     "height": 453
    },
    "executionInfo": {
     "elapsed": 387,
     "status": "ok",
     "timestamp": 1689003811724,
     "user": {
      "displayName": "Rowan Barker-Clarke",
      "userId": "17535716240461335467"
     },
     "user_tz": 240
    },
    "id": "DORB7_8Wntk9",
    "outputId": "f498f212-6ee9-49d2-95dc-be4cd5f9580c"
   },
   "outputs": [
    {
     "data": {
      "text/plain": [
       "(0.0, 1000.0)"
      ]
     },
     "execution_count": 473,
     "metadata": {},
     "output_type": "execute_result"
    },
    {
     "data": {
      "image/png": "[encoded data removed]",
      "text/plain": [
       "<Figure size 432x288 with 1 Axes>"
      ]
     },
     "metadata": {
      "needs_background": "light"
     },
     "output_type": "display_data"
    }
   ],
   "source": [
    "mode0, lower0, upper0 = [],[],[]\n",
    "mode1, lower1, upper1 = [],[],[]\n",
    "all0=[]\n",
    "all1=[]\n",
    "gens = 500\n",
    "\n",
    "for si in range(0,reps):\n",
    "    vals0 = []\n",
    "    vals1=[]\n",
    "    for t in range(200,500):\n",
    "        #print(si, t)\n",
    "        sli = histories_fig4[0][si][t]\n",
    "        vals0.append(sli['0'])\n",
    "        vals1.append(sli['1'])\n",
    "    mode0.append(stat.mode(vals0))\n",
    "    lower0.append(min(vals0))\n",
    "    upper0.append(max(vals0))\n",
    "    all1.append(vals1)\n",
    "    mode1.append(stat.mode(vals1))\n",
    "    lower1.append(min(vals1))\n",
    "    upper1.append(max(vals1))\n",
    "\n",
    "#plot distribution\n",
    "ax = sns.lineplot(x=[i for i in range(0,reps)], y=mode0, color='yellow')\n",
    "ax.fill_between(\n",
    "    [i for i in range(0,reps)], lower0, upper0, color='yellow', alpha=.15)\n",
    "ax1 = sns.lineplot(x=[i for i in range(0,reps)], y=mode1, color='r')\n",
    "ax1.fill_between(\n",
    "    [i for i in range(0,reps)], lower1, upper1, color='r', alpha=.15)\n",
    "ax.set_ylim(0,sum(pop.values()))\n",
    "\n"
   ]
  },
  {
   "cell_type": "code",
   "execution_count": 458,
   "id": "e1f9fb4a",
   "metadata": {},
   "outputs": [
    {
     "name": "stdout",
     "output_type": "stream",
     "text": [
      "s0.05_amw0.1_awm0.0901_mu0.001_N1000_sims.png\n"
     ]
    },
    {
     "data": {
      "image/png": "[encoded data removed]",
      "text/plain": [
       "<Figure size 288x360 with 1 Axes>"
      ]
     },
     "metadata": {
      "needs_background": "light"
     },
     "output_type": "display_data"
    }
   ],
   "source": [
    "\n",
    "# Use all 2nd genotype (e.g. wildtype) values\n",
    "subset = list(flatten(all1))\n",
    "\n",
    "plt.hist(x=[i/N for i in subset],bins=50)\n",
    "#graph.set(xlim=(0, 1))\n",
    "\n",
    "N= sum(pop.values())\n",
    "mu= mutation_rate\n",
    "name=f's{s}_amw{round(a12,4)}_awm{round(a21,4)}_mu{mu}_N{N}_sims.png'\n",
    "\n",
    "#plt.plot(p, fp_sol[0]/max(fp_sol[0]), color = 'darkblue')\n",
    "plt.xlim(0,1)\n",
    "plt.ylabel('')\n",
    "plt.tick_params(\n",
    "    axis='y',          # changes apply to the x-axis\n",
    "    which='both',      # both major and minor ticks are affected\n",
    "    left=False,      # ticks along the bottom edge are off\n",
    "    right=False,      # ticks along the top edge are off\n",
    "    labelleft=False)\n",
    "\n",
    "print(name)\n",
    "\n",
    "fname =name\n",
    "plt.gcf().set_size_inches(4, 5)\n",
    "plt.tight_layout()\n",
    "plt.savefig(fname,dpi=200)"
   ]
  },
  {
   "cell_type": "markdown",
   "id": "0e54c5c0",
   "metadata": {},
   "source": [
    "Example 2"
   ]
  },
  {
   "cell_type": "code",
   "execution_count": 408,
   "id": "a544ca00",
   "metadata": {},
   "outputs": [],
   "source": [
    "example2 = (0.05,0.14,0.16)\n",
    "example = example2"
   ]
  },
  {
   "cell_type": "code",
   "execution_count": 409,
   "id": "aae53585",
   "metadata": {},
   "outputs": [
    {
     "name": "stdout",
     "output_type": "stream",
     "text": [
      "s0.05_amw0.14_awm0.16_mu0.01_theoretical.png\n"
     ]
    },
    {
     "data": {
      "image/png": "[encoded data removed]",
      "text/plain": [
       "<Figure size 720x360 with 1 Axes>"
      ]
     },
     "metadata": {
      "needs_background": "light"
     },
     "output_type": "display_data"
    }
   ],
   "source": [
    "vals = 1000 # number of points to evaluate function over\n",
    "\n",
    "p = np.linspace(0.01,0.99,vals)\n",
    "\n",
    "# Function values\n",
    "N=1000\n",
    "mu=0.01\n",
    "s=example[0]\n",
    "\n",
    "#Random coefficients\n",
    "#a12_list = [round(random.uniform(-0.1, 0.1),3) for i in range(20)]\n",
    "#a21_list = [round(random.uniform(-0.1, 0.1),3) for i in range(20)]\n",
    "\n",
    "fp_sol = []\n",
    "fp_mean=[]\n",
    "fp_pot=[]\n",
    "\n",
    "for s,a12,a21 in [example]:\n",
    "    q = potential(p,N, mu, a12,a21,s)\n",
    "\n",
    "    c = np.exp(-(q))\n",
    "\n",
    "    fp_pot.append(-q)\n",
    "    fp_sol.append(c)\n",
    "    fp_mean.append(np.dot(p,c)/sum(c))\n",
    "    \n",
    "fname = f's{s}_amw{round(a12,4)}_awm{round(a21,4)}_mu{mu}_theoretical.png'\n",
    "print(fname)\n",
    "plt.plot(p, fp_sol[0]/sum(fp_sol[0]), color = 'darkblue')\n",
    "plt.xlim(0,1)\n",
    "plt.ylim(0)\n",
    "plt.tick_params(\n",
    "    axis='y',          # changes apply to the x-axis\n",
    "    which='both',      # both major and minor ticks are affected\n",
    "    left=False,      # ticks along the bottom edge are off\n",
    "    right=False,      # ticks along the top edge are off\n",
    "    labelleft=False)\n",
    "plt.gcf().set_size_inches(10, 5)\n",
    "plt.savefig(fname,dpi=200)"
   ]
  },
  {
   "cell_type": "code",
   "execution_count": 410,
   "id": "76d17201",
   "metadata": {},
   "outputs": [],
   "source": [
    "#default population\n",
    "pop = {'0':500,'1':500}\n",
    "\n",
    "outcomes = []\n",
    "histories = []\n",
    "histories1=[]\n",
    "\n",
    "s=example[0]\n",
    "N=1000\n",
    "mu=0.01\n",
    "mutation_rate = mu =0.01\n",
    "generations = gens = 500\n",
    "reps = 100\n",
    "\n",
    "for i in range(1,reps+1):\n",
    "    #Initialise population\n",
    "    init = np.random.randint(0,N)\n",
    "    pop = {'0':init,'1':N-init}\n",
    "\n",
    "    #Simulate with parameters\n",
    "    a = simulate(-example[0],example[2], example[1])\n",
    "    \n",
    "    history1.append([ii['0'] for ii in a])\n",
    "    history.append(a)\n",
    "\n",
    "histories1.append(flatten(history1))\n",
    "histories.append(history)"
   ]
  },
  {
   "cell_type": "code",
   "execution_count": 405,
   "id": "e820d46c",
   "metadata": {},
   "outputs": [],
   "source": [
    "histories_example2 = histories"
   ]
  },
  {
   "cell_type": "code",
   "execution_count": 494,
   "id": "7028d282",
   "metadata": {},
   "outputs": [
    {
     "data": {
      "text/plain": [
       "(0.0, 1000.0)"
      ]
     },
     "execution_count": 494,
     "metadata": {},
     "output_type": "execute_result"
    },
    {
     "data": {
      "image/png": "[encoded data removed]",
      "text/plain": [
       "<Figure size 432x288 with 1 Axes>"
      ]
     },
     "metadata": {
      "needs_background": "light"
     },
     "output_type": "display_data"
    }
   ],
   "source": [
    "mode0, lower0, upper0 = [],[],[]\n",
    "mode1, lower1, upper1 = [],[],[]\n",
    "gens = 500\n",
    "all0=[]\n",
    "\n",
    "for si in range(0,reps):\n",
    "    vals0 = []\n",
    "    vals1=[]\n",
    "    for t in range(400,401):\n",
    "        #print(si, t)\n",
    "        sli = histories[0][si][t]\n",
    "        vals0.append(sli['0'])\n",
    "        vals1.append(sli['1'])\n",
    "        all0.append(vals0)\n",
    "    mode0.append(stat.mode(vals0))\n",
    "    lower0.append(min(vals0))\n",
    "    upper0.append(max(vals0))\n",
    "    mode1.append(stat.mode(vals1))\n",
    "    lower1.append(min(vals1))\n",
    "    upper1.append(max(vals1))\n",
    "\n",
    "\n",
    "len(mode0)\n",
    "ax = sns.lineplot(x=[i for i in range(0,reps)], y=mode0, color='yellow')\n",
    "ax.fill_between(\n",
    "    [i for i in range(0,reps)], lower0, upper0, color='yellow', alpha=.15)\n",
    "ax1 = sns.lineplot(x=[i for i in range(0,reps)], y=mode1, color='r')\n",
    "ax1.fill_between(\n",
    "    [i for i in range(0,reps)], lower1, upper1, color='r', alpha=.15)\n",
    "ax.set_ylim(0,sum(pop.values()))"
   ]
  },
  {
   "cell_type": "code",
   "execution_count": 391,
   "id": "26ecfac6",
   "metadata": {},
   "outputs": [
    {
     "data": {
      "image/png": "[encoded data removed]",
      "text/plain": [
       "<Figure size 360x360 with 1 Axes>"
      ]
     },
     "metadata": {
      "needs_background": "light"
     },
     "output_type": "display_data"
    }
   ],
   "source": [
    "subset = mode0\n",
    "graph =sns.histplot(x=[(i/N) for i in subset])\n",
    "#graph.axhline(0, c=\"black\")\n",
    "graph.axvline(0,  c=\"black\")\n",
    "graph.set(xlim=(0, 1))\n",
    "\n",
    "#graph.axhline(-s, c=\"black\", linestyle='--')\n",
    "#graph.axvline(s,  c=\"black\", linestyle='--')\n",
    "graph.legend('')\n",
    "N= sum(pop.values())\n",
    "mu= mutation_rate\n",
    "fname = f's{s}_amw{round(a12,4)}_awm{round(a12,4)}_mu{mu}_N{N}_sims.png'\n",
    "plt.xlim(0,1)\n",
    "plt.ylabel('')\n",
    "plt.tick_params(\n",
    "    axis='y',          # changes apply to the x-axis\n",
    "    which='both',      # both major and minor ticks are affected\n",
    "    left=False,      # ticks along the bottom edge are off\n",
    "    right=False,      # ticks along the top edge are off\n",
    "    labelleft=False)\n",
    "plt.gcf().set_size_inches(5, 5)\n",
    "plt.tight_layout()\n",
    "plt.savefig(name)"
   ]
  },
  {
   "cell_type": "markdown",
   "id": "4ca37955",
   "metadata": {},
   "source": [
    "#### Example 3"
   ]
  },
  {
   "cell_type": "code",
   "execution_count": 505,
   "id": "133b6b46",
   "metadata": {},
   "outputs": [],
   "source": [
    "#(s,awm,amw,mu)\n",
    "example3 = (0.05,-0.05,-0.151,0.01)\n",
    "example =example3"
   ]
  },
  {
   "cell_type": "code",
   "execution_count": 506,
   "id": "de0ce807",
   "metadata": {},
   "outputs": [
    {
     "name": "stdout",
     "output_type": "stream",
     "text": [
      "s0.05_amw-0.05_awm-0.151_mu0.01_theoretical.png\n"
     ]
    },
    {
     "data": {
      "image/png": "[encoded data removed]",
      "text/plain": [
       "<Figure size 720x360 with 1 Axes>"
      ]
     },
     "metadata": {
      "needs_background": "light"
     },
     "output_type": "display_data"
    }
   ],
   "source": [
    "vals = 1000 # number of points to evaluate function over\n",
    "\n",
    "p = np.linspace(0.01,0.99,vals)\n",
    "\n",
    "# Function values\n",
    "N=1000\n",
    "mu=example[3]\n",
    "s=example[0]\n",
    "\n",
    "#Random coefficients\n",
    "#a12_list = [round(random.uniform(-0.1, 0.1),3) for i in range(20)]\n",
    "#a21_list = [round(random.uniform(-0.1, 0.1),3) for i in range(20)]\n",
    "\n",
    "fp_sol = []\n",
    "fp_mean=[]\n",
    "fp_pot=[]\n",
    "\n",
    "for s,a12,a21,mu in [example]:\n",
    "    q = potential(p,N, mu, a12,a21,s)\n",
    "\n",
    "    c = np.exp(-(q))\n",
    "\n",
    "    fp_pot.append(-q)\n",
    "    fp_sol.append(c)\n",
    "    fp_mean.append(np.dot(p,c)/sum(c))\n",
    "    \n",
    "fname = f's{s}_amw{round(a12,4)}_awm{round(a21,4)}_mu{mu}_theoretical.png'\n",
    "print(fname)\n",
    "plt.plot(p, fp_sol[0]/sum(fp_sol[0]), color = 'darkblue')\n",
    "plt.xlim(0,1)\n",
    "plt.ylim(0)\n",
    "plt.tick_params(\n",
    "    axis='y',          # changes apply to the x-axis\n",
    "    which='both',      # both major and minor ticks are affected\n",
    "    left=False,      # ticks along the bottom edge are off\n",
    "    right=False,      # ticks along the top edge are off\n",
    "    labelleft=False)\n",
    "plt.gcf().set_size_inches(10, 5)\n",
    "plt.savefig(fname,dpi=200)"
   ]
  },
  {
   "cell_type": "code",
   "execution_count": 507,
   "id": "be5c1629",
   "metadata": {},
   "outputs": [
    {
     "name": "stdout",
     "output_type": "stream",
     "text": [
      "0.1\n"
     ]
    }
   ],
   "source": [
    "#Simulations\n",
    "#outcome = np.array([simulate(s,x,y) for x,y in merged_list ])\n",
    "outcomes = []\n",
    "histories = []\n",
    "histories1 = []\n",
    "mutation_rate = mu = example[3]\n",
    "generations = gens = 500\n",
    "reps = 500\n",
    "\n",
    "for jj in [0.1]:\n",
    "    outcome = []\n",
    "    history = []\n",
    "    history1 =[]\n",
    "    print(jj)\n",
    "    for i in range(1,reps+1):\n",
    "        init = np.random.randint(0,N)\n",
    "        pop = {'0':init,'1':N-init}\n",
    "\n",
    "        a = simulate(example[0], example[1], example[2])\n",
    "        history1.append([ii['0'] for ii in a])\n",
    "        history.append(a)\n",
    "        #print(s, j ,k )\n",
    "    outcomes.append(outcome)\n",
    "    histories1.append(flatten(history1))\n",
    "    histories.append(history)"
   ]
  },
  {
   "cell_type": "code",
   "execution_count": 301,
   "id": "677920de",
   "metadata": {},
   "outputs": [],
   "source": [
    "histories_example3 = histories"
   ]
  },
  {
   "cell_type": "code",
   "execution_count": 302,
   "id": "e4fb83bc",
   "metadata": {},
   "outputs": [
    {
     "data": {
      "text/plain": [
       "(0.0, 1000.0)"
      ]
     },
     "execution_count": 302,
     "metadata": {},
     "output_type": "execute_result"
    },
    {
     "data": {
      "image/png": "[encoded data removed]",
      "text/plain": [
       "<Figure size 432x288 with 1 Axes>"
      ]
     },
     "metadata": {
      "needs_background": "light"
     },
     "output_type": "display_data"
    }
   ],
   "source": [
    "mode0, lower0, upper0 = [],[],[]\n",
    "mode1, lower1, upper1 = [],[],[]\n",
    "gens = 500\n",
    "all0=[]\n",
    "for si in range(0,reps):\n",
    "    vals0 = []\n",
    "    vals1=[]\n",
    "    for t in range(200,500):\n",
    "        #print(si, t)\n",
    "        sli = histories_example3[0][si][t]\n",
    "        vals0.append(sli['0'])\n",
    "        vals1.append(sli['1'])\n",
    "        all0.append(vals0)\n",
    "    mode0.append(stat.mode(vals0))\n",
    "    lower0.append(min(vals0))\n",
    "    upper0.append(max(vals0))\n",
    "    mode1.append(stat.mode(vals1))\n",
    "    lower1.append(min(vals1))\n",
    "    upper1.append(max(vals1))\n",
    "\n",
    "\n",
    "len(mode0)\n",
    "ax = sns.lineplot(x=[i for i in range(0,reps)], y=mode0, color='yellow')\n",
    "ax.fill_between(\n",
    "    [i for i in range(0,reps)], lower0, upper0, color='yellow', alpha=.15)\n",
    "ax1 = sns.lineplot(x=[i for i in range(0,reps)], y=mode1, color='r')\n",
    "ax1.fill_between(\n",
    "    [i for i in range(0,reps)], lower1, upper1, color='r', alpha=.15)\n",
    "ax.set_ylim(0,sum(pop.values()))"
   ]
  },
  {
   "cell_type": "code",
   "execution_count": 309,
   "id": "ab069a17",
   "metadata": {},
   "outputs": [
    {
     "data": {
      "image/png": "[encoded data removed]",
      "text/plain": [
       "<Figure size 720x360 with 1 Axes>"
      ]
     },
     "metadata": {
      "needs_background": "light"
     },
     "output_type": "display_data"
    }
   ],
   "source": [
    "(s,b,c) = example3\n",
    "subset = list(flatten(all0))\n",
    "graph =sns.histplot(x=[(i/N) for i in subset], bins=100)\n",
    "#graph.axhline(0, c=\"black\")\n",
    "graph.axvline(0,  c=\"black\")\n",
    "graph.set(xlim=(0, 1))\n",
    "\n",
    "#graph.axhline(-s, c=\"black\", linestyle='--')\n",
    "#graph.axvline(s,  c=\"black\", linestyle='--')\n",
    "graph.legend('')\n",
    "N= sum(pop.values())\n",
    "mu= mutation_rate\n",
    "name = 's'+str(s)+'N'+str(N)+'mu'+str(mu)+'awm'+str(round(b,4))+'amw'+str(round(c,4))+'mu'+str(mu)+'.png'\n",
    "plt.xlim(0,1)\n",
    "plt.ylabel('')\n",
    "plt.tick_params(\n",
    "    axis='y',          # changes apply to the x-axis\n",
    "    which='both',      # both major and minor ticks are affected\n",
    "    left=False,      # ticks along the bottom edge are off\n",
    "    right=False,      # ticks along the top edge are off\n",
    "    labelleft=False)\n",
    "plt.gcf().set_size_inches(10, 5)\n",
    "plt.savefig(name)"
   ]
  },
  {
   "cell_type": "markdown",
   "id": "045c6aa0",
   "metadata": {},
   "source": [
    "#### Example 4"
   ]
  },
  {
   "cell_type": "code",
   "execution_count": 508,
   "id": "fe671fed",
   "metadata": {},
   "outputs": [],
   "source": [
    "example4 = (-0.05, 0.1, 0.05,0.01)\n",
    "example = example4"
   ]
  },
  {
   "cell_type": "code",
   "execution_count": 509,
   "id": "7b021f62",
   "metadata": {},
   "outputs": [
    {
     "name": "stdout",
     "output_type": "stream",
     "text": [
      "0.1\n"
     ]
    }
   ],
   "source": [
    "#outcome = np.array([simulate(s,x,y) for x,y in merged_list ])\n",
    "outcomes = []\n",
    "histories = []\n",
    "histories1 = []\n",
    "mutation_rate = mu = example[3]\n",
    "generations = gens = 500\n",
    "reps = 500\n",
    "\n",
    "for jj in [0.1]:\n",
    "    outcome = []\n",
    "    history = []\n",
    "    history1 =[]\n",
    "    print(jj)\n",
    "    for i in range(1,reps+1):\n",
    "        init = np.random.randint(0,N)\n",
    "        pop = {'0':init,'1':N-init}\n",
    "        #amw = jj\n",
    "        #a = simulate(s,awm,amw)\n",
    "        a = simulate(example[0], example[1], example[2])\n",
    "        history1.append([ii['0'] for ii in a])\n",
    "        history.append(a)\n",
    "        #print(s, j ,k )\n",
    "    outcomes.append(outcome)\n",
    "    histories1.append(flatten(history1))\n",
    "    histories.append(history)"
   ]
  },
  {
   "cell_type": "code",
   "execution_count": 510,
   "id": "c1eb9bb2",
   "metadata": {},
   "outputs": [],
   "source": [
    "histories_example4 = histories"
   ]
  },
  {
   "cell_type": "code",
   "execution_count": 511,
   "id": "d4e39839",
   "metadata": {},
   "outputs": [
    {
     "data": {
      "text/plain": [
       "(0.0, 1000.0)"
      ]
     },
     "execution_count": 511,
     "metadata": {},
     "output_type": "execute_result"
    },
    {
     "data": {
      "image/png": "[encoded data removed]",
      "text/plain": [
       "<Figure size 432x288 with 1 Axes>"
      ]
     },
     "metadata": {
      "needs_background": "light"
     },
     "output_type": "display_data"
    }
   ],
   "source": [
    "mode0, lower0, upper0 = [],[],[]\n",
    "mode1, lower1, upper1 = [],[],[]\n",
    "gens = 500\n",
    "all0=[]\n",
    "for si in range(0,reps):\n",
    "    vals0 = []\n",
    "    vals1=[]\n",
    "    for t in range(300,500):\n",
    "        #print(si, t)\n",
    "        sli = histories_example4[0][si][t]\n",
    "        vals0.append(sli['0'])\n",
    "        vals1.append(sli['1'])\n",
    "        all0.append(vals0)\n",
    "    mode0.append(stat.mode(vals0))\n",
    "    lower0.append(min(vals0))\n",
    "    upper0.append(max(vals0))\n",
    "    mode1.append(stat.mode(vals1))\n",
    "    lower1.append(min(vals1))\n",
    "    upper1.append(max(vals1))\n",
    "\n",
    "\n",
    "len(mode0)\n",
    "ax = sns.lineplot(x=[i for i in range(0,reps)], y=mode0, color='yellow')\n",
    "ax.fill_between(\n",
    "    [i for i in range(0,reps)], lower0, upper0, color='yellow', alpha=.15)\n",
    "ax1 = sns.lineplot(x=[i for i in range(0,reps)], y=mode1, color='r')\n",
    "ax1.fill_between(\n",
    "    [i for i in range(0,reps)], lower1, upper1, color='r', alpha=.15)\n",
    "ax.set_ylim(0,sum(pop.values()))"
   ]
  },
  {
   "cell_type": "code",
   "execution_count": 512,
   "id": "5793ec6c",
   "metadata": {},
   "outputs": [
    {
     "ename": "FileNotFoundError",
     "evalue": "[Errno 2] No such file or directory: '~/Dropbox/ecoepistasis/s-0.05N1000mu0.01awm0.1amw0.05mu0.01.png'",
     "output_type": "error",
     "traceback": [
      "\u001b[0;31m---------------------------------------------------------------------------\u001b[0m",
      "\u001b[0;31mFileNotFoundError\u001b[0m                         Traceback (most recent call last)",
      "\u001b[0;32m/var/folders/sl/s42h4v1x3lb1wkpyy7b8gsw80000gn/T/ipykernel_80160/1598664214.py\u001b[0m in \u001b[0;36m<module>\u001b[0;34m\u001b[0m\n\u001b[1;32m     21\u001b[0m     labelleft=False)\n\u001b[1;32m     22\u001b[0m \u001b[0mplt\u001b[0m\u001b[0;34m.\u001b[0m\u001b[0mgcf\u001b[0m\u001b[0;34m(\u001b[0m\u001b[0;34m)\u001b[0m\u001b[0;34m.\u001b[0m\u001b[0mset_size_inches\u001b[0m\u001b[0;34m(\u001b[0m\u001b[0;36m10\u001b[0m\u001b[0;34m,\u001b[0m \u001b[0;36m5\u001b[0m\u001b[0;34m)\u001b[0m\u001b[0;34m\u001b[0m\u001b[0;34m\u001b[0m\u001b[0m\n\u001b[0;32m---> 23\u001b[0;31m \u001b[0mplt\u001b[0m\u001b[0;34m.\u001b[0m\u001b[0msavefig\u001b[0m\u001b[0;34m(\u001b[0m\u001b[0;34m'~/Dropbox/ecoepistasis/'\u001b[0m\u001b[0;34m+\u001b[0m\u001b[0mname\u001b[0m\u001b[0;34m)\u001b[0m\u001b[0;34m\u001b[0m\u001b[0;34m\u001b[0m\u001b[0m\n\u001b[0m",
      "\u001b[0;32m/usr/local/lib/python3.9/site-packages/matplotlib/pyplot.py\u001b[0m in \u001b[0;36msavefig\u001b[0;34m(*args, **kwargs)\u001b[0m\n\u001b[1;32m   1132\u001b[0m     \u001b[0mmanager\u001b[0m \u001b[0;32mis\u001b[0m \u001b[0mreturned\u001b[0m\u001b[0;34m.\u001b[0m\u001b[0;34m\u001b[0m\u001b[0;34m\u001b[0m\u001b[0m\n\u001b[1;32m   1133\u001b[0m \u001b[0;34m\u001b[0m\u001b[0m\n\u001b[0;32m-> 1134\u001b[0;31m     \u001b[0mReturns\u001b[0m\u001b[0;34m\u001b[0m\u001b[0;34m\u001b[0m\u001b[0m\n\u001b[0m\u001b[1;32m   1135\u001b[0m     \u001b[0;34m-\u001b[0m\u001b[0;34m-\u001b[0m\u001b[0;34m-\u001b[0m\u001b[0;34m-\u001b[0m\u001b[0;34m-\u001b[0m\u001b[0;34m-\u001b[0m\u001b[0;34m-\u001b[0m\u001b[0;34m\u001b[0m\u001b[0;34m\u001b[0m\u001b[0m\n\u001b[1;32m   1136\u001b[0m     \u001b[0;31m`\u001b[0m\u001b[0;34m.\u001b[0m\u001b[0mFigureManagerBase\u001b[0m\u001b[0;31m`\u001b[0m \u001b[0;32mor\u001b[0m \u001b[0mbackend\u001b[0m\u001b[0;34m-\u001b[0m\u001b[0mdependent\u001b[0m \u001b[0msubclass\u001b[0m \u001b[0mthereof\u001b[0m\u001b[0;34m\u001b[0m\u001b[0;34m\u001b[0m\u001b[0m\n",
      "\u001b[0;32m/usr/local/lib/python3.9/site-packages/matplotlib/figure.py\u001b[0m in \u001b[0;36msavefig\u001b[0;34m(self, fname, transparent, **kwargs)\u001b[0m\n\u001b[1;32m   3388\u001b[0m             \u001b[0mself\u001b[0m\u001b[0;34m.\u001b[0m\u001b[0mcanvas\u001b[0m\u001b[0;34m.\u001b[0m\u001b[0mprint_figure\u001b[0m\u001b[0;34m(\u001b[0m\u001b[0mfname\u001b[0m\u001b[0;34m,\u001b[0m \u001b[0;34m**\u001b[0m\u001b[0mkwargs\u001b[0m\u001b[0;34m)\u001b[0m\u001b[0;34m\u001b[0m\u001b[0;34m\u001b[0m\u001b[0m\n\u001b[1;32m   3389\u001b[0m \u001b[0;34m\u001b[0m\u001b[0m\n\u001b[0;32m-> 3390\u001b[0;31m     def ginput(self, n=1, timeout=30, show_clicks=True,\n\u001b[0m\u001b[1;32m   3391\u001b[0m                \u001b[0mmouse_add\u001b[0m\u001b[0;34m=\u001b[0m\u001b[0mMouseButton\u001b[0m\u001b[0;34m.\u001b[0m\u001b[0mLEFT\u001b[0m\u001b[0;34m,\u001b[0m\u001b[0;34m\u001b[0m\u001b[0;34m\u001b[0m\u001b[0m\n\u001b[1;32m   3392\u001b[0m                \u001b[0mmouse_pop\u001b[0m\u001b[0;34m=\u001b[0m\u001b[0mMouseButton\u001b[0m\u001b[0;34m.\u001b[0m\u001b[0mRIGHT\u001b[0m\u001b[0;34m,\u001b[0m\u001b[0;34m\u001b[0m\u001b[0;34m\u001b[0m\u001b[0m\n",
      "\u001b[0;32m/usr/local/lib/python3.9/site-packages/matplotlib/backend_bases.py\u001b[0m in \u001b[0;36mprint_figure\u001b[0;34m(self, filename, dpi, facecolor, edgecolor, orientation, format, bbox_inches, pad_inches, bbox_extra_artists, backend, **kwargs)\u001b[0m\n\u001b[1;32m   2191\u001b[0m                 \u001b[0;32mif\u001b[0m \u001b[0mbbox_inches\u001b[0m \u001b[0;34m==\u001b[0m \u001b[0;34m\"tight\"\u001b[0m\u001b[0;34m:\u001b[0m\u001b[0;34m\u001b[0m\u001b[0;34m\u001b[0m\u001b[0m\n\u001b[1;32m   2192\u001b[0m                     bbox_inches = self.figure.get_tightbbox(\n\u001b[0;32m-> 2193\u001b[0;31m                         renderer, bbox_extra_artists=bbox_extra_artists)\n\u001b[0m\u001b[1;32m   2194\u001b[0m                     if (isinstance(layout_engine, ConstrainedLayoutEngine) and\n\u001b[1;32m   2195\u001b[0m                             pad_inches == \"layout\"):\n",
      "\u001b[0;32m/usr/local/lib/python3.9/site-packages/matplotlib/backend_bases.py\u001b[0m in \u001b[0;36m<lambda>\u001b[0;34m(*args, **kwargs)\u001b[0m\n\u001b[1;32m   2041\u001b[0m             \u001b[0;32mfrom\u001b[0m \u001b[0;34m.\u001b[0m\u001b[0mbackends\u001b[0m\u001b[0;34m.\u001b[0m\u001b[0mregistry\u001b[0m \u001b[0;32mimport\u001b[0m \u001b[0mbackend_registry\u001b[0m\u001b[0;34m\u001b[0m\u001b[0;34m\u001b[0m\u001b[0m\n\u001b[1;32m   2042\u001b[0m             \u001b[0mcanvas_class\u001b[0m \u001b[0;34m=\u001b[0m \u001b[0mbackend_registry\u001b[0m\u001b[0;34m.\u001b[0m\u001b[0mload_backend_module\u001b[0m\u001b[0;34m(\u001b[0m\u001b[0mbackend\u001b[0m\u001b[0;34m)\u001b[0m\u001b[0;34m.\u001b[0m\u001b[0mFigureCanvas\u001b[0m\u001b[0;34m\u001b[0m\u001b[0;34m\u001b[0m\u001b[0m\n\u001b[0;32m-> 2043\u001b[0;31m             \u001b[0;32mif\u001b[0m \u001b[0;32mnot\u001b[0m \u001b[0mhasattr\u001b[0m\u001b[0;34m(\u001b[0m\u001b[0mcanvas_class\u001b[0m\u001b[0;34m,\u001b[0m \u001b[0;34mf\"print_{fmt}\"\u001b[0m\u001b[0;34m)\u001b[0m\u001b[0;34m:\u001b[0m\u001b[0;34m\u001b[0m\u001b[0;34m\u001b[0m\u001b[0m\n\u001b[0m\u001b[1;32m   2044\u001b[0m                 raise ValueError(\n\u001b[1;32m   2045\u001b[0m                     f\"The {backend!r} backend does not support {fmt} output\")\n",
      "\u001b[0;32m/usr/local/lib/python3.9/site-packages/matplotlib/backends/backend_agg.py\u001b[0m in \u001b[0;36mprint_png\u001b[0;34m(self, filename_or_obj, metadata, pil_kwargs)\u001b[0m\n\u001b[1;32m    495\u001b[0m         \"\"\"\n\u001b[1;32m    496\u001b[0m         \u001b[0mself\u001b[0m\u001b[0;34m.\u001b[0m\u001b[0m_print_pil\u001b[0m\u001b[0;34m(\u001b[0m\u001b[0mfilename_or_obj\u001b[0m\u001b[0;34m,\u001b[0m \u001b[0;34m\"png\"\u001b[0m\u001b[0;34m,\u001b[0m \u001b[0mpil_kwargs\u001b[0m\u001b[0;34m,\u001b[0m \u001b[0mmetadata\u001b[0m\u001b[0;34m)\u001b[0m\u001b[0;34m\u001b[0m\u001b[0;34m\u001b[0m\u001b[0m\n\u001b[0;32m--> 497\u001b[0;31m \u001b[0;34m\u001b[0m\u001b[0m\n\u001b[0m\u001b[1;32m    498\u001b[0m     \u001b[0;32mdef\u001b[0m \u001b[0mprint_to_buffer\u001b[0m\u001b[0;34m(\u001b[0m\u001b[0mself\u001b[0m\u001b[0;34m)\u001b[0m\u001b[0;34m:\u001b[0m\u001b[0;34m\u001b[0m\u001b[0;34m\u001b[0m\u001b[0m\n\u001b[1;32m    499\u001b[0m         \u001b[0mFigureCanvasAgg\u001b[0m\u001b[0;34m.\u001b[0m\u001b[0mdraw\u001b[0m\u001b[0;34m(\u001b[0m\u001b[0mself\u001b[0m\u001b[0;34m)\u001b[0m\u001b[0;34m\u001b[0m\u001b[0;34m\u001b[0m\u001b[0m\n",
      "\u001b[0;32m/usr/local/lib/python3.9/site-packages/matplotlib/backends/backend_agg.py\u001b[0m in \u001b[0;36m_print_pil\u001b[0;34m(self, filename_or_obj, fmt, pil_kwargs, metadata)\u001b[0m\n\u001b[1;32m    444\u001b[0m         \u001b[0mFigureCanvasAgg\u001b[0m\u001b[0;34m.\u001b[0m\u001b[0mdraw\u001b[0m\u001b[0;34m(\u001b[0m\u001b[0mself\u001b[0m\u001b[0;34m)\u001b[0m\u001b[0;34m\u001b[0m\u001b[0;34m\u001b[0m\u001b[0m\n\u001b[1;32m    445\u001b[0m         mpl.image.imsave(\n\u001b[0;32m--> 446\u001b[0;31m             \u001b[0mfilename_or_obj\u001b[0m\u001b[0;34m,\u001b[0m \u001b[0mself\u001b[0m\u001b[0;34m.\u001b[0m\u001b[0mbuffer_rgba\u001b[0m\u001b[0;34m(\u001b[0m\u001b[0;34m)\u001b[0m\u001b[0;34m,\u001b[0m \u001b[0mformat\u001b[0m\u001b[0;34m=\u001b[0m\u001b[0mfmt\u001b[0m\u001b[0;34m,\u001b[0m \u001b[0morigin\u001b[0m\u001b[0;34m=\u001b[0m\u001b[0;34m\"upper\"\u001b[0m\u001b[0;34m,\u001b[0m\u001b[0;34m\u001b[0m\u001b[0;34m\u001b[0m\u001b[0m\n\u001b[0m\u001b[1;32m    447\u001b[0m             dpi=self.figure.dpi, metadata=metadata, pil_kwargs=pil_kwargs)\n\u001b[1;32m    448\u001b[0m \u001b[0;34m\u001b[0m\u001b[0m\n",
      "\u001b[0;32m/usr/local/lib/python3.9/site-packages/matplotlib/image.py\u001b[0m in \u001b[0;36mimsave\u001b[0;34m(fname, arr, vmin, vmax, cmap, format, origin, dpi, metadata, pil_kwargs)\u001b[0m\n\u001b[1;32m   1654\u001b[0m                 metadata = {\n\u001b[1;32m   1655\u001b[0m                     \"Software\": (f\"Matplotlib version{mpl.__version__}, \"\n\u001b[0;32m-> 1656\u001b[0;31m                                  f\"https://matplotlib.org/\"),\n\u001b[0m\u001b[1;32m   1657\u001b[0m                     \u001b[0;34m**\u001b[0m\u001b[0;34m(\u001b[0m\u001b[0mmetadata\u001b[0m \u001b[0;32mif\u001b[0m \u001b[0mmetadata\u001b[0m \u001b[0;32mis\u001b[0m \u001b[0;32mnot\u001b[0m \u001b[0;32mNone\u001b[0m \u001b[0;32melse\u001b[0m \u001b[0;34m{\u001b[0m\u001b[0;34m}\u001b[0m\u001b[0;34m)\u001b[0m\u001b[0;34m,\u001b[0m\u001b[0;34m\u001b[0m\u001b[0;34m\u001b[0m\u001b[0m\n\u001b[1;32m   1658\u001b[0m                 }\n",
      "\u001b[0;32m/usr/local/lib/python3.9/site-packages/PIL/Image.py\u001b[0m in \u001b[0;36msave\u001b[0;34m(self, fp, format, **params)\u001b[0m\n\u001b[1;32m   2207\u001b[0m                 \u001b[0mfp\u001b[0m \u001b[0;34m=\u001b[0m \u001b[0mbuiltins\u001b[0m\u001b[0;34m.\u001b[0m\u001b[0mopen\u001b[0m\u001b[0;34m(\u001b[0m\u001b[0mfilename\u001b[0m\u001b[0;34m,\u001b[0m \u001b[0;34m\"r+b\"\u001b[0m\u001b[0;34m)\u001b[0m\u001b[0;34m\u001b[0m\u001b[0;34m\u001b[0m\u001b[0m\n\u001b[1;32m   2208\u001b[0m             \u001b[0;32melse\u001b[0m\u001b[0;34m:\u001b[0m\u001b[0;34m\u001b[0m\u001b[0;34m\u001b[0m\u001b[0m\n\u001b[0;32m-> 2209\u001b[0;31m                 \u001b[0mfp\u001b[0m \u001b[0;34m=\u001b[0m \u001b[0mbuiltins\u001b[0m\u001b[0;34m.\u001b[0m\u001b[0mopen\u001b[0m\u001b[0;34m(\u001b[0m\u001b[0mfilename\u001b[0m\u001b[0;34m,\u001b[0m \u001b[0;34m\"w+b\"\u001b[0m\u001b[0;34m)\u001b[0m\u001b[0;34m\u001b[0m\u001b[0;34m\u001b[0m\u001b[0m\n\u001b[0m\u001b[1;32m   2210\u001b[0m \u001b[0;34m\u001b[0m\u001b[0m\n\u001b[1;32m   2211\u001b[0m         \u001b[0;32mtry\u001b[0m\u001b[0;34m:\u001b[0m\u001b[0;34m\u001b[0m\u001b[0;34m\u001b[0m\u001b[0m\n",
      "\u001b[0;31mFileNotFoundError\u001b[0m: [Errno 2] No such file or directory: '~/Dropbox/ecoepistasis/s-0.05N1000mu0.01awm0.1amw0.05mu0.01.png'"
     ]
    },
    {
     "data": {
      "image/png": "[encoded data removed]",
      "text/plain": [
       "<Figure size 720x360 with 1 Axes>"
      ]
     },
     "metadata": {
      "needs_background": "light"
     },
     "output_type": "display_data"
    }
   ],
   "source": [
    "(s,b,c,mu) = example4\n",
    "subset = list(flatten(all0))\n",
    "graph =sns.histplot(x=[(i/N) for i in subset], bins=50)\n",
    "#graph.axhline(0, c=\"black\")\n",
    "graph.axvline(0,  c=\"black\")\n",
    "graph.set(xlim=(0, 1))\n",
    "\n",
    "#graph.axhline(-s, c=\"black\", linestyle='--')\n",
    "#graph.axvline(s,  c=\"black\", linestyle='--')\n",
    "graph.legend('')\n",
    "N= sum(pop.values())\n",
    "mu= mutation_rate\n",
    "name = 's'+str(s)+'N'+str(N)+'mu'+str(mu)+'awm'+str(round(b,4))+'amw'+str(round(c,4))+'mu'+str(mu)+'.png'\n",
    "plt.xlim(0,1)\n",
    "plt.ylabel('')\n",
    "plt.tick_params(\n",
    "    axis='y',          # changes apply to the x-axis\n",
    "    which='both',      # both major and minor ticks are affected\n",
    "    left=False,      # ticks along the bottom edge are off\n",
    "    right=False,      # ticks along the top edge are off\n",
    "    labelleft=False)\n",
    "plt.gcf().set_size_inches(10, 5)\n",
    "plt.savefig('~/Dropbox/ecoepistasis/'+name)"
   ]
  },
  {
   "cell_type": "code",
   "execution_count": null,
   "id": "d7ba3461",
   "metadata": {},
   "outputs": [],
   "source": []
  }
 ],
 "metadata": {
  "colab": {
   "provenance": []
  },
  "kernelspec": {
   "display_name": "Python 3 (ipykernel)",
   "language": "python",
   "name": "python3"
  },
  "language_info": {
   "codemirror_mode": {
    "name": "ipython",
    "version": 3
   },
   "file_extension": ".py",
   "mimetype": "text/x-python",
   "name": "python",
   "nbconvert_exporter": "python",
   "pygments_lexer": "ipython3",
   "version": "3.9.18"
  }
 },
 "nbformat": 4,
 "nbformat_minor": 5
}
