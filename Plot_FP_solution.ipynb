{
  "cells": [
    {
      "cell_type": "markdown",
      "metadata": {
        "id": "view-in-github",
        "colab_type": "text"
      },
      "source": [
        "<a href=\"https://colab.research.google.com/github/rbarkerclarke/MaskMimicMaintain/blob/main/Plot_FP_solution.ipynb\" target=\"_parent\"><img src=\"https://colab.research.google.com/assets/colab-badge.svg\" alt=\"Open In Colab\"/></a>"
      ]
    },
    {
      "cell_type": "code",
      "source": [
        "!pip install emcee\n",
        "!pip install -r /content/spatial-fokker-planck/requirements.txt\n"
      ],
      "metadata": {
        "colab": {
          "base_uri": "https://localhost:8080/"
        },
        "id": "MZbfXV_Ek8Gl",
        "outputId": "a8944a5c-4139-4b8b-86ff-5ce97da887f1"
      },
      "id": "MZbfXV_Ek8Gl",
      "execution_count": 28,
      "outputs": [
        {
          "output_type": "stream",
          "name": "stdout",
          "text": [
            "Requirement already satisfied: emcee in /usr/local/lib/python3.11/dist-packages (3.1.6)\n",
            "Requirement already satisfied: numpy in /usr/local/lib/python3.11/dist-packages (from emcee) (2.0.2)\n",
            "\u001b[31mERROR: Invalid requirement: '_libgcc_mutex=0.1=main': Expected package name at the start of dependency specifier\n",
            "    _libgcc_mutex=0.1=main\n",
            "    ^ (from line 4 of /content/spatial-fokker-planck/requirements.txt)\n",
            "Hint: = is not a valid operator. Did you mean == ?\u001b[0m\u001b[31m\n",
            "\u001b[0m"
          ]
        }
      ]
    },
    {
      "cell_type": "code",
      "execution_count": 2,
      "id": "5ccf4e83",
      "metadata": {
        "id": "5ccf4e83"
      },
      "outputs": [],
      "source": [
        "import matplotlib.pyplot as plt\n",
        "import numpy as np\n",
        "import random\n",
        "import seaborn as sns\n",
        "%matplotlib inline"
      ]
    },
    {
      "cell_type": "code",
      "execution_count": 3,
      "id": "be185664",
      "metadata": {
        "id": "be185664"
      },
      "outputs": [],
      "source": [
        "def fx(x,awm,amw,s,mu):\n",
        "    if awm==0:\n",
        "        return(s*x)\n",
        "    f = (-x + mu*np.log(1-x)+mu*np.log(x)-x*amw/awm + np.log(1+x*awm)*(amw + (1+s+amw)*awm)/(awm**2))\n",
        "    #fx = (-a21*(a12+a21)*x + (a12+a21+a12*a21+a21*s)*np.log(1+ a21+ a21*x))/(a21**2)\n",
        "\n",
        "    return(f)\n",
        "\n",
        "def potential(x,N, mu, a12,a21,s):\n",
        "    phi = np.log(x*(1-x)/2*N)-2*N*fx(x,a12,a21,s,mu)\n",
        "    return(phi)\n",
        "\n"
      ]
    },
    {
      "cell_type": "code",
      "execution_count": 4,
      "id": "ff4a718e",
      "metadata": {
        "id": "ff4a718e"
      },
      "outputs": [],
      "source": [
        "vals = 1000 # number of points to evaluate function over\n",
        "\n",
        "p = np.linspace(0.001,0.999,vals)\n",
        "\n",
        "# Function values\n",
        "N=1000\n",
        "mu=0.01\n",
        "s=+0.1\n",
        "\n",
        "\n",
        "a12_list = [round(random.uniform(-0.1, 0.1),3) for i in range(20)]\n",
        "a21_list = [round(random.uniform(-0.1, 0.1),3) for i in range(20)]\n",
        "\n",
        "fp_sol = []\n",
        "fp_mode=[]\n",
        "fp_pot=[]\n",
        "\n",
        "for a12,a21 in zip(a12_list, a21_list):\n",
        "    j=a12 = 0.14\n",
        "    k=a21 = 0.16\n",
        "    q = potential(p,N, mu, a12,a21,s)\n",
        "    #mean_pot = np.mean(q)\n",
        "    #print(q)# - mean_pot)\n",
        "    c = np.exp(-(q)) #-mean_pot))\n",
        "    #print(c)\n",
        "    #print(sum(c))\n",
        "    fp_pot.append(-q)\n",
        "    fp_sol.append(c)\n",
        "    fp_mode.append(p[c==max(c)])\n"
      ]
    },
    {
      "cell_type": "markdown",
      "id": "3420d5eb",
      "metadata": {
        "id": "3420d5eb"
      },
      "source": [
        "Solution for single alpha pair"
      ]
    },
    {
      "cell_type": "code",
      "execution_count": 6,
      "id": "ad4f9b05",
      "metadata": {
        "colab": {
          "base_uri": "https://localhost:8080/",
          "height": 385
        },
        "id": "ad4f9b05",
        "outputId": "2966cb9b-ac30-4fa9-e8ba-aaacf819bd87"
      },
      "outputs": [
        {
          "output_type": "stream",
          "name": "stdout",
          "text": [
            "s_0.1_amw_0.14awm_0.16mu_0.01\n"
          ]
        },
        {
          "output_type": "display_data",
          "data": {
            "text/plain": [
              "<Figure size 300x400 with 1 Axes>"
            ],
            "image/png": "[encoded data removed]"
          },
          "metadata": {}
        }
      ],
      "source": [
        "name = 's_'+str(s)+'_amw_'+str(round(a12,4))+'awm_'+str(round(a21,4))+'mu_'+str(mu)\n",
        "print(name)\n",
        "i=1\n",
        "plt.plot(p, fp_sol[i]/sum(fp_sol[i]), color = 'darkblue')\n",
        "plt.xlim(0,1)\n",
        "plt.ylim(0)\n",
        "plt.tick_params(\n",
        "    axis='y',          # changes apply to the x-axis\n",
        "    which='both',      # both major and minor ticks are affected\n",
        "    left=False,      # ticks along the bottom edge are off\n",
        "    right=False,      # ticks along the top edge are off\n",
        "    labelleft=False)\n",
        "plt.gcf().set_size_inches(3, 4)\n",
        "plt.savefig(name+'.png',dpi=300)"
      ]
    },
    {
      "cell_type": "markdown",
      "id": "60446be7",
      "metadata": {
        "id": "60446be7"
      },
      "source": [
        "Solution for many alphas"
      ]
    },
    {
      "cell_type": "code",
      "execution_count": null,
      "id": "62263fec",
      "metadata": {
        "id": "62263fec"
      },
      "outputs": [],
      "source": [
        "vals = 1000 # number of points to evaluate function over\n",
        "\n",
        "p = np.linspace(0.01,0.99,vals)\n",
        "\n",
        "# Function values\n",
        "N=1000\n",
        "mu=0.01\n",
        "s=-0.05\n",
        "\n",
        "\n",
        "a12_list = [round(random.uniform(-0.3, 0.3),7) for i in range(100000)]\n",
        "a21_list = [round(random.uniform(-0.3, 0.3),7) for i in range(100000)]\n",
        "\n",
        "fp_sol = []\n",
        "fp_mode=[]\n",
        "fp_pot=[]\n",
        "\n",
        "for a12,a21 in zip(a12_list, a21_list):\n",
        "\n",
        "    #a12 = 0.1\n",
        "    j=a12\n",
        "    #a21 = -0.091091\n",
        "    k=a21# =\n",
        "    #print(p,N, mu, a12,a21,s)\n",
        "    q = potential(p,N, mu, a12,a21,s)\n",
        "    #print(a12,a21)\n",
        "    mean_pot = np.mean(q)\n",
        "    #print(q - mean_pot)\n",
        "    c = np.exp(-(q)) #-mean_pot\n",
        "    fp_pot.append(-q)\n",
        "    fp_sol.append(c)\n",
        "    fp_mode.append(p[c==max(c)][0])\n",
        "\n"
      ]
    },
    {
      "cell_type": "code",
      "execution_count": null,
      "id": "a307a14e",
      "metadata": {
        "id": "a307a14e"
      },
      "outputs": [],
      "source": [
        "g =sns.scatterplot(x=a12_list, y=a21_list, hue = fp_mode,legend=False, edgecolor = \"none\")\n",
        "\n",
        "# save the plot as PNG file\n",
        "plt.axhline(0,c='black')\n",
        "plt.axvline(0,c='black')\n",
        "plt.savefig('theoreticalMODE.png', dpi=300)\n"
      ]
    },
    {
      "cell_type": "code",
      "execution_count": null,
      "id": "4c37321c",
      "metadata": {
        "scrolled": true,
        "id": "4c37321c"
      },
      "outputs": [],
      "source": [
        "name = 's_'+str(s)+'_amw_'+str(round(a12,4))+'awm_'+str(round(a21,4))+'mu_'+str(mu)\n",
        "print(name)\n",
        "plt.plot(p, fp_sol[i]/sum(fp_sol[i]), color = 'darkblue')\n",
        "plt.xlim(0,1)\n",
        "plt.ylim(0)\n",
        "plt.tick_params(\n",
        "    axis='y',          # changes apply to the x-axis\n",
        "    which='both',      # both major and minor ticks are affected\n",
        "    left=False,      # ticks along the bottom edge are off\n",
        "    right=False,      # ticks along the top edge are off\n",
        "    labelleft=False)\n",
        "plt.gcf().set_size_inches(3, 4)\n",
        "plt.savefig(name+'.png',dpi=200)"
      ]
    },
    {
      "cell_type": "code",
      "execution_count": null,
      "id": "8b2d9aa1",
      "metadata": {
        "id": "8b2d9aa1"
      },
      "outputs": [],
      "source": []
    },
    {
      "cell_type": "code",
      "execution_count": null,
      "id": "8fa1187d",
      "metadata": {
        "id": "8fa1187d"
      },
      "outputs": [],
      "source": [
        "print('s'+str(s)+'a12_'+str(round(a12_list[i],4))+'a21_'+str(round(a21_list[i],4)))\n",
        "plt.plot(p, fp_sol[i]*N*mu/sum(fp_sol[i]), color = 'darkblue')\n",
        "plt.xlim(0,1)\n",
        "plt.ylim(0)"
      ]
    },
    {
      "cell_type": "code",
      "execution_count": null,
      "id": "eb573bbd",
      "metadata": {
        "id": "eb573bbd"
      },
      "outputs": [],
      "source": []
    },
    {
      "cell_type": "code",
      "execution_count": null,
      "id": "3068d344",
      "metadata": {
        "scrolled": true,
        "id": "3068d344"
      },
      "outputs": [],
      "source": [
        "plt.plot(p, fp_pot[0]/sum(fp_pot[0]), color = 'darkblue')"
      ]
    },
    {
      "cell_type": "code",
      "execution_count": null,
      "id": "3ee227cb",
      "metadata": {
        "id": "3ee227cb"
      },
      "outputs": [],
      "source": [
        "i = 7\n",
        "\n",
        "print('s'+str(s)+'a12_'+str(round(a12_list[i],4))+'a21_'+str(round(a21_list[i],4)))\n",
        "plt.plot(p, fp_sol[i]/sum(fp_sol[i]), color = 'darkblue')\n",
        "plt.xlim(0,1)\n",
        "plt.ylim(0)"
      ]
    },
    {
      "cell_type": "code",
      "execution_count": null,
      "id": "9f455337",
      "metadata": {
        "id": "9f455337"
      },
      "outputs": [],
      "source": [
        "i = 17\n",
        "print('s'+str(s)+'a12_'+str(round(a12_list[i],4))+'a21_'+str(round(a21_list[i],4)))\n",
        "plt.plot(p, fp_sol[i]/sum(fp_sol[i]), color = 'darkblue')\n",
        "plt.xlim(0,1)\n",
        "plt.ylim(0)"
      ]
    },
    {
      "cell_type": "code",
      "execution_count": null,
      "id": "54eb7502",
      "metadata": {
        "id": "54eb7502"
      },
      "outputs": [],
      "source": [
        "i = 7\n",
        "print('s'+str(s)+'a12_'+str(round(a12_list[i],4))+'a21_'+str(round(a21_list[i],4)))\n",
        "plt.plot(p, fp_sol[i]/sum(fp_sol[i]), color = 'darkblue')\n",
        "plt.xlim(0,1)\n",
        "plt.ylim(0)"
      ]
    },
    {
      "cell_type": "code",
      "execution_count": null,
      "id": "071bc1c5",
      "metadata": {
        "id": "071bc1c5"
      },
      "outputs": [],
      "source": [
        "i = 4\n",
        "print('s'+str(s)+'a12_'+str(round(a12_list[i],4))+'a21_'+str(round(a21_list[i],4)))\n",
        "plt.plot(p, fp_sol[i]/sum(fp_sol[i]), color = 'darkblue')\n",
        "plt.xlim(0,1)\n",
        "plt.ylim(0)"
      ]
    },
    {
      "cell_type": "code",
      "execution_count": null,
      "id": "0e40cb6b",
      "metadata": {
        "id": "0e40cb6b"
      },
      "outputs": [],
      "source": [
        "i = 1\n",
        "print('s'+str(s)+'a12_'+str(round(a12_list[i],4))+'a21_'+str(round(a21_list[i],4)))\n",
        "plt.plot(p, fp_sol[i]/sum(fp_sol[i]), color = 'darkblue')\n",
        "plt.xlim(0,1)\n",
        "plt.ylim(0)"
      ]
    },
    {
      "cell_type": "code",
      "execution_count": null,
      "id": "37392386",
      "metadata": {
        "id": "37392386"
      },
      "outputs": [],
      "source": [
        "i = 6\n",
        "print('s'+str(s)+'a12_'+str(round(a12_list[i],4))+'a21_'+str(round(a21_list[i],4)))\n",
        "plt.plot(p, fp_sol[i]/sum(fp_sol[i]), color = 'darkblue')\n",
        "plt.xlim(0,1)\n",
        "plt.ylim(0)"
      ]
    },
    {
      "cell_type": "code",
      "execution_count": null,
      "id": "c4f5b191",
      "metadata": {
        "id": "c4f5b191"
      },
      "outputs": [],
      "source": []
    },
    {
      "cell_type": "code",
      "execution_count": null,
      "id": "9b8b7079",
      "metadata": {
        "id": "9b8b7079"
      },
      "outputs": [],
      "source": [
        "i = 0\n",
        "print('s'+str(s)+'a12_'+str(round(a12_list[i],4))+'a21_'+str(round(a21_list[i],4)))\n",
        "plt.plot(p, fp_sol[i]/sum(fp_sol[i]), color = 'darkblue')\n",
        "plt.xlim(0,1)\n",
        "plt.ylim(0)"
      ]
    },
    {
      "cell_type": "code",
      "execution_count": null,
      "id": "b995e056",
      "metadata": {
        "id": "b995e056"
      },
      "outputs": [],
      "source": [
        "graph =sns.scatterplot(x =a12_list, y=a21_list, hue=fp_mean, linewidth=0)\n",
        "graph.axhline(0, c=\"black\")\n",
        "graph.axvline(0,  c=\"black\")\n",
        "graph.axhline(s, c=\"black\", linestyle='--')\n",
        "graph.axvline(-s,  c=\"black\", linestyle='--')\n",
        "graph.legend('')\n",
        "\n",
        "print(s, N, mu)\n",
        "\n"
      ]
    },
    {
      "cell_type": "code",
      "execution_count": null,
      "id": "9b7e6564",
      "metadata": {
        "id": "9b7e6564"
      },
      "outputs": [],
      "source": [
        "if (a12>-2 and a21>-2):\n",
        "    plt.figure()\n",
        "    plt.plot(p,np.log(c))\n",
        "    plt.text(np.min(p), np.log(np.min(c)), (round(a12,2),round(a21,2)))\n",
        "    plt.show()\n",
        "    plt.figure()\n",
        "    plt.plot(p,c)\n",
        "    plt.text(np.min(p), np.min(c), (round(a12,2),round(a21,2)))\n",
        "    plt.show()"
      ]
    },
    {
      "cell_type": "code",
      "execution_count": null,
      "id": "1bd3af38",
      "metadata": {
        "id": "1bd3af38"
      },
      "outputs": [],
      "source": [
        "#c = np.exp(-potential(b,N, mu, a12,a21,s))\n"
      ]
    },
    {
      "cell_type": "code",
      "execution_count": null,
      "id": "8969b65a",
      "metadata": {
        "id": "8969b65a"
      },
      "outputs": [],
      "source": [
        "potential(x,N,mu,a12,a21,s)"
      ]
    },
    {
      "cell_type": "markdown",
      "source": [
        "Import fitting code from Sydney's Repository"
      ],
      "metadata": {
        "id": "VYn_x0NYjkUY"
      },
      "id": "VYn_x0NYjkUY"
    },
    {
      "cell_type": "code",
      "execution_count": 16,
      "id": "d2d251a5",
      "metadata": {
        "id": "d2d251a5",
        "colab": {
          "base_uri": "https://localhost:8080/"
        },
        "outputId": "c28e2566-295a-451c-97fb-7a1f2e811555"
      },
      "outputs": [
        {
          "output_type": "stream",
          "name": "stdout",
          "text": [
            "fatal: destination path 'spatial-fokker-planck' already exists and is not an empty directory.\n"
          ]
        }
      ],
      "source": [
        "!git clone https://github.com/sydleither/spatial-fokker-planck.git\n"
      ]
    },
    {
      "cell_type": "code",
      "source": [
        "!git clone https://github.com/rbarkerclarke/MaskMimicMaintain/"
      ],
      "metadata": {
        "colab": {
          "base_uri": "https://localhost:8080/"
        },
        "id": "NvQTKAP6owwa",
        "outputId": "a0c65da9-b349-497b-875d-3d59a3a719b6"
      },
      "id": "NvQTKAP6owwa",
      "execution_count": 40,
      "outputs": [
        {
          "output_type": "stream",
          "name": "stdout",
          "text": [
            "Cloning into 'MaskMimicMaintain'...\n",
            "remote: Enumerating objects: 100, done.\u001b[K\n",
            "remote: Counting objects: 100% (100/100), done.\u001b[K\n",
            "remote: Compressing objects: 100% (81/81), done.\u001b[K\n",
            "remote: Total 100 (delta 44), reused 46 (delta 17), pack-reused 0 (from 0)\u001b[K\n",
            "Receiving objects: 100% (100/100), 6.12 MiB | 24.11 MiB/s, done.\n",
            "Resolving deltas: 100% (44/44), done.\n"
          ]
        }
      ]
    },
    {
      "cell_type": "code",
      "source": [
        "\n",
        "import sys\n",
        "sys.path.append('/content/spatial-fokker-planck/')\n",
        "sys.path.append('/content/MaskMimicMaintain/')\n",
        "\n",
        "from importlib import reload  # Python 3.4+\n",
        "\n"
      ],
      "metadata": {
        "id": "SprgWc53jwLv"
      },
      "id": "SprgWc53jwLv",
      "execution_count": 46,
      "outputs": []
    },
    {
      "cell_type": "code",
      "source": [
        "!python  /content/spatial-fokker-planck/mcmc_fit_to_self.py 100 0.01 0.01 0.01 0.01"
      ],
      "metadata": {
        "id": "vId4taydkOSI"
      },
      "id": "vId4taydkOSI",
      "execution_count": 30,
      "outputs": []
    },
    {
      "cell_type": "code",
      "source": [
        "!python /content/spatial-fokker-planck/mcmc_fit_to_data.py"
      ],
      "metadata": {
        "colab": {
          "base_uri": "https://localhost:8080/"
        },
        "id": "zhyAh3nHlqrF",
        "outputId": "866a47f3-b4a7-45a5-bb11-79044e9bc5cc"
      },
      "id": "zhyAh3nHlqrF",
      "execution_count": 31,
      "outputs": [
        {
          "output_type": "stream",
          "name": "stdout",
          "text": [
            "Please provide N, mu, and the data path.\n"
          ]
        }
      ]
    },
    {
      "cell_type": "code",
      "source": [],
      "metadata": {
        "id": "3z-QxEVpqvIB"
      },
      "id": "3z-QxEVpqvIB",
      "execution_count": null,
      "outputs": []
    },
    {
      "cell_type": "markdown",
      "source": [
        "Generate simulation to plot"
      ],
      "metadata": {
        "id": "SajUaLZzouXC"
      },
      "id": "SajUaLZzouXC"
    },
    {
      "cell_type": "code",
      "source": [
        "import importlib\n",
        "import WFutils\n",
        "importlib.reload(WFutils)\n",
        "from WFutils import *\n",
        "\n",
        "pop = {'0':50,'1':50}\n",
        "\n",
        "#outcome = np.array([simulate(s,x,y) for x,y in merged_list ])\n",
        "outcomes = []\n",
        "histories = []\n",
        "histories1 = []\n",
        "s=0      # Intrinsic selection difference\n",
        "sm=0.11    # Selection to mimic\n",
        "mutation_rate = mu = 0.01\n",
        "generations = gens = 100000\n",
        "reps = 1\n",
        "\n",
        "for jj in np.linspace(-0.1,0.1,2):\n",
        "    outcome = []\n",
        "    history = []\n",
        "    history1=[]\n",
        "    print(jj)\n",
        "    for i in range(1,reps+1):\n",
        "        pop = {'0':50,'1':50}\n",
        "        amw = jj\n",
        "        awm = mimic_0(amw, s=sm)\n",
        "        a = simulate(s,awm,amw,pop,mu, generations)\n",
        "        history1.append([ii['0'] for ii in a])\n",
        "        history.append(a)\n",
        "        #print(s, j ,k )\n",
        "    outcomes.append(outcome)\n",
        "    histories1.append(flatten(history1))\n",
        "    histories.append(history)\n"
      ],
      "metadata": {
        "colab": {
          "base_uri": "https://localhost:8080/"
        },
        "id": "Pkdpl-pYmcdq",
        "outputId": "1d4d81ec-5cd5-4d58-f5c2-7b5749052193"
      },
      "id": "Pkdpl-pYmcdq",
      "execution_count": 272,
      "outputs": [
        {
          "output_type": "stream",
          "name": "stdout",
          "text": [
            "-0.1\n",
            "0.1\n"
          ]
        }
      ]
    },
    {
      "cell_type": "code",
      "source": [
        "import random\n",
        "import matplotlib.pyplot as plt\n",
        "from matplotlib.pyplot import plot\n",
        "\n",
        "n= sum(pop.values())\n",
        "\n",
        "WTfreqs=[i['0']/n for i in flatten(histories[1])]\n",
        "WTfreqs_sample = random.sample(WTfreqs, 10000)\n",
        "\n",
        "# Generate WF simulation data\n",
        "counts, bins, patches = plt.hist(WTfreqs_sample, bins=np.linspace(0.01, 0.99, n+1))\n",
        "counts = counts/sum(counts)\n",
        "\n"
      ],
      "metadata": {
        "colab": {
          "base_uri": "https://localhost:8080/",
          "height": 430
        },
        "id": "8OUFoeCry_fJ",
        "outputId": "d44f71d7-aa9e-468b-8812-661250a36fee"
      },
      "id": "8OUFoeCry_fJ",
      "execution_count": 273,
      "outputs": [
        {
          "output_type": "display_data",
          "data": {
            "text/plain": [
              "<Figure size 640x480 with 1 Axes>"
            ],
            "image/png": "[encoded data removed]"
          },
          "metadata": {}
        }
      ]
    },
    {
      "cell_type": "code",
      "source": [
        "\n",
        "\n",
        "import sys\n",
        "\n",
        "import numpy as np\n",
        "\n",
        "params = (n, mu, awm, amw, sm)\n",
        "params = [float(x) for x in params]\n",
        "true_params = params[2:]\n",
        "print(params)\n",
        "\n",
        "\n",
        "from fokker_planck import FokkerPlanck, param_names\n",
        "from mcmc_utils import (mcmc, plot_walker_curves,\n",
        "                        plot_walker_gamespace, plot_walker_params)\n",
        "\n",
        "n=sum(pop.values())\n",
        "fp = FokkerPlanck(n, mu).fokker_planck\n",
        "xdata = np.linspace(0.01, 0.99, n)\n",
        "\n",
        "ydata= counts\n",
        "\n",
        "walker_ends = mcmc(fp, xdata, ydata)\n",
        "save_loc=\".\"\n",
        "\n",
        "file_name = \"_\".join([f\"{param_names[i]}={params[i]}\" for i in range(len(params))])\n",
        "plot_walker_curves(save_loc, file_name, fp, walker_ends, xdata, ydata)\n",
        "plot_walker_gamespace(save_loc, file_name, walker_ends, true_params)\n",
        "plot_walker_params(save_loc, file_name, walker_ends)\n",
        "\n",
        "\n"
      ],
      "metadata": {
        "colab": {
          "base_uri": "https://localhost:8080/"
        },
        "id": "xhOYaY9svhcV",
        "outputId": "5ff21ac6-1a0c-4f5a-811b-fc2801f3402c"
      },
      "id": "xhOYaY9svhcV",
      "execution_count": 274,
      "outputs": [
        {
          "output_type": "stream",
          "name": "stdout",
          "text": [
            "[100.0, 0.01, -0.09909909909909909, 0.1, 0.11]\n"
          ]
        },
        {
          "output_type": "stream",
          "name": "stderr",
          "text": [
            "/content/spatial-fokker-planck/mcmc_utils.py:93: RuntimeWarning: divide by zero encountered in divide\n",
            "  return -0.5*np.sum(((y-func(x, *params))/yerr)**2)\n",
            "/usr/local/lib/python3.11/dist-packages/emcee/moves/red_blue.py:99: RuntimeWarning: invalid value encountered in scalar subtract\n",
            "  lnpdiff = f + nlp - state.log_prob[j]\n"
          ]
        }
      ]
    }
  ],
  "metadata": {
    "kernelspec": {
      "display_name": "Python 3 (ipykernel)",
      "language": "python",
      "name": "python3"
    },
    "language_info": {
      "codemirror_mode": {
        "name": "ipython",
        "version": 3
      },
      "file_extension": ".py",
      "mimetype": "text/x-python",
      "name": "python",
      "nbconvert_exporter": "python",
      "pygments_lexer": "ipython3",
      "version": "3.9.18"
    },
    "colab": {
      "provenance": [],
      "include_colab_link": true
    }
  },
  "nbformat": 4,
  "nbformat_minor": 5
}